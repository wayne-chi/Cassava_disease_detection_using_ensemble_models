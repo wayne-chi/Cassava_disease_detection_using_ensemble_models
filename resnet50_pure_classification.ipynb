{
  "cells": [
    {
      "cell_type": "markdown",
      "metadata": {
        "id": "view-in-github",
        "colab_type": "text"
      },
      "source": [
        "<a href=\"https://colab.research.google.com/github/wayne-chi/Cassava_disease_detection_using_ensemble_models/blob/main/resnet50_pure_classification.ipynb\" target=\"_parent\"><img src=\"https://colab.research.google.com/assets/colab-badge.svg\" alt=\"Open In Colab\"/></a>"
      ]
    },
    {
      "cell_type": "markdown",
      "metadata": {
        "id": "iitiKg99flFn"
      },
      "source": [
        "# Mount Drive"
      ]
    },
    {
      "cell_type": "code",
      "execution_count": null,
      "metadata": {
        "colab": {
          "base_uri": "https://localhost:8080/"
        },
        "id": "-szuB13JfYDp",
        "outputId": "668c5795-f220-4699-b717-00fc8f6c4d59"
      },
      "outputs": [
        {
          "output_type": "stream",
          "name": "stdout",
          "text": [
            "Mounted at /content/drive\n"
          ]
        }
      ],
      "source": [
        "from google.colab import drive\n",
        "drive.mount('/content/drive',force_remount = True)"
      ]
    },
    {
      "cell_type": "code",
      "execution_count": null,
      "metadata": {
        "id": "SwGA2nxEfr9m",
        "colab": {
          "base_uri": "https://localhost:8080/"
        },
        "outputId": "11480652-5a21-4501-cd40-5b6813a2f778"
      },
      "outputs": [
        {
          "name": "stdout",
          "output_type": "stream",
          "text": [
            "enter the name of your output file resnet50november3\n"
          ]
        }
      ],
      "source": [
        "name_output = input('enter the name of your output file ').strip()"
      ]
    },
    {
      "cell_type": "markdown",
      "metadata": {
        "id": "R0J4gA0Mf2I_"
      },
      "source": [
        "# Import Modules"
      ]
    },
    {
      "cell_type": "code",
      "execution_count": null,
      "metadata": {
        "id": "_CY4LY-of25C"
      },
      "outputs": [],
      "source": [
        "import tensorflow as tf\n",
        "from tensorflow import keras\n",
        "import numpy as np\n",
        "import matplotlib.pyplot as plt\n",
        "from tensorflow.keras.models import Sequential\n",
        "from tensorflow.keras.layers import Dense,Reshape, Activation,Flatten,BatchNormalization,Conv2D,MaxPool2D,InputLayer\n",
        "from tensorflow.keras.optimizers import Adam\n",
        "from tensorflow.keras.metrics import categorical_crossentropy\n",
        "from tensorflow.keras.preprocessing.image import ImageDataGenerator\n",
        "from sklearn.metrics import confusion_matrix\n",
        "import itertools\n",
        "%matplotlib inline\n",
        "from tensorflow.keras.models import Model\n",
        "from tensorflow.keras.metrics import Recall, Precision,TruePositives,TrueNegatives, FalsePositives,FalseNegatives,Accuracy"
      ]
    },
    {
      "cell_type": "code",
      "execution_count": null,
      "metadata": {
        "id": "Bdmmg0FJf7dF"
      },
      "outputs": [],
      "source": [
        "import os\n",
        "import shutil\n",
        "import glob\n",
        "import random\n",
        "import warnings\n",
        "warnings.simplefilter(action='ignore',category='FutureWarning')"
      ]
    },
    {
      "cell_type": "code",
      "source": [],
      "metadata": {
        "id": "cy9IEtDAz276"
      },
      "execution_count": null,
      "outputs": []
    },
    {
      "cell_type": "code",
      "execution_count": null,
      "metadata": {
        "id": "ddg4F4vJf-ge"
      },
      "outputs": [],
      "source": []
    },
    {
      "cell_type": "markdown",
      "metadata": {
        "id": "EW8R4dougBVs"
      },
      "source": [
        "# Add GPU"
      ]
    },
    {
      "cell_type": "code",
      "execution_count": null,
      "metadata": {
        "colab": {
          "base_uri": "https://localhost:8080/"
        },
        "id": "6Nhs5idvgCJF",
        "outputId": "34ac7b46-0823-43d0-dbf8-119827b23f38"
      },
      "outputs": [
        {
          "output_type": "stream",
          "name": "stdout",
          "text": [
            "Num GPUs Available:  1\n"
          ]
        }
      ],
      "source": [
        "physical_devices = tf.config.experimental.list_physical_devices('GPU')\n",
        "print('Num GPUs Available: ', len(physical_devices))\n",
        "if len(physical_devices) >=1:\n",
        "    tf.config.experimental.set_memory_growth(physical_devices[0],True)"
      ]
    },
    {
      "cell_type": "code",
      "execution_count": null,
      "metadata": {
        "id": "1mLh9aXBgF62"
      },
      "outputs": [],
      "source": []
    },
    {
      "cell_type": "markdown",
      "metadata": {
        "id": "6rrytWmHmul4"
      },
      "source": [
        "# Make your edits"
      ]
    },
    {
      "cell_type": "code",
      "execution_count": null,
      "metadata": {
        "id": "uFctqWddmw_1"
      },
      "outputs": [],
      "source": [
        "this_model_name = name_output+'.h5'"
      ]
    },
    {
      "cell_type": "code",
      "execution_count": null,
      "metadata": {
        "id": "O9YF8gm_mzTb"
      },
      "outputs": [],
      "source": [
        "model_name='Mobilenet_2'"
      ]
    },
    {
      "cell_type": "code",
      "execution_count": null,
      "metadata": {
        "id": "TGHrfWeOm0lc"
      },
      "outputs": [],
      "source": [
        "image_zip = 'All_cassava_data.zip'   #'More_Cassava.zip'#'clean_annotated_cassava.zip'"
      ]
    },
    {
      "cell_type": "code",
      "execution_count": null,
      "metadata": {
        "id": "Vfz1PYbZm3gP"
      },
      "outputs": [],
      "source": [
        "## chnage home directory\n",
        "home = '/content/drive/MyDrive/project/Project2.1/Script2_pure classification' #'/content/drive/MyDrive/project/Tensorflow And Keras' #"
      ]
    },
    {
      "cell_type": "code",
      "execution_count": null,
      "metadata": {
        "id": "CWkQKwMMm3jg"
      },
      "outputs": [],
      "source": []
    },
    {
      "cell_type": "markdown",
      "metadata": {
        "id": "r-BGc7BDgIq5"
      },
      "source": [
        "# Pull Data and Setup"
      ]
    },
    {
      "cell_type": "code",
      "execution_count": null,
      "metadata": {
        "id": "h3u2QezchfIV"
      },
      "outputs": [],
      "source": []
    },
    {
      "cell_type": "code",
      "execution_count": null,
      "metadata": {
        "colab": {
          "base_uri": "https://localhost:8080/",
          "height": 35
        },
        "id": "Lp78hjkWgJv2",
        "outputId": "83121330-7e5c-4ca9-dab6-1ef206872bbf"
      },
      "outputs": [
        {
          "output_type": "execute_result",
          "data": {
            "text/plain": [
              "'All_cassava_data.zip'"
            ],
            "application/vnd.google.colaboratory.intrinsic+json": {
              "type": "string"
            }
          },
          "metadata": {},
          "execution_count": 10
        }
      ],
      "source": [
        "\n",
        "\n",
        "image_path = model_name + '_data'\n",
        "os.mkdir(image_path)\n",
        "\n",
        "shutil.copy(os.path.join(home,'Images',image_zip),image_zip)"
      ]
    },
    {
      "cell_type": "code",
      "execution_count": null,
      "metadata": {
        "id": "dkuGSIFJgMJR"
      },
      "outputs": [],
      "source": [
        "shutil.unpack_archive(image_zip,os.getcwd(),'zip')"
      ]
    },
    {
      "cell_type": "code",
      "execution_count": null,
      "metadata": {
        "colab": {
          "base_uri": "https://localhost:8080/"
        },
        "id": "_ULXgvFMiDn9",
        "outputId": "5a75db90-6d4b-4e0e-ff3e-99270ab48f3c"
      },
      "outputs": [
        {
          "output_type": "execute_result",
          "data": {
            "text/plain": [
              "['brownstreak_N', 'greenmite_N', 'blight_N', 'Mosaic_N']"
            ]
          },
          "metadata": {},
          "execution_count": 12
        }
      ],
      "source": [
        "folders = os.listdir(image_zip[:-4])\n",
        "folders"
      ]
    },
    {
      "cell_type": "code",
      "execution_count": null,
      "metadata": {
        "id": "RfRY-thLnFWR"
      },
      "outputs": [],
      "source": []
    },
    {
      "cell_type": "markdown",
      "metadata": {
        "id": "O95FK3YMnG7m"
      },
      "source": [
        "### Edit here or type name of folder"
      ]
    },
    {
      "cell_type": "code",
      "execution_count": null,
      "metadata": {
        "colab": {
          "base_uri": "https://localhost:8080/"
        },
        "id": "_lN2M5YNiRg0",
        "outputId": "62cd5f29-be6f-4639-80b6-af638a9271b5"
      },
      "outputs": [
        {
          "output_type": "execute_result",
          "data": {
            "text/plain": [
              "['Mosaic_N', 'blight_N', 'brownstreak_N', 'greenmite_N']"
            ]
          },
          "metadata": {},
          "execution_count": 13
        }
      ],
      "source": [
        "f_folders = list(filter(lambda x:  x.endswith('N') , folders) )\n",
        "f_folders = sorted(f_folders)\n",
        "f_folders"
      ]
    },
    {
      "cell_type": "code",
      "execution_count": null,
      "metadata": {
        "id": "d9BsR2rtnTdz"
      },
      "outputs": [],
      "source": []
    },
    {
      "cell_type": "markdown",
      "metadata": {
        "id": "xF4iJPAZnUWa"
      },
      "source": [
        "## Create path and arrange"
      ]
    },
    {
      "cell_type": "code",
      "execution_count": null,
      "metadata": {
        "id": "MASEy1IAjMXY"
      },
      "outputs": [],
      "source": [
        "os.mkdir(os.path.join(image_path,'train'))\n",
        "os.mkdir(os.path.join(image_path,'test'))\n",
        "os.mkdir(os.path.join(image_path,'valid'))"
      ]
    },
    {
      "cell_type": "code",
      "execution_count": null,
      "metadata": {
        "id": "ugtp0dEQyr7b"
      },
      "outputs": [],
      "source": []
    },
    {
      "cell_type": "code",
      "execution_count": null,
      "metadata": {
        "id": "pV9hP37KgUTC"
      },
      "outputs": [],
      "source": [
        "for fold in f_folders:\n",
        "  src = os.path.join(image_zip[:-4],fold)\n",
        "  dest = os.path.join(image_path,'train')\n",
        "  shutil.move(src,dest)\n",
        "\n",
        "  c_test_dis = os.path.join(image_path,'test',fold)\n",
        "  c_valid_dis = os.path.join(image_path,'valid',fold)\n",
        "  os.mkdir(c_test_dis)\n",
        "  os.mkdir(c_valid_dis)\n",
        "\n",
        "## delete xml files\n",
        "  total_files = os.listdir(os.path.join(dest,fold))\n",
        "  to_del = filter(lambda x: x.endswith('xml'),total_files)\n",
        "  for i in to_del:\n",
        "    os.remove(os.path.join(dest,fold,i))\n",
        "\n",
        "## pick out a few and move to valid\n",
        "  valid_amount = 2 * len(os.listdir(os.path.join(dest,fold)))  //10\n",
        "  test_amount = len(os.listdir(os.path.join(dest,fold))) //10\n",
        "\n",
        "  valid_samples = random.sample(os.listdir(os.path.join(dest,fold)), valid_amount)\n",
        "  for f in valid_samples:\n",
        "        shutil.move(os.path.join(dest,fold,f), c_valid_dis)\n",
        "\n",
        "## pick out a few and move to test\n",
        "  test_samples = random.sample(os.listdir(os.path.join(dest,fold)), test_amount)\n",
        "  for k in test_samples:\n",
        "        shutil.move(os.path.join(dest,fold,k), c_test_dis)"
      ]
    },
    {
      "cell_type": "code",
      "execution_count": null,
      "metadata": {
        "id": "rHe0o8rWiQ4w"
      },
      "outputs": [],
      "source": []
    },
    {
      "cell_type": "code",
      "execution_count": null,
      "metadata": {
        "id": "UQdipOnggUYg"
      },
      "outputs": [],
      "source": []
    },
    {
      "cell_type": "code",
      "execution_count": null,
      "metadata": {
        "id": "olZ2JV-Mgncq"
      },
      "outputs": [],
      "source": []
    },
    {
      "cell_type": "markdown",
      "metadata": {
        "id": "gYj6q_Nk0O5E"
      },
      "source": [
        "# The Plot Functions"
      ]
    },
    {
      "cell_type": "markdown",
      "metadata": {
        "id": "GfjlZ7E70frp"
      },
      "source": [
        "## Plot Confusion Matrix"
      ]
    },
    {
      "cell_type": "code",
      "execution_count": null,
      "metadata": {
        "id": "fyB1UvfZgnhU"
      },
      "outputs": [],
      "source": [
        "def plot_confusion_matrix(cm,classes,\n",
        "                          normalize = False,\n",
        "                          title='Confusion matrix',\n",
        "                          cmap = plt.cm.Blues):\n",
        "  \"\"\"\n",
        "  this function prints and plots the confusion matrix\n",
        "  normalization can be applied by setting normalize=True\n",
        "  \"\"\"\n",
        "  plt.imshow(cm,interpolation='nearest',cmap=cmap)\n",
        "  plt.title(title)\n",
        "  plt.colorbar()\n",
        "  tickmarks=  np.arange(len(classes))\n",
        "  plt.xticks(tickmarks,classes,rotation=45)\n",
        "  plt.yticks(tickmarks,classes)\n",
        "  if normalize:\n",
        "    cm = cm.astype('float')/cm.sum(axis=1) [:,np.newaxis]\n",
        "    print('Normalized confusion matrix')\n",
        "  else:\n",
        "    print('confusion matrix without normalization')\n",
        "\n",
        "  thresh = cm.max()/2\n",
        "  for i,j in itertools.product(range(cm.shape[0]),range(cm.shape[1])):\n",
        "    plt.text(i,j,cm[i,j],\n",
        "             horizontalalignment='center',\n",
        "             color = 'white' if cm[i,j] > thresh else 'black'\n",
        "             )\n",
        "    plt.tight_layout()\n",
        "    plt.ylabel('True label')\n",
        "    plt.xlabel('predicted label')"
      ]
    },
    {
      "cell_type": "code",
      "execution_count": null,
      "metadata": {
        "id": "X7ZkVB_s0iJr"
      },
      "outputs": [],
      "source": []
    },
    {
      "cell_type": "code",
      "execution_count": null,
      "metadata": {
        "id": "XG4Hd76k0jQh"
      },
      "outputs": [],
      "source": []
    },
    {
      "cell_type": "markdown",
      "metadata": {
        "id": "PgM63tt-0jYD"
      },
      "source": [
        "# Instantiate the model"
      ]
    },
    {
      "cell_type": "code",
      "execution_count": null,
      "metadata": {
        "colab": {
          "base_uri": "https://localhost:8080/"
        },
        "id": "LZ7DogN10lZm",
        "outputId": "ce85d865-1abf-453c-af70-a5f30b75f0a7"
      },
      "outputs": [
        {
          "output_type": "stream",
          "name": "stdout",
          "text": [
            "Downloading data from https://storage.googleapis.com/tensorflow/keras-applications/resnet/resnet50_weights_tf_dim_ordering_tf_kernels_notop.h5\n",
            "94765736/94765736 [==============================] - 0s 0us/step\n"
          ]
        }
      ],
      "source": [
        "Home_model = tf.keras.applications.resnet50.ResNet50(include_top = False,\n",
        "                                                     input_shape=(224, 224, 3),\n",
        "                                                     pooling = 'avg',\n",
        "                                                     classes=4,\n",
        "                                                     weights='imagenet'\n",
        "                                                     )"
      ]
    },
    {
      "cell_type": "code",
      "execution_count": null,
      "metadata": {
        "id": "HoNUdFhQ0n5i"
      },
      "outputs": [],
      "source": []
    },
    {
      "cell_type": "code",
      "execution_count": null,
      "metadata": {
        "id": "tRVYd5ZB1Vbf"
      },
      "outputs": [],
      "source": []
    },
    {
      "cell_type": "markdown",
      "metadata": {
        "id": "rDmNc9A50rfg"
      },
      "source": [
        "## Preprocess"
      ]
    },
    {
      "cell_type": "code",
      "execution_count": null,
      "metadata": {
        "id": "egYelGrv0syf"
      },
      "outputs": [],
      "source": [
        "def prepare_image(file):\n",
        "  img = image.load_img(file, target_size = (224,224))\n",
        "  img_array = image.img_to_array(img)\n",
        "  # print(img_array.shape)\n",
        "  img_array_expanded = np.expand_dims(img_array,axis=0)\n",
        "  # print(img_array_expanded.shape)\n",
        "  return tf.keras.applications.resnet50.preprocess_input(img_array_expanded)"
      ]
    },
    {
      "cell_type": "code",
      "execution_count": null,
      "metadata": {
        "id": "r1md9PTB0tkP"
      },
      "outputs": [],
      "source": []
    },
    {
      "cell_type": "markdown",
      "metadata": {
        "id": "CxKnAoAk09ZA"
      },
      "source": [
        "## Transfer Learning"
      ]
    },
    {
      "cell_type": "code",
      "execution_count": null,
      "metadata": {
        "id": "4AUWTz5e1Ao3"
      },
      "outputs": [],
      "source": [
        "train_path = os.path.join(image_path,'train')\n",
        "valid_path = os.path.join(image_path,'valid')\n",
        "test_path = os.path.join(image_path,'test')"
      ]
    },
    {
      "cell_type": "code",
      "execution_count": null,
      "metadata": {
        "colab": {
          "base_uri": "https://localhost:8080/"
        },
        "id": "Gr_qziPC1FV_",
        "outputId": "0b5fbf42-2121-43db-dbd7-9ba2669fdfdb"
      },
      "outputs": [
        {
          "output_type": "stream",
          "name": "stdout",
          "text": [
            "Found 1213 images belonging to 4 classes.\n",
            "Found 343 images belonging to 4 classes.\n",
            "Found 170 images belonging to 4 classes.\n"
          ]
        }
      ],
      "source": [
        "train_batches = ImageDataGenerator(preprocessing_function=tf.keras.applications.resnet50.preprocess_input)\\\n",
        "              .flow_from_directory(directory= train_path,target_size=(224,224),batch_size=10)\n",
        "\n",
        "valid_batches = ImageDataGenerator(preprocessing_function=tf.keras.applications.resnet50.preprocess_input)\\\n",
        "              .flow_from_directory(directory= valid_path,target_size=(224,224),batch_size=10)\n",
        "\n",
        "test_batches = ImageDataGenerator(preprocessing_function=tf.keras.applications.resnet50.preprocess_input)\\\n",
        "              .flow_from_directory(directory= test_path,target_size=(224,224),batch_size=10, shuffle = False)\n",
        ""
      ]
    },
    {
      "cell_type": "code",
      "execution_count": null,
      "metadata": {
        "id": "3ejySfq11Iav",
        "colab": {
          "base_uri": "https://localhost:8080/"
        },
        "outputId": "e42cec17-3953-4336-9058-be4f8ea3ce9a"
      },
      "outputs": [
        {
          "output_type": "stream",
          "name": "stdout",
          "text": [
            "Model: \"resnet50\"\n",
            "__________________________________________________________________________________________________\n",
            " Layer (type)                   Output Shape         Param #     Connected to                     \n",
            "==================================================================================================\n",
            " input_1 (InputLayer)           [(None, 224, 224, 3  0           []                               \n",
            "                                )]                                                                \n",
            "                                                                                                  \n",
            " conv1_pad (ZeroPadding2D)      (None, 230, 230, 3)  0           ['input_1[0][0]']                \n",
            "                                                                                                  \n",
            " conv1_conv (Conv2D)            (None, 112, 112, 64  9472        ['conv1_pad[0][0]']              \n",
            "                                )                                                                 \n",
            "                                                                                                  \n",
            " conv1_bn (BatchNormalization)  (None, 112, 112, 64  256         ['conv1_conv[0][0]']             \n",
            "                                )                                                                 \n",
            "                                                                                                  \n",
            " conv1_relu (Activation)        (None, 112, 112, 64  0           ['conv1_bn[0][0]']               \n",
            "                                )                                                                 \n",
            "                                                                                                  \n",
            " pool1_pad (ZeroPadding2D)      (None, 114, 114, 64  0           ['conv1_relu[0][0]']             \n",
            "                                )                                                                 \n",
            "                                                                                                  \n",
            " pool1_pool (MaxPooling2D)      (None, 56, 56, 64)   0           ['pool1_pad[0][0]']              \n",
            "                                                                                                  \n",
            " conv2_block1_1_conv (Conv2D)   (None, 56, 56, 64)   4160        ['pool1_pool[0][0]']             \n",
            "                                                                                                  \n",
            " conv2_block1_1_bn (BatchNormal  (None, 56, 56, 64)  256         ['conv2_block1_1_conv[0][0]']    \n",
            " ization)                                                                                         \n",
            "                                                                                                  \n",
            " conv2_block1_1_relu (Activatio  (None, 56, 56, 64)  0           ['conv2_block1_1_bn[0][0]']      \n",
            " n)                                                                                               \n",
            "                                                                                                  \n",
            " conv2_block1_2_conv (Conv2D)   (None, 56, 56, 64)   36928       ['conv2_block1_1_relu[0][0]']    \n",
            "                                                                                                  \n",
            " conv2_block1_2_bn (BatchNormal  (None, 56, 56, 64)  256         ['conv2_block1_2_conv[0][0]']    \n",
            " ization)                                                                                         \n",
            "                                                                                                  \n",
            " conv2_block1_2_relu (Activatio  (None, 56, 56, 64)  0           ['conv2_block1_2_bn[0][0]']      \n",
            " n)                                                                                               \n",
            "                                                                                                  \n",
            " conv2_block1_0_conv (Conv2D)   (None, 56, 56, 256)  16640       ['pool1_pool[0][0]']             \n",
            "                                                                                                  \n",
            " conv2_block1_3_conv (Conv2D)   (None, 56, 56, 256)  16640       ['conv2_block1_2_relu[0][0]']    \n",
            "                                                                                                  \n",
            " conv2_block1_0_bn (BatchNormal  (None, 56, 56, 256)  1024       ['conv2_block1_0_conv[0][0]']    \n",
            " ization)                                                                                         \n",
            "                                                                                                  \n",
            " conv2_block1_3_bn (BatchNormal  (None, 56, 56, 256)  1024       ['conv2_block1_3_conv[0][0]']    \n",
            " ization)                                                                                         \n",
            "                                                                                                  \n",
            " conv2_block1_add (Add)         (None, 56, 56, 256)  0           ['conv2_block1_0_bn[0][0]',      \n",
            "                                                                  'conv2_block1_3_bn[0][0]']      \n",
            "                                                                                                  \n",
            " conv2_block1_out (Activation)  (None, 56, 56, 256)  0           ['conv2_block1_add[0][0]']       \n",
            "                                                                                                  \n",
            " conv2_block2_1_conv (Conv2D)   (None, 56, 56, 64)   16448       ['conv2_block1_out[0][0]']       \n",
            "                                                                                                  \n",
            " conv2_block2_1_bn (BatchNormal  (None, 56, 56, 64)  256         ['conv2_block2_1_conv[0][0]']    \n",
            " ization)                                                                                         \n",
            "                                                                                                  \n",
            " conv2_block2_1_relu (Activatio  (None, 56, 56, 64)  0           ['conv2_block2_1_bn[0][0]']      \n",
            " n)                                                                                               \n",
            "                                                                                                  \n",
            " conv2_block2_2_conv (Conv2D)   (None, 56, 56, 64)   36928       ['conv2_block2_1_relu[0][0]']    \n",
            "                                                                                                  \n",
            " conv2_block2_2_bn (BatchNormal  (None, 56, 56, 64)  256         ['conv2_block2_2_conv[0][0]']    \n",
            " ization)                                                                                         \n",
            "                                                                                                  \n",
            " conv2_block2_2_relu (Activatio  (None, 56, 56, 64)  0           ['conv2_block2_2_bn[0][0]']      \n",
            " n)                                                                                               \n",
            "                                                                                                  \n",
            " conv2_block2_3_conv (Conv2D)   (None, 56, 56, 256)  16640       ['conv2_block2_2_relu[0][0]']    \n",
            "                                                                                                  \n",
            " conv2_block2_3_bn (BatchNormal  (None, 56, 56, 256)  1024       ['conv2_block2_3_conv[0][0]']    \n",
            " ization)                                                                                         \n",
            "                                                                                                  \n",
            " conv2_block2_add (Add)         (None, 56, 56, 256)  0           ['conv2_block1_out[0][0]',       \n",
            "                                                                  'conv2_block2_3_bn[0][0]']      \n",
            "                                                                                                  \n",
            " conv2_block2_out (Activation)  (None, 56, 56, 256)  0           ['conv2_block2_add[0][0]']       \n",
            "                                                                                                  \n",
            " conv2_block3_1_conv (Conv2D)   (None, 56, 56, 64)   16448       ['conv2_block2_out[0][0]']       \n",
            "                                                                                                  \n",
            " conv2_block3_1_bn (BatchNormal  (None, 56, 56, 64)  256         ['conv2_block3_1_conv[0][0]']    \n",
            " ization)                                                                                         \n",
            "                                                                                                  \n",
            " conv2_block3_1_relu (Activatio  (None, 56, 56, 64)  0           ['conv2_block3_1_bn[0][0]']      \n",
            " n)                                                                                               \n",
            "                                                                                                  \n",
            " conv2_block3_2_conv (Conv2D)   (None, 56, 56, 64)   36928       ['conv2_block3_1_relu[0][0]']    \n",
            "                                                                                                  \n",
            " conv2_block3_2_bn (BatchNormal  (None, 56, 56, 64)  256         ['conv2_block3_2_conv[0][0]']    \n",
            " ization)                                                                                         \n",
            "                                                                                                  \n",
            " conv2_block3_2_relu (Activatio  (None, 56, 56, 64)  0           ['conv2_block3_2_bn[0][0]']      \n",
            " n)                                                                                               \n",
            "                                                                                                  \n",
            " conv2_block3_3_conv (Conv2D)   (None, 56, 56, 256)  16640       ['conv2_block3_2_relu[0][0]']    \n",
            "                                                                                                  \n",
            " conv2_block3_3_bn (BatchNormal  (None, 56, 56, 256)  1024       ['conv2_block3_3_conv[0][0]']    \n",
            " ization)                                                                                         \n",
            "                                                                                                  \n",
            " conv2_block3_add (Add)         (None, 56, 56, 256)  0           ['conv2_block2_out[0][0]',       \n",
            "                                                                  'conv2_block3_3_bn[0][0]']      \n",
            "                                                                                                  \n",
            " conv2_block3_out (Activation)  (None, 56, 56, 256)  0           ['conv2_block3_add[0][0]']       \n",
            "                                                                                                  \n",
            " conv3_block1_1_conv (Conv2D)   (None, 28, 28, 128)  32896       ['conv2_block3_out[0][0]']       \n",
            "                                                                                                  \n",
            " conv3_block1_1_bn (BatchNormal  (None, 28, 28, 128)  512        ['conv3_block1_1_conv[0][0]']    \n",
            " ization)                                                                                         \n",
            "                                                                                                  \n",
            " conv3_block1_1_relu (Activatio  (None, 28, 28, 128)  0          ['conv3_block1_1_bn[0][0]']      \n",
            " n)                                                                                               \n",
            "                                                                                                  \n",
            " conv3_block1_2_conv (Conv2D)   (None, 28, 28, 128)  147584      ['conv3_block1_1_relu[0][0]']    \n",
            "                                                                                                  \n",
            " conv3_block1_2_bn (BatchNormal  (None, 28, 28, 128)  512        ['conv3_block1_2_conv[0][0]']    \n",
            " ization)                                                                                         \n",
            "                                                                                                  \n",
            " conv3_block1_2_relu (Activatio  (None, 28, 28, 128)  0          ['conv3_block1_2_bn[0][0]']      \n",
            " n)                                                                                               \n",
            "                                                                                                  \n",
            " conv3_block1_0_conv (Conv2D)   (None, 28, 28, 512)  131584      ['conv2_block3_out[0][0]']       \n",
            "                                                                                                  \n",
            " conv3_block1_3_conv (Conv2D)   (None, 28, 28, 512)  66048       ['conv3_block1_2_relu[0][0]']    \n",
            "                                                                                                  \n",
            " conv3_block1_0_bn (BatchNormal  (None, 28, 28, 512)  2048       ['conv3_block1_0_conv[0][0]']    \n",
            " ization)                                                                                         \n",
            "                                                                                                  \n",
            " conv3_block1_3_bn (BatchNormal  (None, 28, 28, 512)  2048       ['conv3_block1_3_conv[0][0]']    \n",
            " ization)                                                                                         \n",
            "                                                                                                  \n",
            " conv3_block1_add (Add)         (None, 28, 28, 512)  0           ['conv3_block1_0_bn[0][0]',      \n",
            "                                                                  'conv3_block1_3_bn[0][0]']      \n",
            "                                                                                                  \n",
            " conv3_block1_out (Activation)  (None, 28, 28, 512)  0           ['conv3_block1_add[0][0]']       \n",
            "                                                                                                  \n",
            " conv3_block2_1_conv (Conv2D)   (None, 28, 28, 128)  65664       ['conv3_block1_out[0][0]']       \n",
            "                                                                                                  \n",
            " conv3_block2_1_bn (BatchNormal  (None, 28, 28, 128)  512        ['conv3_block2_1_conv[0][0]']    \n",
            " ization)                                                                                         \n",
            "                                                                                                  \n",
            " conv3_block2_1_relu (Activatio  (None, 28, 28, 128)  0          ['conv3_block2_1_bn[0][0]']      \n",
            " n)                                                                                               \n",
            "                                                                                                  \n",
            " conv3_block2_2_conv (Conv2D)   (None, 28, 28, 128)  147584      ['conv3_block2_1_relu[0][0]']    \n",
            "                                                                                                  \n",
            " conv3_block2_2_bn (BatchNormal  (None, 28, 28, 128)  512        ['conv3_block2_2_conv[0][0]']    \n",
            " ization)                                                                                         \n",
            "                                                                                                  \n",
            " conv3_block2_2_relu (Activatio  (None, 28, 28, 128)  0          ['conv3_block2_2_bn[0][0]']      \n",
            " n)                                                                                               \n",
            "                                                                                                  \n",
            " conv3_block2_3_conv (Conv2D)   (None, 28, 28, 512)  66048       ['conv3_block2_2_relu[0][0]']    \n",
            "                                                                                                  \n",
            " conv3_block2_3_bn (BatchNormal  (None, 28, 28, 512)  2048       ['conv3_block2_3_conv[0][0]']    \n",
            " ization)                                                                                         \n",
            "                                                                                                  \n",
            " conv3_block2_add (Add)         (None, 28, 28, 512)  0           ['conv3_block1_out[0][0]',       \n",
            "                                                                  'conv3_block2_3_bn[0][0]']      \n",
            "                                                                                                  \n",
            " conv3_block2_out (Activation)  (None, 28, 28, 512)  0           ['conv3_block2_add[0][0]']       \n",
            "                                                                                                  \n",
            " conv3_block3_1_conv (Conv2D)   (None, 28, 28, 128)  65664       ['conv3_block2_out[0][0]']       \n",
            "                                                                                                  \n",
            " conv3_block3_1_bn (BatchNormal  (None, 28, 28, 128)  512        ['conv3_block3_1_conv[0][0]']    \n",
            " ization)                                                                                         \n",
            "                                                                                                  \n",
            " conv3_block3_1_relu (Activatio  (None, 28, 28, 128)  0          ['conv3_block3_1_bn[0][0]']      \n",
            " n)                                                                                               \n",
            "                                                                                                  \n",
            " conv3_block3_2_conv (Conv2D)   (None, 28, 28, 128)  147584      ['conv3_block3_1_relu[0][0]']    \n",
            "                                                                                                  \n",
            " conv3_block3_2_bn (BatchNormal  (None, 28, 28, 128)  512        ['conv3_block3_2_conv[0][0]']    \n",
            " ization)                                                                                         \n",
            "                                                                                                  \n",
            " conv3_block3_2_relu (Activatio  (None, 28, 28, 128)  0          ['conv3_block3_2_bn[0][0]']      \n",
            " n)                                                                                               \n",
            "                                                                                                  \n",
            " conv3_block3_3_conv (Conv2D)   (None, 28, 28, 512)  66048       ['conv3_block3_2_relu[0][0]']    \n",
            "                                                                                                  \n",
            " conv3_block3_3_bn (BatchNormal  (None, 28, 28, 512)  2048       ['conv3_block3_3_conv[0][0]']    \n",
            " ization)                                                                                         \n",
            "                                                                                                  \n",
            " conv3_block3_add (Add)         (None, 28, 28, 512)  0           ['conv3_block2_out[0][0]',       \n",
            "                                                                  'conv3_block3_3_bn[0][0]']      \n",
            "                                                                                                  \n",
            " conv3_block3_out (Activation)  (None, 28, 28, 512)  0           ['conv3_block3_add[0][0]']       \n",
            "                                                                                                  \n",
            " conv3_block4_1_conv (Conv2D)   (None, 28, 28, 128)  65664       ['conv3_block3_out[0][0]']       \n",
            "                                                                                                  \n",
            " conv3_block4_1_bn (BatchNormal  (None, 28, 28, 128)  512        ['conv3_block4_1_conv[0][0]']    \n",
            " ization)                                                                                         \n",
            "                                                                                                  \n",
            " conv3_block4_1_relu (Activatio  (None, 28, 28, 128)  0          ['conv3_block4_1_bn[0][0]']      \n",
            " n)                                                                                               \n",
            "                                                                                                  \n",
            " conv3_block4_2_conv (Conv2D)   (None, 28, 28, 128)  147584      ['conv3_block4_1_relu[0][0]']    \n",
            "                                                                                                  \n",
            " conv3_block4_2_bn (BatchNormal  (None, 28, 28, 128)  512        ['conv3_block4_2_conv[0][0]']    \n",
            " ization)                                                                                         \n",
            "                                                                                                  \n",
            " conv3_block4_2_relu (Activatio  (None, 28, 28, 128)  0          ['conv3_block4_2_bn[0][0]']      \n",
            " n)                                                                                               \n",
            "                                                                                                  \n",
            " conv3_block4_3_conv (Conv2D)   (None, 28, 28, 512)  66048       ['conv3_block4_2_relu[0][0]']    \n",
            "                                                                                                  \n",
            " conv3_block4_3_bn (BatchNormal  (None, 28, 28, 512)  2048       ['conv3_block4_3_conv[0][0]']    \n",
            " ization)                                                                                         \n",
            "                                                                                                  \n",
            " conv3_block4_add (Add)         (None, 28, 28, 512)  0           ['conv3_block3_out[0][0]',       \n",
            "                                                                  'conv3_block4_3_bn[0][0]']      \n",
            "                                                                                                  \n",
            " conv3_block4_out (Activation)  (None, 28, 28, 512)  0           ['conv3_block4_add[0][0]']       \n",
            "                                                                                                  \n",
            " conv4_block1_1_conv (Conv2D)   (None, 14, 14, 256)  131328      ['conv3_block4_out[0][0]']       \n",
            "                                                                                                  \n",
            " conv4_block1_1_bn (BatchNormal  (None, 14, 14, 256)  1024       ['conv4_block1_1_conv[0][0]']    \n",
            " ization)                                                                                         \n",
            "                                                                                                  \n",
            " conv4_block1_1_relu (Activatio  (None, 14, 14, 256)  0          ['conv4_block1_1_bn[0][0]']      \n",
            " n)                                                                                               \n",
            "                                                                                                  \n",
            " conv4_block1_2_conv (Conv2D)   (None, 14, 14, 256)  590080      ['conv4_block1_1_relu[0][0]']    \n",
            "                                                                                                  \n",
            " conv4_block1_2_bn (BatchNormal  (None, 14, 14, 256)  1024       ['conv4_block1_2_conv[0][0]']    \n",
            " ization)                                                                                         \n",
            "                                                                                                  \n",
            " conv4_block1_2_relu (Activatio  (None, 14, 14, 256)  0          ['conv4_block1_2_bn[0][0]']      \n",
            " n)                                                                                               \n",
            "                                                                                                  \n",
            " conv4_block1_0_conv (Conv2D)   (None, 14, 14, 1024  525312      ['conv3_block4_out[0][0]']       \n",
            "                                )                                                                 \n",
            "                                                                                                  \n",
            " conv4_block1_3_conv (Conv2D)   (None, 14, 14, 1024  263168      ['conv4_block1_2_relu[0][0]']    \n",
            "                                )                                                                 \n",
            "                                                                                                  \n",
            " conv4_block1_0_bn (BatchNormal  (None, 14, 14, 1024  4096       ['conv4_block1_0_conv[0][0]']    \n",
            " ization)                       )                                                                 \n",
            "                                                                                                  \n",
            " conv4_block1_3_bn (BatchNormal  (None, 14, 14, 1024  4096       ['conv4_block1_3_conv[0][0]']    \n",
            " ization)                       )                                                                 \n",
            "                                                                                                  \n",
            " conv4_block1_add (Add)         (None, 14, 14, 1024  0           ['conv4_block1_0_bn[0][0]',      \n",
            "                                )                                 'conv4_block1_3_bn[0][0]']      \n",
            "                                                                                                  \n",
            " conv4_block1_out (Activation)  (None, 14, 14, 1024  0           ['conv4_block1_add[0][0]']       \n",
            "                                )                                                                 \n",
            "                                                                                                  \n",
            " conv4_block2_1_conv (Conv2D)   (None, 14, 14, 256)  262400      ['conv4_block1_out[0][0]']       \n",
            "                                                                                                  \n",
            " conv4_block2_1_bn (BatchNormal  (None, 14, 14, 256)  1024       ['conv4_block2_1_conv[0][0]']    \n",
            " ization)                                                                                         \n",
            "                                                                                                  \n",
            " conv4_block2_1_relu (Activatio  (None, 14, 14, 256)  0          ['conv4_block2_1_bn[0][0]']      \n",
            " n)                                                                                               \n",
            "                                                                                                  \n",
            " conv4_block2_2_conv (Conv2D)   (None, 14, 14, 256)  590080      ['conv4_block2_1_relu[0][0]']    \n",
            "                                                                                                  \n",
            " conv4_block2_2_bn (BatchNormal  (None, 14, 14, 256)  1024       ['conv4_block2_2_conv[0][0]']    \n",
            " ization)                                                                                         \n",
            "                                                                                                  \n",
            " conv4_block2_2_relu (Activatio  (None, 14, 14, 256)  0          ['conv4_block2_2_bn[0][0]']      \n",
            " n)                                                                                               \n",
            "                                                                                                  \n",
            " conv4_block2_3_conv (Conv2D)   (None, 14, 14, 1024  263168      ['conv4_block2_2_relu[0][0]']    \n",
            "                                )                                                                 \n",
            "                                                                                                  \n",
            " conv4_block2_3_bn (BatchNormal  (None, 14, 14, 1024  4096       ['conv4_block2_3_conv[0][0]']    \n",
            " ization)                       )                                                                 \n",
            "                                                                                                  \n",
            " conv4_block2_add (Add)         (None, 14, 14, 1024  0           ['conv4_block1_out[0][0]',       \n",
            "                                )                                 'conv4_block2_3_bn[0][0]']      \n",
            "                                                                                                  \n",
            " conv4_block2_out (Activation)  (None, 14, 14, 1024  0           ['conv4_block2_add[0][0]']       \n",
            "                                )                                                                 \n",
            "                                                                                                  \n",
            " conv4_block3_1_conv (Conv2D)   (None, 14, 14, 256)  262400      ['conv4_block2_out[0][0]']       \n",
            "                                                                                                  \n",
            " conv4_block3_1_bn (BatchNormal  (None, 14, 14, 256)  1024       ['conv4_block3_1_conv[0][0]']    \n",
            " ization)                                                                                         \n",
            "                                                                                                  \n",
            " conv4_block3_1_relu (Activatio  (None, 14, 14, 256)  0          ['conv4_block3_1_bn[0][0]']      \n",
            " n)                                                                                               \n",
            "                                                                                                  \n",
            " conv4_block3_2_conv (Conv2D)   (None, 14, 14, 256)  590080      ['conv4_block3_1_relu[0][0]']    \n",
            "                                                                                                  \n",
            " conv4_block3_2_bn (BatchNormal  (None, 14, 14, 256)  1024       ['conv4_block3_2_conv[0][0]']    \n",
            " ization)                                                                                         \n",
            "                                                                                                  \n",
            " conv4_block3_2_relu (Activatio  (None, 14, 14, 256)  0          ['conv4_block3_2_bn[0][0]']      \n",
            " n)                                                                                               \n",
            "                                                                                                  \n",
            " conv4_block3_3_conv (Conv2D)   (None, 14, 14, 1024  263168      ['conv4_block3_2_relu[0][0]']    \n",
            "                                )                                                                 \n",
            "                                                                                                  \n",
            " conv4_block3_3_bn (BatchNormal  (None, 14, 14, 1024  4096       ['conv4_block3_3_conv[0][0]']    \n",
            " ization)                       )                                                                 \n",
            "                                                                                                  \n",
            " conv4_block3_add (Add)         (None, 14, 14, 1024  0           ['conv4_block2_out[0][0]',       \n",
            "                                )                                 'conv4_block3_3_bn[0][0]']      \n",
            "                                                                                                  \n",
            " conv4_block3_out (Activation)  (None, 14, 14, 1024  0           ['conv4_block3_add[0][0]']       \n",
            "                                )                                                                 \n",
            "                                                                                                  \n",
            " conv4_block4_1_conv (Conv2D)   (None, 14, 14, 256)  262400      ['conv4_block3_out[0][0]']       \n",
            "                                                                                                  \n",
            " conv4_block4_1_bn (BatchNormal  (None, 14, 14, 256)  1024       ['conv4_block4_1_conv[0][0]']    \n",
            " ization)                                                                                         \n",
            "                                                                                                  \n",
            " conv4_block4_1_relu (Activatio  (None, 14, 14, 256)  0          ['conv4_block4_1_bn[0][0]']      \n",
            " n)                                                                                               \n",
            "                                                                                                  \n",
            " conv4_block4_2_conv (Conv2D)   (None, 14, 14, 256)  590080      ['conv4_block4_1_relu[0][0]']    \n",
            "                                                                                                  \n",
            " conv4_block4_2_bn (BatchNormal  (None, 14, 14, 256)  1024       ['conv4_block4_2_conv[0][0]']    \n",
            " ization)                                                                                         \n",
            "                                                                                                  \n",
            " conv4_block4_2_relu (Activatio  (None, 14, 14, 256)  0          ['conv4_block4_2_bn[0][0]']      \n",
            " n)                                                                                               \n",
            "                                                                                                  \n",
            " conv4_block4_3_conv (Conv2D)   (None, 14, 14, 1024  263168      ['conv4_block4_2_relu[0][0]']    \n",
            "                                )                                                                 \n",
            "                                                                                                  \n",
            " conv4_block4_3_bn (BatchNormal  (None, 14, 14, 1024  4096       ['conv4_block4_3_conv[0][0]']    \n",
            " ization)                       )                                                                 \n",
            "                                                                                                  \n",
            " conv4_block4_add (Add)         (None, 14, 14, 1024  0           ['conv4_block3_out[0][0]',       \n",
            "                                )                                 'conv4_block4_3_bn[0][0]']      \n",
            "                                                                                                  \n",
            " conv4_block4_out (Activation)  (None, 14, 14, 1024  0           ['conv4_block4_add[0][0]']       \n",
            "                                )                                                                 \n",
            "                                                                                                  \n",
            " conv4_block5_1_conv (Conv2D)   (None, 14, 14, 256)  262400      ['conv4_block4_out[0][0]']       \n",
            "                                                                                                  \n",
            " conv4_block5_1_bn (BatchNormal  (None, 14, 14, 256)  1024       ['conv4_block5_1_conv[0][0]']    \n",
            " ization)                                                                                         \n",
            "                                                                                                  \n",
            " conv4_block5_1_relu (Activatio  (None, 14, 14, 256)  0          ['conv4_block5_1_bn[0][0]']      \n",
            " n)                                                                                               \n",
            "                                                                                                  \n",
            " conv4_block5_2_conv (Conv2D)   (None, 14, 14, 256)  590080      ['conv4_block5_1_relu[0][0]']    \n",
            "                                                                                                  \n",
            " conv4_block5_2_bn (BatchNormal  (None, 14, 14, 256)  1024       ['conv4_block5_2_conv[0][0]']    \n",
            " ization)                                                                                         \n",
            "                                                                                                  \n",
            " conv4_block5_2_relu (Activatio  (None, 14, 14, 256)  0          ['conv4_block5_2_bn[0][0]']      \n",
            " n)                                                                                               \n",
            "                                                                                                  \n",
            " conv4_block5_3_conv (Conv2D)   (None, 14, 14, 1024  263168      ['conv4_block5_2_relu[0][0]']    \n",
            "                                )                                                                 \n",
            "                                                                                                  \n",
            " conv4_block5_3_bn (BatchNormal  (None, 14, 14, 1024  4096       ['conv4_block5_3_conv[0][0]']    \n",
            " ization)                       )                                                                 \n",
            "                                                                                                  \n",
            " conv4_block5_add (Add)         (None, 14, 14, 1024  0           ['conv4_block4_out[0][0]',       \n",
            "                                )                                 'conv4_block5_3_bn[0][0]']      \n",
            "                                                                                                  \n",
            " conv4_block5_out (Activation)  (None, 14, 14, 1024  0           ['conv4_block5_add[0][0]']       \n",
            "                                )                                                                 \n",
            "                                                                                                  \n",
            " conv4_block6_1_conv (Conv2D)   (None, 14, 14, 256)  262400      ['conv4_block5_out[0][0]']       \n",
            "                                                                                                  \n",
            " conv4_block6_1_bn (BatchNormal  (None, 14, 14, 256)  1024       ['conv4_block6_1_conv[0][0]']    \n",
            " ization)                                                                                         \n",
            "                                                                                                  \n",
            " conv4_block6_1_relu (Activatio  (None, 14, 14, 256)  0          ['conv4_block6_1_bn[0][0]']      \n",
            " n)                                                                                               \n",
            "                                                                                                  \n",
            " conv4_block6_2_conv (Conv2D)   (None, 14, 14, 256)  590080      ['conv4_block6_1_relu[0][0]']    \n",
            "                                                                                                  \n",
            " conv4_block6_2_bn (BatchNormal  (None, 14, 14, 256)  1024       ['conv4_block6_2_conv[0][0]']    \n",
            " ization)                                                                                         \n",
            "                                                                                                  \n",
            " conv4_block6_2_relu (Activatio  (None, 14, 14, 256)  0          ['conv4_block6_2_bn[0][0]']      \n",
            " n)                                                                                               \n",
            "                                                                                                  \n",
            " conv4_block6_3_conv (Conv2D)   (None, 14, 14, 1024  263168      ['conv4_block6_2_relu[0][0]']    \n",
            "                                )                                                                 \n",
            "                                                                                                  \n",
            " conv4_block6_3_bn (BatchNormal  (None, 14, 14, 1024  4096       ['conv4_block6_3_conv[0][0]']    \n",
            " ization)                       )                                                                 \n",
            "                                                                                                  \n",
            " conv4_block6_add (Add)         (None, 14, 14, 1024  0           ['conv4_block5_out[0][0]',       \n",
            "                                )                                 'conv4_block6_3_bn[0][0]']      \n",
            "                                                                                                  \n",
            " conv4_block6_out (Activation)  (None, 14, 14, 1024  0           ['conv4_block6_add[0][0]']       \n",
            "                                )                                                                 \n",
            "                                                                                                  \n",
            " conv5_block1_1_conv (Conv2D)   (None, 7, 7, 512)    524800      ['conv4_block6_out[0][0]']       \n",
            "                                                                                                  \n",
            " conv5_block1_1_bn (BatchNormal  (None, 7, 7, 512)   2048        ['conv5_block1_1_conv[0][0]']    \n",
            " ization)                                                                                         \n",
            "                                                                                                  \n",
            " conv5_block1_1_relu (Activatio  (None, 7, 7, 512)   0           ['conv5_block1_1_bn[0][0]']      \n",
            " n)                                                                                               \n",
            "                                                                                                  \n",
            " conv5_block1_2_conv (Conv2D)   (None, 7, 7, 512)    2359808     ['conv5_block1_1_relu[0][0]']    \n",
            "                                                                                                  \n",
            " conv5_block1_2_bn (BatchNormal  (None, 7, 7, 512)   2048        ['conv5_block1_2_conv[0][0]']    \n",
            " ization)                                                                                         \n",
            "                                                                                                  \n",
            " conv5_block1_2_relu (Activatio  (None, 7, 7, 512)   0           ['conv5_block1_2_bn[0][0]']      \n",
            " n)                                                                                               \n",
            "                                                                                                  \n",
            " conv5_block1_0_conv (Conv2D)   (None, 7, 7, 2048)   2099200     ['conv4_block6_out[0][0]']       \n",
            "                                                                                                  \n",
            " conv5_block1_3_conv (Conv2D)   (None, 7, 7, 2048)   1050624     ['conv5_block1_2_relu[0][0]']    \n",
            "                                                                                                  \n",
            " conv5_block1_0_bn (BatchNormal  (None, 7, 7, 2048)  8192        ['conv5_block1_0_conv[0][0]']    \n",
            " ization)                                                                                         \n",
            "                                                                                                  \n",
            " conv5_block1_3_bn (BatchNormal  (None, 7, 7, 2048)  8192        ['conv5_block1_3_conv[0][0]']    \n",
            " ization)                                                                                         \n",
            "                                                                                                  \n",
            " conv5_block1_add (Add)         (None, 7, 7, 2048)   0           ['conv5_block1_0_bn[0][0]',      \n",
            "                                                                  'conv5_block1_3_bn[0][0]']      \n",
            "                                                                                                  \n",
            " conv5_block1_out (Activation)  (None, 7, 7, 2048)   0           ['conv5_block1_add[0][0]']       \n",
            "                                                                                                  \n",
            " conv5_block2_1_conv (Conv2D)   (None, 7, 7, 512)    1049088     ['conv5_block1_out[0][0]']       \n",
            "                                                                                                  \n",
            " conv5_block2_1_bn (BatchNormal  (None, 7, 7, 512)   2048        ['conv5_block2_1_conv[0][0]']    \n",
            " ization)                                                                                         \n",
            "                                                                                                  \n",
            " conv5_block2_1_relu (Activatio  (None, 7, 7, 512)   0           ['conv5_block2_1_bn[0][0]']      \n",
            " n)                                                                                               \n",
            "                                                                                                  \n",
            " conv5_block2_2_conv (Conv2D)   (None, 7, 7, 512)    2359808     ['conv5_block2_1_relu[0][0]']    \n",
            "                                                                                                  \n",
            " conv5_block2_2_bn (BatchNormal  (None, 7, 7, 512)   2048        ['conv5_block2_2_conv[0][0]']    \n",
            " ization)                                                                                         \n",
            "                                                                                                  \n",
            " conv5_block2_2_relu (Activatio  (None, 7, 7, 512)   0           ['conv5_block2_2_bn[0][0]']      \n",
            " n)                                                                                               \n",
            "                                                                                                  \n",
            " conv5_block2_3_conv (Conv2D)   (None, 7, 7, 2048)   1050624     ['conv5_block2_2_relu[0][0]']    \n",
            "                                                                                                  \n",
            " conv5_block2_3_bn (BatchNormal  (None, 7, 7, 2048)  8192        ['conv5_block2_3_conv[0][0]']    \n",
            " ization)                                                                                         \n",
            "                                                                                                  \n",
            " conv5_block2_add (Add)         (None, 7, 7, 2048)   0           ['conv5_block1_out[0][0]',       \n",
            "                                                                  'conv5_block2_3_bn[0][0]']      \n",
            "                                                                                                  \n",
            " conv5_block2_out (Activation)  (None, 7, 7, 2048)   0           ['conv5_block2_add[0][0]']       \n",
            "                                                                                                  \n",
            " conv5_block3_1_conv (Conv2D)   (None, 7, 7, 512)    1049088     ['conv5_block2_out[0][0]']       \n",
            "                                                                                                  \n",
            " conv5_block3_1_bn (BatchNormal  (None, 7, 7, 512)   2048        ['conv5_block3_1_conv[0][0]']    \n",
            " ization)                                                                                         \n",
            "                                                                                                  \n",
            " conv5_block3_1_relu (Activatio  (None, 7, 7, 512)   0           ['conv5_block3_1_bn[0][0]']      \n",
            " n)                                                                                               \n",
            "                                                                                                  \n",
            " conv5_block3_2_conv (Conv2D)   (None, 7, 7, 512)    2359808     ['conv5_block3_1_relu[0][0]']    \n",
            "                                                                                                  \n",
            " conv5_block3_2_bn (BatchNormal  (None, 7, 7, 512)   2048        ['conv5_block3_2_conv[0][0]']    \n",
            " ization)                                                                                         \n",
            "                                                                                                  \n",
            " conv5_block3_2_relu (Activatio  (None, 7, 7, 512)   0           ['conv5_block3_2_bn[0][0]']      \n",
            " n)                                                                                               \n",
            "                                                                                                  \n",
            " conv5_block3_3_conv (Conv2D)   (None, 7, 7, 2048)   1050624     ['conv5_block3_2_relu[0][0]']    \n",
            "                                                                                                  \n",
            " conv5_block3_3_bn (BatchNormal  (None, 7, 7, 2048)  8192        ['conv5_block3_3_conv[0][0]']    \n",
            " ization)                                                                                         \n",
            "                                                                                                  \n",
            " conv5_block3_add (Add)         (None, 7, 7, 2048)   0           ['conv5_block2_out[0][0]',       \n",
            "                                                                  'conv5_block3_3_bn[0][0]']      \n",
            "                                                                                                  \n",
            " conv5_block3_out (Activation)  (None, 7, 7, 2048)   0           ['conv5_block3_add[0][0]']       \n",
            "                                                                                                  \n",
            " avg_pool (GlobalAveragePooling  (None, 2048)        0           ['conv5_block3_out[0][0]']       \n",
            " 2D)                                                                                              \n",
            "                                                                                                  \n",
            "==================================================================================================\n",
            "Total params: 23,587,712\n",
            "Trainable params: 23,534,592\n",
            "Non-trainable params: 53,120\n",
            "__________________________________________________________________________________________________\n"
          ]
        }
      ],
      "source": [
        "Home_model.summary()"
      ]
    },
    {
      "cell_type": "code",
      "execution_count": null,
      "metadata": {
        "colab": {
          "base_uri": "https://localhost:8080/"
        },
        "id": "RsT92LFW1Xf5",
        "outputId": "b70c927f-c1dc-4c51-dfd0-f44111f25323"
      },
      "outputs": [
        {
          "output_type": "execute_result",
          "data": {
            "text/plain": [
              "176"
            ]
          },
          "metadata": {},
          "execution_count": 22
        }
      ],
      "source": [
        "len(Home_model.layers)"
      ]
    },
    {
      "cell_type": "code",
      "source": [
        "for layer in Home_model.layers:\n",
        "  layer.trainable=False"
      ],
      "metadata": {
        "id": "oashRUFLFFkj"
      },
      "execution_count": null,
      "outputs": []
    },
    {
      "cell_type": "code",
      "source": [
        "resnet_model = Sequential()"
      ],
      "metadata": {
        "id": "ldPhoB72FOJc"
      },
      "execution_count": null,
      "outputs": []
    },
    {
      "cell_type": "code",
      "source": [
        "resnet_model.add(InputLayer(input_shape=(224,224,3 ), name='Input_Layer'))"
      ],
      "metadata": {
        "id": "xFwG9szEi2Ce"
      },
      "execution_count": null,
      "outputs": []
    },
    {
      "cell_type": "code",
      "execution_count": null,
      "metadata": {
        "id": "xb8LZCC_1Xh9"
      },
      "outputs": [],
      "source": [
        "resnet_model.add(Home_model)\n",
        "resnet_model.add(Flatten())\n",
        "resnet_model.add(Dense(512, activation='relu'))\n",
        "resnet_model.add(Dense(4,activation='softmax'))\n"
      ]
    },
    {
      "cell_type": "code",
      "execution_count": null,
      "metadata": {
        "id": "CoNyDWzS1Xk9"
      },
      "outputs": [],
      "source": []
    },
    {
      "cell_type": "code",
      "execution_count": null,
      "metadata": {
        "colab": {
          "base_uri": "https://localhost:8080/"
        },
        "id": "vobj2gr71Xn5",
        "outputId": "9b10b683-62ca-4e2a-e769-a71c40eb4bd3"
      },
      "outputs": [
        {
          "output_type": "stream",
          "name": "stdout",
          "text": [
            "Model: \"sequential\"\n",
            "_________________________________________________________________\n",
            " Layer (type)                Output Shape              Param #   \n",
            "=================================================================\n",
            " resnet50 (Functional)       (None, 2048)              23587712  \n",
            "                                                                 \n",
            " flatten (Flatten)           (None, 2048)              0         \n",
            "                                                                 \n",
            " dense (Dense)               (None, 512)               1049088   \n",
            "                                                                 \n",
            " dense_1 (Dense)             (None, 4)                 2052      \n",
            "                                                                 \n",
            "=================================================================\n",
            "Total params: 24,638,852\n",
            "Trainable params: 1,051,140\n",
            "Non-trainable params: 23,587,712\n",
            "_________________________________________________________________\n"
          ]
        }
      ],
      "source": [
        "resnet_model.summary()"
      ]
    },
    {
      "cell_type": "code",
      "execution_count": null,
      "metadata": {
        "id": "e42yLvNV2NEX"
      },
      "outputs": [],
      "source": []
    },
    {
      "cell_type": "markdown",
      "metadata": {
        "id": "RVHtei-K2elW"
      },
      "source": [
        "# Train The Model"
      ]
    },
    {
      "cell_type": "code",
      "execution_count": null,
      "metadata": {
        "id": "APVsrZxN2gVi"
      },
      "outputs": [],
      "source": [
        "resnet_model.compile(\n",
        "    optimizer =Adam(learning_rate=0.0001),\n",
        "    loss='categorical_crossentropy',\n",
        "    metrics=['accuracy',Recall(), Precision(),TruePositives(),TrueNegatives(), FalsePositives(),FalseNegatives()]\n",
        ")"
      ]
    },
    {
      "cell_type": "code",
      "execution_count": null,
      "metadata": {
        "id": "_ktNHJ60ftnK"
      },
      "outputs": [],
      "source": [
        "epochs=  20"
      ]
    },
    {
      "cell_type": "code",
      "execution_count": null,
      "metadata": {
        "colab": {
          "base_uri": "https://localhost:8080/"
        },
        "id": "2Kui784a2hnY",
        "outputId": "bf471d27-e216-452b-b0ff-81f5d5d017fa"
      },
      "outputs": [
        {
          "output_type": "stream",
          "name": "stdout",
          "text": [
            "Epoch 1/20\n",
            "122/122 - 28s - loss: 0.6855 - accuracy: 0.7420 - recall: 0.6653 - precision: 0.7873 - true_positives: 807.0000 - true_negatives: 3421.0000 - false_positives: 218.0000 - false_negatives: 406.0000 - val_loss: 0.5059 - val_accuracy: 0.8192 - val_recall: 0.7784 - val_precision: 0.8449 - val_true_positives: 267.0000 - val_true_negatives: 980.0000 - val_false_positives: 49.0000 - val_false_negatives: 76.0000 - 28s/epoch - 232ms/step\n",
            "Epoch 2/20\n",
            "122/122 - 14s - loss: 0.3409 - accuracy: 0.8788 - recall: 0.8533 - precision: 0.9024 - true_positives: 1035.0000 - true_negatives: 3527.0000 - false_positives: 112.0000 - false_negatives: 178.0000 - val_loss: 0.4358 - val_accuracy: 0.8338 - val_recall: 0.8163 - val_precision: 0.8615 - val_true_positives: 280.0000 - val_true_negatives: 984.0000 - val_false_positives: 45.0000 - val_false_negatives: 63.0000 - 14s/epoch - 117ms/step\n",
            "Epoch 3/20\n",
            "122/122 - 15s - loss: 0.2424 - accuracy: 0.9167 - recall: 0.8986 - precision: 0.9380 - true_positives: 1090.0000 - true_negatives: 3567.0000 - false_positives: 72.0000 - false_negatives: 123.0000 - val_loss: 0.3792 - val_accuracy: 0.8746 - val_recall: 0.8571 - val_precision: 0.8963 - val_true_positives: 294.0000 - val_true_negatives: 995.0000 - val_false_positives: 34.0000 - val_false_negatives: 49.0000 - 15s/epoch - 126ms/step\n",
            "Epoch 4/20\n",
            "122/122 - 16s - loss: 0.1847 - accuracy: 0.9448 - recall: 0.9332 - precision: 0.9553 - true_positives: 1132.0000 - true_negatives: 3586.0000 - false_positives: 53.0000 - false_negatives: 81.0000 - val_loss: 0.3970 - val_accuracy: 0.8601 - val_recall: 0.8338 - val_precision: 0.8800 - val_true_positives: 286.0000 - val_true_negatives: 990.0000 - val_false_positives: 39.0000 - val_false_negatives: 57.0000 - 16s/epoch - 130ms/step\n",
            "Epoch 5/20\n",
            "122/122 - 14s - loss: 0.1523 - accuracy: 0.9580 - recall: 0.9489 - precision: 0.9680 - true_positives: 1151.0000 - true_negatives: 3601.0000 - false_positives: 38.0000 - false_negatives: 62.0000 - val_loss: 0.3468 - val_accuracy: 0.8746 - val_recall: 0.8630 - val_precision: 0.8862 - val_true_positives: 296.0000 - val_true_negatives: 991.0000 - val_false_positives: 38.0000 - val_false_negatives: 47.0000 - 14s/epoch - 116ms/step\n",
            "Epoch 6/20\n",
            "122/122 - 15s - loss: 0.1291 - accuracy: 0.9670 - recall: 0.9637 - precision: 0.9734 - true_positives: 1169.0000 - true_negatives: 3607.0000 - false_positives: 32.0000 - false_negatives: 44.0000 - val_loss: 0.3541 - val_accuracy: 0.8950 - val_recall: 0.8805 - val_precision: 0.9042 - val_true_positives: 302.0000 - val_true_negatives: 997.0000 - val_false_positives: 32.0000 - val_false_negatives: 41.0000 - 15s/epoch - 124ms/step\n",
            "Epoch 7/20\n",
            "122/122 - 14s - loss: 0.1020 - accuracy: 0.9786 - recall: 0.9728 - precision: 0.9825 - true_positives: 1180.0000 - true_negatives: 3618.0000 - false_positives: 21.0000 - false_negatives: 33.0000 - val_loss: 0.3516 - val_accuracy: 0.8863 - val_recall: 0.8746 - val_precision: 0.9036 - val_true_positives: 300.0000 - val_true_negatives: 997.0000 - val_false_positives: 32.0000 - val_false_negatives: 43.0000 - 14s/epoch - 116ms/step\n",
            "Epoch 8/20\n",
            "122/122 - 14s - loss: 0.0835 - accuracy: 0.9810 - recall: 0.9786 - precision: 0.9859 - true_positives: 1187.0000 - true_negatives: 3622.0000 - false_positives: 17.0000 - false_negatives: 26.0000 - val_loss: 0.3381 - val_accuracy: 0.8863 - val_recall: 0.8717 - val_precision: 0.8899 - val_true_positives: 299.0000 - val_true_negatives: 992.0000 - val_false_positives: 37.0000 - val_false_negatives: 44.0000 - 14s/epoch - 116ms/step\n",
            "Epoch 9/20\n",
            "122/122 - 14s - loss: 0.0698 - accuracy: 0.9868 - recall: 0.9835 - precision: 0.9892 - true_positives: 1193.0000 - true_negatives: 3626.0000 - false_positives: 13.0000 - false_negatives: 20.0000 - val_loss: 0.3542 - val_accuracy: 0.8746 - val_recall: 0.8484 - val_precision: 0.8899 - val_true_positives: 291.0000 - val_true_negatives: 993.0000 - val_false_positives: 36.0000 - val_false_negatives: 52.0000 - 14s/epoch - 115ms/step\n",
            "Epoch 10/20\n",
            "122/122 - 15s - loss: 0.0572 - accuracy: 0.9926 - recall: 0.9918 - precision: 0.9934 - true_positives: 1203.0000 - true_negatives: 3631.0000 - false_positives: 8.0000 - false_negatives: 10.0000 - val_loss: 0.3443 - val_accuracy: 0.8892 - val_recall: 0.8776 - val_precision: 0.8985 - val_true_positives: 301.0000 - val_true_negatives: 995.0000 - val_false_positives: 34.0000 - val_false_negatives: 42.0000 - 15s/epoch - 127ms/step\n",
            "Epoch 11/20\n",
            "122/122 - 14s - loss: 0.0508 - accuracy: 0.9926 - recall: 0.9926 - precision: 0.9934 - true_positives: 1204.0000 - true_negatives: 3631.0000 - false_positives: 8.0000 - false_negatives: 9.0000 - val_loss: 0.3470 - val_accuracy: 0.8863 - val_recall: 0.8688 - val_precision: 0.8949 - val_true_positives: 298.0000 - val_true_negatives: 994.0000 - val_false_positives: 35.0000 - val_false_negatives: 45.0000 - 14s/epoch - 115ms/step\n",
            "Epoch 12/20\n",
            "122/122 - 14s - loss: 0.0419 - accuracy: 0.9967 - recall: 0.9959 - precision: 0.9975 - true_positives: 1208.0000 - true_negatives: 3636.0000 - false_positives: 3.0000 - false_negatives: 5.0000 - val_loss: 0.3750 - val_accuracy: 0.8834 - val_recall: 0.8659 - val_precision: 0.8919 - val_true_positives: 297.0000 - val_true_negatives: 993.0000 - val_false_positives: 36.0000 - val_false_negatives: 46.0000 - 14s/epoch - 116ms/step\n",
            "Epoch 13/20\n",
            "122/122 - 14s - loss: 0.0382 - accuracy: 0.9951 - recall: 0.9934 - precision: 0.9967 - true_positives: 1205.0000 - true_negatives: 3635.0000 - false_positives: 4.0000 - false_negatives: 8.0000 - val_loss: 0.3424 - val_accuracy: 0.8834 - val_recall: 0.8746 - val_precision: 0.9036 - val_true_positives: 300.0000 - val_true_negatives: 997.0000 - val_false_positives: 32.0000 - val_false_negatives: 43.0000 - 14s/epoch - 115ms/step\n",
            "Epoch 14/20\n",
            "122/122 - 15s - loss: 0.0317 - accuracy: 0.9984 - recall: 0.9975 - precision: 0.9983 - true_positives: 1210.0000 - true_negatives: 3637.0000 - false_positives: 2.0000 - false_negatives: 3.0000 - val_loss: 0.3768 - val_accuracy: 0.8776 - val_recall: 0.8746 - val_precision: 0.8902 - val_true_positives: 300.0000 - val_true_negatives: 992.0000 - val_false_positives: 37.0000 - val_false_negatives: 43.0000 - 15s/epoch - 125ms/step\n",
            "Epoch 15/20\n",
            "122/122 - 14s - loss: 0.0271 - accuracy: 0.9984 - recall: 0.9975 - precision: 0.9983 - true_positives: 1210.0000 - true_negatives: 3637.0000 - false_positives: 2.0000 - false_negatives: 3.0000 - val_loss: 0.3468 - val_accuracy: 0.8805 - val_recall: 0.8717 - val_precision: 0.8925 - val_true_positives: 299.0000 - val_true_negatives: 993.0000 - val_false_positives: 36.0000 - val_false_negatives: 44.0000 - 14s/epoch - 115ms/step\n",
            "Epoch 16/20\n",
            "122/122 - 17s - loss: 0.0236 - accuracy: 0.9984 - recall: 0.9984 - precision: 0.9984 - true_positives: 1211.0000 - true_negatives: 3637.0000 - false_positives: 2.0000 - false_negatives: 2.0000 - val_loss: 0.3658 - val_accuracy: 0.8805 - val_recall: 0.8746 - val_precision: 0.8902 - val_true_positives: 300.0000 - val_true_negatives: 992.0000 - val_false_positives: 37.0000 - val_false_negatives: 43.0000 - 17s/epoch - 137ms/step\n",
            "Epoch 17/20\n",
            "122/122 - 14s - loss: 0.0211 - accuracy: 0.9992 - recall: 0.9992 - precision: 0.9992 - true_positives: 1212.0000 - true_negatives: 3638.0000 - false_positives: 1.0000 - false_negatives: 1.0000 - val_loss: 0.3740 - val_accuracy: 0.8776 - val_recall: 0.8688 - val_precision: 0.8869 - val_true_positives: 298.0000 - val_true_negatives: 991.0000 - val_false_positives: 38.0000 - val_false_negatives: 45.0000 - 14s/epoch - 114ms/step\n",
            "Epoch 18/20\n",
            "122/122 - 15s - loss: 0.0208 - accuracy: 0.9984 - recall: 0.9984 - precision: 0.9984 - true_positives: 1211.0000 - true_negatives: 3637.0000 - false_positives: 2.0000 - false_negatives: 2.0000 - val_loss: 0.3668 - val_accuracy: 0.8746 - val_recall: 0.8746 - val_precision: 0.8929 - val_true_positives: 300.0000 - val_true_negatives: 993.0000 - val_false_positives: 36.0000 - val_false_negatives: 43.0000 - 15s/epoch - 125ms/step\n",
            "Epoch 19/20\n",
            "122/122 - 14s - loss: 0.0195 - accuracy: 0.9984 - recall: 0.9984 - precision: 0.9984 - true_positives: 1211.0000 - true_negatives: 3637.0000 - false_positives: 2.0000 - false_negatives: 2.0000 - val_loss: 0.3605 - val_accuracy: 0.8863 - val_recall: 0.8776 - val_precision: 0.9012 - val_true_positives: 301.0000 - val_true_negatives: 996.0000 - val_false_positives: 33.0000 - val_false_negatives: 42.0000 - 14s/epoch - 114ms/step\n",
            "Epoch 20/20\n",
            "122/122 - 14s - loss: 0.0142 - accuracy: 0.9992 - recall: 0.9992 - precision: 0.9992 - true_positives: 1212.0000 - true_negatives: 3638.0000 - false_positives: 1.0000 - false_negatives: 1.0000 - val_loss: 0.3709 - val_accuracy: 0.8892 - val_recall: 0.8892 - val_precision: 0.9024 - val_true_positives: 305.0000 - val_true_negatives: 996.0000 - val_false_positives: 33.0000 - val_false_negatives: 38.0000 - 14s/epoch - 114ms/step\n"
          ]
        }
      ],
      "source": [
        "History = resnet_model.fit(\n",
        "    x = train_batches,\n",
        "    validation_data = valid_batches,\n",
        "    epochs = epochs,\n",
        "    verbose=2\n",
        "    )"
      ]
    },
    {
      "cell_type": "code",
      "execution_count": null,
      "metadata": {
        "id": "yzRyE_jb2zWK"
      },
      "outputs": [],
      "source": []
    },
    {
      "cell_type": "code",
      "execution_count": null,
      "metadata": {
        "id": "L_MAxQ3l21wD",
        "colab": {
          "base_uri": "https://localhost:8080/"
        },
        "outputId": "0fd614d0-92d5-40f6-dd88-f3c5b2e815e8"
      },
      "outputs": [
        {
          "output_type": "execute_result",
          "data": {
            "text/plain": [
              "{'loss': [0.685525119304657,\n",
              "  0.3409257233142853,\n",
              "  0.24238218367099762,\n",
              "  0.18470323085784912,\n",
              "  0.1523035764694214,\n",
              "  0.1291119009256363,\n",
              "  0.10195805877447128,\n",
              "  0.08348851650953293,\n",
              "  0.06978866457939148,\n",
              "  0.057164642959833145,\n",
              "  0.050843704491853714,\n",
              "  0.04186354577541351,\n",
              "  0.03820240870118141,\n",
              "  0.03165857493877411,\n",
              "  0.02708190679550171,\n",
              "  0.02360996976494789,\n",
              "  0.021124711260199547,\n",
              "  0.02083444595336914,\n",
              "  0.019468851387500763,\n",
              "  0.014208772219717503],\n",
              " 'accuracy': [0.7419620752334595,\n",
              "  0.878812849521637,\n",
              "  0.9167353510856628,\n",
              "  0.944765031337738,\n",
              "  0.9579554796218872,\n",
              "  0.9670239090919495,\n",
              "  0.978565514087677,\n",
              "  0.9810387492179871,\n",
              "  0.9868095517158508,\n",
              "  0.9925803542137146,\n",
              "  0.9925803542137146,\n",
              "  0.9967023730278015,\n",
              "  0.9950535893440247,\n",
              "  0.9983512163162231,\n",
              "  0.9983512163162231,\n",
              "  0.9983512163162231,\n",
              "  0.9991756081581116,\n",
              "  0.9983512163162231,\n",
              "  0.9983512163162231,\n",
              "  0.9991756081581116],\n",
              " 'recall': [0.6652926802635193,\n",
              "  0.8532564043998718,\n",
              "  0.8985984921455383,\n",
              "  0.9332234263420105,\n",
              "  0.948887050151825,\n",
              "  0.963726282119751,\n",
              "  0.9727947115898132,\n",
              "  0.978565514087677,\n",
              "  0.9835119247436523,\n",
              "  0.9917559623718262,\n",
              "  0.9925803542137146,\n",
              "  0.9958779811859131,\n",
              "  0.9934048056602478,\n",
              "  0.9975267648696899,\n",
              "  0.9975267648696899,\n",
              "  0.9983512163162231,\n",
              "  0.9991756081581116,\n",
              "  0.9983512163162231,\n",
              "  0.9983512163162231,\n",
              "  0.9991756081581116],\n",
              " 'precision': [0.7873170971870422,\n",
              "  0.9023539423942566,\n",
              "  0.9380378723144531,\n",
              "  0.9552742838859558,\n",
              "  0.9680403470993042,\n",
              "  0.9733555316925049,\n",
              "  0.9825145602226257,\n",
              "  0.9858803749084473,\n",
              "  0.9892205595970154,\n",
              "  0.9933938980102539,\n",
              "  0.9933993220329285,\n",
              "  0.9975227117538452,\n",
              "  0.9966914653778076,\n",
              "  0.9983498454093933,\n",
              "  0.9983498454093933,\n",
              "  0.9983512163162231,\n",
              "  0.9991756081581116,\n",
              "  0.9983512163162231,\n",
              "  0.9983512163162231,\n",
              "  0.9991756081581116],\n",
              " 'true_positives': [807.0,\n",
              "  1035.0,\n",
              "  1090.0,\n",
              "  1132.0,\n",
              "  1151.0,\n",
              "  1169.0,\n",
              "  1180.0,\n",
              "  1187.0,\n",
              "  1193.0,\n",
              "  1203.0,\n",
              "  1204.0,\n",
              "  1208.0,\n",
              "  1205.0,\n",
              "  1210.0,\n",
              "  1210.0,\n",
              "  1211.0,\n",
              "  1212.0,\n",
              "  1211.0,\n",
              "  1211.0,\n",
              "  1212.0],\n",
              " 'true_negatives': [3421.0,\n",
              "  3527.0,\n",
              "  3567.0,\n",
              "  3586.0,\n",
              "  3601.0,\n",
              "  3607.0,\n",
              "  3618.0,\n",
              "  3622.0,\n",
              "  3626.0,\n",
              "  3631.0,\n",
              "  3631.0,\n",
              "  3636.0,\n",
              "  3635.0,\n",
              "  3637.0,\n",
              "  3637.0,\n",
              "  3637.0,\n",
              "  3638.0,\n",
              "  3637.0,\n",
              "  3637.0,\n",
              "  3638.0],\n",
              " 'false_positives': [218.0,\n",
              "  112.0,\n",
              "  72.0,\n",
              "  53.0,\n",
              "  38.0,\n",
              "  32.0,\n",
              "  21.0,\n",
              "  17.0,\n",
              "  13.0,\n",
              "  8.0,\n",
              "  8.0,\n",
              "  3.0,\n",
              "  4.0,\n",
              "  2.0,\n",
              "  2.0,\n",
              "  2.0,\n",
              "  1.0,\n",
              "  2.0,\n",
              "  2.0,\n",
              "  1.0],\n",
              " 'false_negatives': [406.0,\n",
              "  178.0,\n",
              "  123.0,\n",
              "  81.0,\n",
              "  62.0,\n",
              "  44.0,\n",
              "  33.0,\n",
              "  26.0,\n",
              "  20.0,\n",
              "  10.0,\n",
              "  9.0,\n",
              "  5.0,\n",
              "  8.0,\n",
              "  3.0,\n",
              "  3.0,\n",
              "  2.0,\n",
              "  1.0,\n",
              "  2.0,\n",
              "  2.0,\n",
              "  1.0],\n",
              " 'val_loss': [0.5059301257133484,\n",
              "  0.4358009696006775,\n",
              "  0.37924429774284363,\n",
              "  0.3969852328300476,\n",
              "  0.3468247354030609,\n",
              "  0.3541240096092224,\n",
              "  0.35161924362182617,\n",
              "  0.338075190782547,\n",
              "  0.35420677065849304,\n",
              "  0.3443431556224823,\n",
              "  0.34700074791908264,\n",
              "  0.37502801418304443,\n",
              "  0.34243902564048767,\n",
              "  0.3768354654312134,\n",
              "  0.34681135416030884,\n",
              "  0.3657669425010681,\n",
              "  0.37401342391967773,\n",
              "  0.3667924702167511,\n",
              "  0.3605380356311798,\n",
              "  0.37091919779777527],\n",
              " 'val_accuracy': [0.819242000579834,\n",
              "  0.8338192701339722,\n",
              "  0.8746355772018433,\n",
              "  0.8600583076477051,\n",
              "  0.8746355772018433,\n",
              "  0.8950437307357788,\n",
              "  0.8862974047660828,\n",
              "  0.8862974047660828,\n",
              "  0.8746355772018433,\n",
              "  0.8892128467559814,\n",
              "  0.8862974047660828,\n",
              "  0.8833819031715393,\n",
              "  0.8833819031715393,\n",
              "  0.8775510191917419,\n",
              "  0.8804664611816406,\n",
              "  0.8804664611816406,\n",
              "  0.8775510191917419,\n",
              "  0.8746355772018433,\n",
              "  0.8862974047660828,\n",
              "  0.8892128467559814],\n",
              " 'val_recall': [0.7784256339073181,\n",
              "  0.8163265585899353,\n",
              "  0.8571428656578064,\n",
              "  0.8338192701339722,\n",
              "  0.8629737496376038,\n",
              "  0.8804664611816406,\n",
              "  0.8746355772018433,\n",
              "  0.8717201352119446,\n",
              "  0.8483964800834656,\n",
              "  0.8775510191917419,\n",
              "  0.8688046932220459,\n",
              "  0.8658891916275024,\n",
              "  0.8746355772018433,\n",
              "  0.8746355772018433,\n",
              "  0.8717201352119446,\n",
              "  0.8746355772018433,\n",
              "  0.8688046932220459,\n",
              "  0.8746355772018433,\n",
              "  0.8775510191917419,\n",
              "  0.8892128467559814],\n",
              " 'val_precision': [0.844936728477478,\n",
              "  0.8615384697914124,\n",
              "  0.8963414430618286,\n",
              "  0.8799999952316284,\n",
              "  0.886227548122406,\n",
              "  0.9041916131973267,\n",
              "  0.9036144614219666,\n",
              "  0.8898809552192688,\n",
              "  0.8899082541465759,\n",
              "  0.8985074758529663,\n",
              "  0.8948948979377747,\n",
              "  0.8918918967247009,\n",
              "  0.9036144614219666,\n",
              "  0.8902077078819275,\n",
              "  0.8925372958183289,\n",
              "  0.8902077078819275,\n",
              "  0.886904776096344,\n",
              "  0.8928571343421936,\n",
              "  0.901197612285614,\n",
              "  0.9023668766021729],\n",
              " 'val_true_positives': [267.0,\n",
              "  280.0,\n",
              "  294.0,\n",
              "  286.0,\n",
              "  296.0,\n",
              "  302.0,\n",
              "  300.0,\n",
              "  299.0,\n",
              "  291.0,\n",
              "  301.0,\n",
              "  298.0,\n",
              "  297.0,\n",
              "  300.0,\n",
              "  300.0,\n",
              "  299.0,\n",
              "  300.0,\n",
              "  298.0,\n",
              "  300.0,\n",
              "  301.0,\n",
              "  305.0],\n",
              " 'val_true_negatives': [980.0,\n",
              "  984.0,\n",
              "  995.0,\n",
              "  990.0,\n",
              "  991.0,\n",
              "  997.0,\n",
              "  997.0,\n",
              "  992.0,\n",
              "  993.0,\n",
              "  995.0,\n",
              "  994.0,\n",
              "  993.0,\n",
              "  997.0,\n",
              "  992.0,\n",
              "  993.0,\n",
              "  992.0,\n",
              "  991.0,\n",
              "  993.0,\n",
              "  996.0,\n",
              "  996.0],\n",
              " 'val_false_positives': [49.0,\n",
              "  45.0,\n",
              "  34.0,\n",
              "  39.0,\n",
              "  38.0,\n",
              "  32.0,\n",
              "  32.0,\n",
              "  37.0,\n",
              "  36.0,\n",
              "  34.0,\n",
              "  35.0,\n",
              "  36.0,\n",
              "  32.0,\n",
              "  37.0,\n",
              "  36.0,\n",
              "  37.0,\n",
              "  38.0,\n",
              "  36.0,\n",
              "  33.0,\n",
              "  33.0],\n",
              " 'val_false_negatives': [76.0,\n",
              "  63.0,\n",
              "  49.0,\n",
              "  57.0,\n",
              "  47.0,\n",
              "  41.0,\n",
              "  43.0,\n",
              "  44.0,\n",
              "  52.0,\n",
              "  42.0,\n",
              "  45.0,\n",
              "  46.0,\n",
              "  43.0,\n",
              "  43.0,\n",
              "  44.0,\n",
              "  43.0,\n",
              "  45.0,\n",
              "  43.0,\n",
              "  42.0,\n",
              "  38.0]}"
            ]
          },
          "metadata": {},
          "execution_count": 31
        }
      ],
      "source": [
        "History.history"
      ]
    },
    {
      "cell_type": "code",
      "source": [
        "import pandas as pd"
      ],
      "metadata": {
        "id": "x5ovHfNv17po"
      },
      "execution_count": null,
      "outputs": []
    },
    {
      "cell_type": "code",
      "source": [
        "history_df = pd.DataFrame(History.history)"
      ],
      "metadata": {
        "id": "M7R3zNdY17sd"
      },
      "execution_count": null,
      "outputs": []
    },
    {
      "cell_type": "code",
      "source": [
        "history_df.to_csv(os.path.join(home,'output',name_output+'.csv'))"
      ],
      "metadata": {
        "id": "fn8UDVeO2HsH"
      },
      "execution_count": null,
      "outputs": []
    },
    {
      "cell_type": "code",
      "source": [],
      "metadata": {
        "id": "iIAXGO102HvH"
      },
      "execution_count": null,
      "outputs": []
    },
    {
      "cell_type": "markdown",
      "metadata": {
        "id": "F3ReMrmi25Fq"
      },
      "source": [
        "# Predict"
      ]
    },
    {
      "cell_type": "code",
      "execution_count": null,
      "metadata": {
        "id": "Pc39O2kL21ze"
      },
      "outputs": [],
      "source": [
        "test_labels= test_batches.classes"
      ]
    },
    {
      "cell_type": "code",
      "source": [
        "x_test =  np.concatenate([test_batches.next()[0] for i in range(test_batches.__len__())])"
      ],
      "metadata": {
        "id": "71VtptbwGImb"
      },
      "execution_count": null,
      "outputs": []
    },
    {
      "cell_type": "code",
      "execution_count": null,
      "metadata": {
        "id": "zm1BxZjR28xd"
      },
      "outputs": [],
      "source": [
        "predictions = resnet_model.predict(  x = x_test,verbose=0)"
      ]
    },
    {
      "cell_type": "code",
      "source": [
        "dff = pd.DataFrame(predictions)"
      ],
      "metadata": {
        "id": "xN3LVgLhGSvw"
      },
      "execution_count": null,
      "outputs": []
    },
    {
      "cell_type": "code",
      "source": [
        "dff['test'] = test_labels\n",
        "dff.head(10)"
      ],
      "metadata": {
        "colab": {
          "base_uri": "https://localhost:8080/",
          "height": 363
        },
        "id": "IBrJHP_dGSyo",
        "outputId": "f6347109-254c-4259-f1d3-2941dd502d49"
      },
      "execution_count": null,
      "outputs": [
        {
          "output_type": "execute_result",
          "data": {
            "text/plain": [
              "          0         1         2         3  test\n",
              "0  0.001412  0.000113  0.107643  0.890832     0\n",
              "1  0.995122  0.000053  0.004445  0.000381     0\n",
              "2  0.974491  0.000088  0.024816  0.000605     0\n",
              "3  0.998717  0.000057  0.000977  0.000249     0\n",
              "4  0.994699  0.000017  0.002090  0.003194     0\n",
              "5  0.997530  0.000656  0.001705  0.000109     0\n",
              "6  0.971552  0.025474  0.002557  0.000417     0\n",
              "7  0.997682  0.001182  0.000376  0.000760     0\n",
              "8  0.000006  0.153965  0.845383  0.000646     1\n",
              "9  0.011075  0.231415  0.595731  0.161779     1"
            ],
            "text/html": [
              "\n",
              "  <div id=\"df-11fe5904-ad1b-42db-9982-420f46ecbf51\">\n",
              "    <div class=\"colab-df-container\">\n",
              "      <div>\n",
              "<style scoped>\n",
              "    .dataframe tbody tr th:only-of-type {\n",
              "        vertical-align: middle;\n",
              "    }\n",
              "\n",
              "    .dataframe tbody tr th {\n",
              "        vertical-align: top;\n",
              "    }\n",
              "\n",
              "    .dataframe thead th {\n",
              "        text-align: right;\n",
              "    }\n",
              "</style>\n",
              "<table border=\"1\" class=\"dataframe\">\n",
              "  <thead>\n",
              "    <tr style=\"text-align: right;\">\n",
              "      <th></th>\n",
              "      <th>0</th>\n",
              "      <th>1</th>\n",
              "      <th>2</th>\n",
              "      <th>3</th>\n",
              "      <th>test</th>\n",
              "    </tr>\n",
              "  </thead>\n",
              "  <tbody>\n",
              "    <tr>\n",
              "      <th>0</th>\n",
              "      <td>0.001412</td>\n",
              "      <td>0.000113</td>\n",
              "      <td>0.107643</td>\n",
              "      <td>0.890832</td>\n",
              "      <td>0</td>\n",
              "    </tr>\n",
              "    <tr>\n",
              "      <th>1</th>\n",
              "      <td>0.995122</td>\n",
              "      <td>0.000053</td>\n",
              "      <td>0.004445</td>\n",
              "      <td>0.000381</td>\n",
              "      <td>0</td>\n",
              "    </tr>\n",
              "    <tr>\n",
              "      <th>2</th>\n",
              "      <td>0.974491</td>\n",
              "      <td>0.000088</td>\n",
              "      <td>0.024816</td>\n",
              "      <td>0.000605</td>\n",
              "      <td>0</td>\n",
              "    </tr>\n",
              "    <tr>\n",
              "      <th>3</th>\n",
              "      <td>0.998717</td>\n",
              "      <td>0.000057</td>\n",
              "      <td>0.000977</td>\n",
              "      <td>0.000249</td>\n",
              "      <td>0</td>\n",
              "    </tr>\n",
              "    <tr>\n",
              "      <th>4</th>\n",
              "      <td>0.994699</td>\n",
              "      <td>0.000017</td>\n",
              "      <td>0.002090</td>\n",
              "      <td>0.003194</td>\n",
              "      <td>0</td>\n",
              "    </tr>\n",
              "    <tr>\n",
              "      <th>5</th>\n",
              "      <td>0.997530</td>\n",
              "      <td>0.000656</td>\n",
              "      <td>0.001705</td>\n",
              "      <td>0.000109</td>\n",
              "      <td>0</td>\n",
              "    </tr>\n",
              "    <tr>\n",
              "      <th>6</th>\n",
              "      <td>0.971552</td>\n",
              "      <td>0.025474</td>\n",
              "      <td>0.002557</td>\n",
              "      <td>0.000417</td>\n",
              "      <td>0</td>\n",
              "    </tr>\n",
              "    <tr>\n",
              "      <th>7</th>\n",
              "      <td>0.997682</td>\n",
              "      <td>0.001182</td>\n",
              "      <td>0.000376</td>\n",
              "      <td>0.000760</td>\n",
              "      <td>0</td>\n",
              "    </tr>\n",
              "    <tr>\n",
              "      <th>8</th>\n",
              "      <td>0.000006</td>\n",
              "      <td>0.153965</td>\n",
              "      <td>0.845383</td>\n",
              "      <td>0.000646</td>\n",
              "      <td>1</td>\n",
              "    </tr>\n",
              "    <tr>\n",
              "      <th>9</th>\n",
              "      <td>0.011075</td>\n",
              "      <td>0.231415</td>\n",
              "      <td>0.595731</td>\n",
              "      <td>0.161779</td>\n",
              "      <td>1</td>\n",
              "    </tr>\n",
              "  </tbody>\n",
              "</table>\n",
              "</div>\n",
              "      <button class=\"colab-df-convert\" onclick=\"convertToInteractive('df-11fe5904-ad1b-42db-9982-420f46ecbf51')\"\n",
              "              title=\"Convert this dataframe to an interactive table.\"\n",
              "              style=\"display:none;\">\n",
              "        \n",
              "  <svg xmlns=\"http://www.w3.org/2000/svg\" height=\"24px\"viewBox=\"0 0 24 24\"\n",
              "       width=\"24px\">\n",
              "    <path d=\"M0 0h24v24H0V0z\" fill=\"none\"/>\n",
              "    <path d=\"M18.56 5.44l.94 2.06.94-2.06 2.06-.94-2.06-.94-.94-2.06-.94 2.06-2.06.94zm-11 1L8.5 8.5l.94-2.06 2.06-.94-2.06-.94L8.5 2.5l-.94 2.06-2.06.94zm10 10l.94 2.06.94-2.06 2.06-.94-2.06-.94-.94-2.06-.94 2.06-2.06.94z\"/><path d=\"M17.41 7.96l-1.37-1.37c-.4-.4-.92-.59-1.43-.59-.52 0-1.04.2-1.43.59L10.3 9.45l-7.72 7.72c-.78.78-.78 2.05 0 2.83L4 21.41c.39.39.9.59 1.41.59.51 0 1.02-.2 1.41-.59l7.78-7.78 2.81-2.81c.8-.78.8-2.07 0-2.86zM5.41 20L4 18.59l7.72-7.72 1.47 1.35L5.41 20z\"/>\n",
              "  </svg>\n",
              "      </button>\n",
              "      \n",
              "  <style>\n",
              "    .colab-df-container {\n",
              "      display:flex;\n",
              "      flex-wrap:wrap;\n",
              "      gap: 12px;\n",
              "    }\n",
              "\n",
              "    .colab-df-convert {\n",
              "      background-color: #E8F0FE;\n",
              "      border: none;\n",
              "      border-radius: 50%;\n",
              "      cursor: pointer;\n",
              "      display: none;\n",
              "      fill: #1967D2;\n",
              "      height: 32px;\n",
              "      padding: 0 0 0 0;\n",
              "      width: 32px;\n",
              "    }\n",
              "\n",
              "    .colab-df-convert:hover {\n",
              "      background-color: #E2EBFA;\n",
              "      box-shadow: 0px 1px 2px rgba(60, 64, 67, 0.3), 0px 1px 3px 1px rgba(60, 64, 67, 0.15);\n",
              "      fill: #174EA6;\n",
              "    }\n",
              "\n",
              "    [theme=dark] .colab-df-convert {\n",
              "      background-color: #3B4455;\n",
              "      fill: #D2E3FC;\n",
              "    }\n",
              "\n",
              "    [theme=dark] .colab-df-convert:hover {\n",
              "      background-color: #434B5C;\n",
              "      box-shadow: 0px 1px 3px 1px rgba(0, 0, 0, 0.15);\n",
              "      filter: drop-shadow(0px 1px 2px rgba(0, 0, 0, 0.3));\n",
              "      fill: #FFFFFF;\n",
              "    }\n",
              "  </style>\n",
              "\n",
              "      <script>\n",
              "        const buttonEl =\n",
              "          document.querySelector('#df-11fe5904-ad1b-42db-9982-420f46ecbf51 button.colab-df-convert');\n",
              "        buttonEl.style.display =\n",
              "          google.colab.kernel.accessAllowed ? 'block' : 'none';\n",
              "\n",
              "        async function convertToInteractive(key) {\n",
              "          const element = document.querySelector('#df-11fe5904-ad1b-42db-9982-420f46ecbf51');\n",
              "          const dataTable =\n",
              "            await google.colab.kernel.invokeFunction('convertToInteractive',\n",
              "                                                     [key], {});\n",
              "          if (!dataTable) return;\n",
              "\n",
              "          const docLinkHtml = 'Like what you see? Visit the ' +\n",
              "            '<a target=\"_blank\" href=https://colab.research.google.com/notebooks/data_table.ipynb>data table notebook</a>'\n",
              "            + ' to learn more about interactive tables.';\n",
              "          element.innerHTML = '';\n",
              "          dataTable['output_type'] = 'display_data';\n",
              "          await google.colab.output.renderOutput(dataTable, element);\n",
              "          const docLink = document.createElement('div');\n",
              "          docLink.innerHTML = docLinkHtml;\n",
              "          element.appendChild(docLink);\n",
              "        }\n",
              "      </script>\n",
              "    </div>\n",
              "  </div>\n",
              "  "
            ]
          },
          "metadata": {},
          "execution_count": 39
        }
      ]
    },
    {
      "cell_type": "markdown",
      "source": [
        "### Take prediction Probability to csv"
      ],
      "metadata": {
        "id": "9HAggLuFGjCy"
      }
    },
    {
      "cell_type": "code",
      "source": [
        "dff.to_csv(os.path.join(home,'output',name_output+'_prediction_probabilities.csv'))"
      ],
      "metadata": {
        "id": "I6ceNzRPGS12"
      },
      "execution_count": null,
      "outputs": []
    },
    {
      "cell_type": "markdown",
      "source": [
        "## Confusion matrix"
      ],
      "metadata": {
        "id": "w_qeBiPjGpVP"
      }
    },
    {
      "cell_type": "code",
      "execution_count": null,
      "metadata": {
        "id": "wdm-GTVy2-xW"
      },
      "outputs": [],
      "source": [
        "cm = confusion_matrix(y_pred = np.argmax(predictions,axis=-1),y_true=test_labels)"
      ]
    },
    {
      "cell_type": "code",
      "execution_count": null,
      "metadata": {
        "colab": {
          "base_uri": "https://localhost:8080/"
        },
        "id": "CimzpyeM3A7R",
        "outputId": "a70cff43-98b8-427c-9666-5e24ef1d62da"
      },
      "outputs": [
        {
          "output_type": "execute_result",
          "data": {
            "text/plain": [
              "{'Mosaic_N': 0, 'blight_N': 1, 'brownstreak_N': 2, 'greenmite_N': 3}"
            ]
          },
          "metadata": {},
          "execution_count": 42
        }
      ],
      "source": [
        "test_batches.class_indices"
      ]
    },
    {
      "cell_type": "code",
      "execution_count": null,
      "metadata": {
        "id": "tDagO6Ed3DLk"
      },
      "outputs": [],
      "source": [
        "cm_plot_labels = [i for i in test_batches.class_indices.keys()]"
      ]
    },
    {
      "cell_type": "code",
      "execution_count": null,
      "metadata": {
        "colab": {
          "base_uri": "https://localhost:8080/",
          "height": 314
        },
        "id": "H8ZJE3Eb3FPi",
        "outputId": "c0c906b2-01c1-497a-cb75-7ac88c3eb87c"
      },
      "outputs": [
        {
          "output_type": "stream",
          "name": "stdout",
          "text": [
            "confusion matrix without normalization\n"
          ]
        },
        {
          "output_type": "display_data",
          "data": {
            "text/plain": [
              "<Figure size 432x288 with 2 Axes>"
            ],
            "image/png": "[encoded data removed]"
          },
          "metadata": {
            "needs_background": "light"
          }
        }
      ],
      "source": [
        "plot_confusion_matrix(cm=cm,classes=cm_plot_labels,title = 'confusion matrix')"
      ]
    },
    {
      "cell_type": "code",
      "execution_count": null,
      "metadata": {
        "id": "FIZ-95263H82"
      },
      "outputs": [],
      "source": []
    },
    {
      "cell_type": "code",
      "execution_count": null,
      "metadata": {
        "id": "VJKSdcAGf5wl"
      },
      "outputs": [],
      "source": []
    },
    {
      "cell_type": "markdown",
      "metadata": {
        "id": "fIUNlXLjf589"
      },
      "source": [
        "# Save Model"
      ]
    },
    {
      "cell_type": "code",
      "execution_count": null,
      "metadata": {
        "id": "A5CedI-WgJvm"
      },
      "outputs": [],
      "source": []
    },
    {
      "cell_type": "code",
      "execution_count": null,
      "metadata": {
        "id": "cAxzeP8bhS_c"
      },
      "outputs": [],
      "source": [
        "resnet_model.save(this_model_name)"
      ]
    },
    {
      "cell_type": "code",
      "execution_count": null,
      "metadata": {
        "id": "Ak0H4JRlf7nW"
      },
      "outputs": [],
      "source": [
        "model_path = os.path.join(home,'models')\n",
        "# home = '/content/drive/MyDrive/project/Tensorflow And Keras' #/content/drive/MyDrive/project/Project2.1/Script2_pure classification"
      ]
    },
    {
      "cell_type": "code",
      "execution_count": null,
      "metadata": {
        "colab": {
          "base_uri": "https://localhost:8080/",
          "height": 35
        },
        "id": "W50T2kEjf-mG",
        "outputId": "1182ae1f-fafe-4681-9b24-2826a68dc850"
      },
      "outputs": [
        {
          "output_type": "execute_result",
          "data": {
            "text/plain": [
              "'/content/drive/MyDrive/project/Project2.1/Script2_pure classification/models/resnet50november3.h5'"
            ],
            "application/vnd.google.colaboratory.intrinsic+json": {
              "type": "string"
            }
          },
          "metadata": {},
          "execution_count": 47
        }
      ],
      "source": [
        "shutil.move(this_model_name,model_path)"
      ]
    },
    {
      "cell_type": "code",
      "execution_count": null,
      "metadata": {
        "id": "h5CteuOYgBeI"
      },
      "outputs": [],
      "source": []
    }
  ],
  "metadata": {
    "colab": {
      "provenance": [],
      "include_colab_link": true
    },
    "kernelspec": {
      "display_name": "Python 3",
      "name": "python3"
    },
    "language_info": {
      "name": "python"
    },
    "accelerator": "GPU",
    "gpuClass": "standard"
  },
  "nbformat": 4,
  "nbformat_minor": 0
}