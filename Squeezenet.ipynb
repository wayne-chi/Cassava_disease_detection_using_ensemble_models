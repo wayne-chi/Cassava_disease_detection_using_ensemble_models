{
  "cells": [
    {
      "cell_type": "markdown",
      "metadata": {
        "id": "view-in-github",
        "colab_type": "text"
      },
      "source": [
        "<a href=\"https://colab.research.google.com/github/wayne-chi/Cassava_disease_detection_using_ensemble_models/blob/main/Squeezenet.ipynb\" target=\"_parent\"><img src=\"https://colab.research.google.com/assets/colab-badge.svg\" alt=\"Open In Colab\"/></a>"
      ]
    },
    {
      "cell_type": "markdown",
      "metadata": {
        "id": "iitiKg99flFn"
      },
      "source": [
        "# Mount Drive"
      ]
    },
    {
      "cell_type": "code",
      "execution_count": null,
      "metadata": {
        "id": "-szuB13JfYDp",
        "colab": {
          "base_uri": "https://localhost:8080/"
        },
        "outputId": "6fbe3983-a4b0-42a7-deee-bb2410081cf3"
      },
      "outputs": [
        {
          "output_type": "stream",
          "name": "stdout",
          "text": [
            "Mounted at /content/drive\n"
          ]
        }
      ],
      "source": [
        "from google.colab import drive\n",
        "drive.mount('/content/drive',force_remount = True)"
      ]
    },
    {
      "cell_type": "code",
      "execution_count": null,
      "metadata": {
        "id": "SwGA2nxEfr9m",
        "colab": {
          "base_uri": "https://localhost:8080/"
        },
        "outputId": "43b29395-be44-489f-ff16-fbf36ec86437"
      },
      "outputs": [
        {
          "name": "stdout",
          "output_type": "stream",
          "text": [
            "enter the name of your output file squeezenetfirst\n"
          ]
        }
      ],
      "source": [
        "name_output = input('enter the name of your output file ').strip()"
      ]
    },
    {
      "cell_type": "markdown",
      "metadata": {
        "id": "R0J4gA0Mf2I_"
      },
      "source": [
        "\n",
        "# Import Modules"
      ]
    },
    {
      "cell_type": "code",
      "execution_count": null,
      "metadata": {
        "id": "_CY4LY-of25C"
      },
      "outputs": [],
      "source": [
        "import tensorflow as tf\n",
        "from tensorflow import keras\n",
        "import numpy as np\n",
        "import pandas as pd\n",
        "import matplotlib.pyplot as plt\n",
        "from tensorflow.keras.models import Sequential\n",
        "from tensorflow.keras.layers import Dense,Reshape, Activation,Flatten,BatchNormalization,Conv2D,MaxPool2D, GlobalAveragePooling2D\n",
        "from tensorflow.keras.optimizers import Adam\n",
        "from tensorflow.keras.metrics import categorical_crossentropy\n",
        "from tensorflow.keras.preprocessing.image import ImageDataGenerator\n",
        "from sklearn.metrics import confusion_matrix\n",
        "import itertools\n",
        "%matplotlib inline\n",
        "from tensorflow.keras.models import Model\n",
        "from tensorflow.keras.metrics import Recall, Precision,TruePositives,TrueNegatives, FalsePositives,FalseNegatives,Accuracy"
      ]
    },
    {
      "cell_type": "code",
      "execution_count": null,
      "metadata": {
        "id": "Bdmmg0FJf7dF"
      },
      "outputs": [],
      "source": [
        "import os\n",
        "import shutil\n",
        "import glob\n",
        "import random\n",
        "import warnings\n",
        "# warnings.simplefilter(action='ignore',category='FutureWarning')"
      ]
    },
    {
      "cell_type": "code",
      "source": [
        "print('hello world')\n"
      ],
      "metadata": {
        "id": "cy9IEtDAz276",
        "colab": {
          "base_uri": "https://localhost:8080/"
        },
        "outputId": "e5602909-bf42-4655-daf2-99b413ae1d1b"
      },
      "execution_count": null,
      "outputs": [
        {
          "output_type": "stream",
          "name": "stdout",
          "text": [
            "hello world\n"
          ]
        }
      ]
    },
    {
      "cell_type": "code",
      "execution_count": null,
      "metadata": {
        "id": "ddg4F4vJf-ge"
      },
      "outputs": [],
      "source": []
    },
    {
      "cell_type": "markdown",
      "metadata": {
        "id": "EW8R4dougBVs"
      },
      "source": [
        "# Add GPU"
      ]
    },
    {
      "cell_type": "code",
      "execution_count": null,
      "metadata": {
        "id": "6Nhs5idvgCJF",
        "colab": {
          "base_uri": "https://localhost:8080/"
        },
        "outputId": "c60851eb-6a80-41ab-cfe5-8d4750ffceb1"
      },
      "outputs": [
        {
          "output_type": "stream",
          "name": "stdout",
          "text": [
            "Num GPUs Available:  1\n"
          ]
        }
      ],
      "source": [
        "physical_devices = tf.config.experimental.list_physical_devices('GPU')\n",
        "print('Num GPUs Available: ', len(physical_devices))\n",
        "if len(physical_devices) >=1:\n",
        "    tf.config.experimental.set_memory_growth(physical_devices[0],True)"
      ]
    },
    {
      "cell_type": "code",
      "execution_count": null,
      "metadata": {
        "id": "1mLh9aXBgF62"
      },
      "outputs": [],
      "source": []
    },
    {
      "cell_type": "markdown",
      "metadata": {
        "id": "6rrytWmHmul4"
      },
      "source": [
        "# Make your edits"
      ]
    },
    {
      "cell_type": "code",
      "execution_count": null,
      "metadata": {
        "id": "uFctqWddmw_1"
      },
      "outputs": [],
      "source": [
        "this_model_name = name_output+'.h5'"
      ]
    },
    {
      "cell_type": "code",
      "execution_count": null,
      "metadata": {
        "id": "O9YF8gm_mzTb"
      },
      "outputs": [],
      "source": [
        "model_name='Mobilenet_3'"
      ]
    },
    {
      "cell_type": "code",
      "execution_count": null,
      "metadata": {
        "id": "TGHrfWeOm0lc"
      },
      "outputs": [],
      "source": [
        "image_zip = 'All_cassava_data_2.zip'   #'More_Cassava.zip'#'clean_annotated_cassava.zip'"
      ]
    },
    {
      "cell_type": "code",
      "execution_count": null,
      "metadata": {
        "id": "Vfz1PYbZm3gP"
      },
      "outputs": [],
      "source": [
        "## chnage home directory\n",
        "home = '/content/drive/MyDrive/project/Project2.1/Script2_pure classification' #'/content/drive/MyDrive/project/Tensorflow And Keras' #"
      ]
    },
    {
      "cell_type": "code",
      "execution_count": null,
      "metadata": {
        "id": "CWkQKwMMm3jg"
      },
      "outputs": [],
      "source": []
    },
    {
      "cell_type": "markdown",
      "metadata": {
        "id": "r-BGc7BDgIq5"
      },
      "source": [
        "# Pull Data and Setup"
      ]
    },
    {
      "cell_type": "code",
      "execution_count": null,
      "metadata": {
        "id": "h3u2QezchfIV"
      },
      "outputs": [],
      "source": []
    },
    {
      "cell_type": "code",
      "execution_count": null,
      "metadata": {
        "colab": {
          "base_uri": "https://localhost:8080/",
          "height": 35
        },
        "id": "Lp78hjkWgJv2",
        "outputId": "9434ff57-e016-4ce9-c84d-31b2486bb91d"
      },
      "outputs": [
        {
          "output_type": "execute_result",
          "data": {
            "text/plain": [
              "'All_cassava_data_2.zip'"
            ],
            "application/vnd.google.colaboratory.intrinsic+json": {
              "type": "string"
            }
          },
          "metadata": {},
          "execution_count": 11
        }
      ],
      "source": [
        "\n",
        "\n",
        "image_path = model_name + '_data'\n",
        "os.mkdir(image_path)\n",
        "\n",
        "shutil.copy(os.path.join(home,'Images',image_zip),image_zip)"
      ]
    },
    {
      "cell_type": "code",
      "execution_count": null,
      "metadata": {
        "id": "dkuGSIFJgMJR"
      },
      "outputs": [],
      "source": [
        "shutil.unpack_archive(image_zip,os.getcwd(),'zip')"
      ]
    },
    {
      "cell_type": "code",
      "execution_count": null,
      "metadata": {
        "id": "_ULXgvFMiDn9",
        "colab": {
          "base_uri": "https://localhost:8080/"
        },
        "outputId": "71d2764e-a6f6-4fa7-8580-b2a622b66501"
      },
      "outputs": [
        {
          "output_type": "execute_result",
          "data": {
            "text/plain": [
              "['brownstreak_N', 'Mosaic_N', 'greenmite_N', 'blight_N']"
            ]
          },
          "metadata": {},
          "execution_count": 13
        }
      ],
      "source": [
        "folders = os.listdir(image_zip[:-4])\n",
        "folders"
      ]
    },
    {
      "cell_type": "code",
      "execution_count": null,
      "metadata": {
        "id": "RfRY-thLnFWR"
      },
      "outputs": [],
      "source": []
    },
    {
      "cell_type": "markdown",
      "metadata": {
        "id": "O95FK3YMnG7m"
      },
      "source": [
        "### Edit here or type name of folder"
      ]
    },
    {
      "cell_type": "code",
      "execution_count": null,
      "metadata": {
        "id": "_lN2M5YNiRg0",
        "colab": {
          "base_uri": "https://localhost:8080/"
        },
        "outputId": "5b1762df-c50a-405d-9ccc-4e47ad7a2593"
      },
      "outputs": [
        {
          "output_type": "execute_result",
          "data": {
            "text/plain": [
              "['Mosaic_N', 'blight_N', 'brownstreak_N', 'greenmite_N']"
            ]
          },
          "metadata": {},
          "execution_count": 14
        }
      ],
      "source": [
        "f_folders = list(filter(lambda x:  x.endswith('N') , folders) )\n",
        "f_folders = sorted(f_folders)\n",
        "f_folders"
      ]
    },
    {
      "cell_type": "code",
      "execution_count": null,
      "metadata": {
        "id": "d9BsR2rtnTdz"
      },
      "outputs": [],
      "source": []
    },
    {
      "cell_type": "markdown",
      "metadata": {
        "id": "xF4iJPAZnUWa"
      },
      "source": [
        "## Create path and arrange"
      ]
    },
    {
      "cell_type": "code",
      "execution_count": null,
      "metadata": {
        "id": "MASEy1IAjMXY"
      },
      "outputs": [],
      "source": [
        "os.mkdir(os.path.join(image_path,'train'))\n",
        "os.mkdir(os.path.join(image_path,'test'))\n",
        "os.mkdir(os.path.join(image_path,'valid'))"
      ]
    },
    {
      "cell_type": "code",
      "execution_count": null,
      "metadata": {
        "id": "ugtp0dEQyr7b"
      },
      "outputs": [],
      "source": []
    },
    {
      "cell_type": "code",
      "execution_count": null,
      "metadata": {
        "id": "pV9hP37KgUTC"
      },
      "outputs": [],
      "source": [
        "for fold in f_folders:\n",
        "  src = os.path.join(image_zip[:-4],fold)\n",
        "  dest = os.path.join(image_path,'train')\n",
        "  shutil.move(src,dest)\n",
        "\n",
        "  c_test_dis = os.path.join(image_path,'test',fold)\n",
        "  c_valid_dis = os.path.join(image_path,'valid',fold)\n",
        "  os.mkdir(c_test_dis)\n",
        "  os.mkdir(c_valid_dis)\n",
        "\n",
        "## delete xml files\n",
        "  total_files = os.listdir(os.path.join(dest,fold))\n",
        "  to_del = filter(lambda x: x.endswith('xml'),total_files)\n",
        "  for i in to_del:\n",
        "    os.remove(os.path.join(dest,fold,i))\n",
        "\n",
        "## pick out a few and move to valid\n",
        "  valid_amount = 2 * len(os.listdir(os.path.join(dest,fold)))  //10\n",
        "  test_amount = len(os.listdir(os.path.join(dest,fold))) //10\n",
        "\n",
        "  valid_samples = random.sample(os.listdir(os.path.join(dest,fold)), valid_amount)\n",
        "  for f in valid_samples:\n",
        "        shutil.move(os.path.join(dest,fold,f), c_valid_dis)\n",
        "\n",
        "## pick out a few and move to test\n",
        "  test_samples = random.sample(os.listdir(os.path.join(dest,fold)), test_amount)\n",
        "  for k in test_samples:\n",
        "        shutil.move(os.path.join(dest,fold,k), c_test_dis)"
      ]
    },
    {
      "cell_type": "code",
      "execution_count": null,
      "metadata": {
        "id": "rHe0o8rWiQ4w"
      },
      "outputs": [],
      "source": []
    },
    {
      "cell_type": "code",
      "execution_count": null,
      "metadata": {
        "id": "UQdipOnggUYg"
      },
      "outputs": [],
      "source": []
    },
    {
      "cell_type": "code",
      "execution_count": null,
      "metadata": {
        "id": "olZ2JV-Mgncq"
      },
      "outputs": [],
      "source": []
    },
    {
      "cell_type": "markdown",
      "metadata": {
        "id": "gYj6q_Nk0O5E"
      },
      "source": [
        "# The Plot Functions"
      ]
    },
    {
      "cell_type": "markdown",
      "metadata": {
        "id": "GfjlZ7E70frp"
      },
      "source": [
        "## Plot Confusion Matrix"
      ]
    },
    {
      "cell_type": "code",
      "execution_count": null,
      "metadata": {
        "id": "fyB1UvfZgnhU"
      },
      "outputs": [],
      "source": [
        "def plot_confusion_matrix(cm,classes,\n",
        "                          normalize = False,\n",
        "                          title='Confusion matrix',\n",
        "                          cmap = plt.cm.Blues):\n",
        "  \"\"\"\n",
        "  this function prints and plots the confusion matrix\n",
        "  normalization can be applied by setting normalize=True\n",
        "  \"\"\"\n",
        "  plt.imshow(cm,interpolation='nearest',cmap=cmap)\n",
        "  plt.title(title)\n",
        "  plt.colorbar()\n",
        "  tickmarks=  np.arange(len(classes))\n",
        "  plt.xticks(tickmarks,classes,rotation=45)\n",
        "  plt.yticks(tickmarks,classes)\n",
        "  if normalize:\n",
        "    cm = cm.astype('float')/cm.sum(axis=1) [:,np.newaxis]\n",
        "    print('Normalized confusion matrix')\n",
        "  else:\n",
        "    print('confusion matrix without normalization')\n",
        "\n",
        "  thresh = cm.max()/2\n",
        "  for i,j in itertools.product(range(cm.shape[0]),range(cm.shape[1])):\n",
        "    plt.text(i,j,cm[i,j],\n",
        "             horizontalalignment='center',\n",
        "             color = 'white' if cm[i,j] > thresh else 'black'\n",
        "             )\n",
        "    plt.tight_layout()\n",
        "    plt.ylabel('True label')\n",
        "    plt.xlabel('predicted label')"
      ]
    },
    {
      "cell_type": "code",
      "execution_count": null,
      "metadata": {
        "id": "X7ZkVB_s0iJr"
      },
      "outputs": [],
      "source": []
    },
    {
      "cell_type": "code",
      "execution_count": null,
      "metadata": {
        "id": "XG4Hd76k0jQh"
      },
      "outputs": [],
      "source": []
    },
    {
      "cell_type": "markdown",
      "metadata": {
        "id": "PgM63tt-0jYD"
      },
      "source": [
        "# Instantiate the model"
      ]
    },
    {
      "cell_type": "code",
      "source": [
        "pip install keras-contrib"
      ],
      "metadata": {
        "colab": {
          "base_uri": "https://localhost:8080/"
        },
        "id": "Edz9hQhCEyMW",
        "outputId": "e4153a4a-1aed-4270-975f-a63b0db00928"
      },
      "execution_count": null,
      "outputs": [
        {
          "output_type": "stream",
          "name": "stdout",
          "text": [
            "Looking in indexes: https://pypi.org/simple, https://us-python.pkg.dev/colab-wheels/public/simple/\n",
            "\u001b[31mERROR: Could not find a version that satisfies the requirement keras-contrib (from versions: none)\u001b[0m\u001b[31m\n",
            "\u001b[0m\u001b[31mERROR: No matching distribution found for keras-contrib\u001b[0m\u001b[31m\n",
            "\u001b[0m"
          ]
        }
      ]
    },
    {
      "cell_type": "code",
      "source": [
        "from keras_contrib.applications import squeezeNet\n"
      ],
      "metadata": {
        "id": "_uo4YTekEycw"
      },
      "execution_count": null,
      "outputs": []
    },
    {
      "cell_type": "code",
      "source": [
        "!pip install keras_squeezenet"
      ],
      "metadata": {
        "colab": {
          "base_uri": "https://localhost:8080/"
        },
        "id": "GNKSxisFGm5P",
        "outputId": "a1957496-94b0-4d13-a575-59abd1615919"
      },
      "execution_count": null,
      "outputs": [
        {
          "output_type": "stream",
          "name": "stdout",
          "text": [
            "Looking in indexes: https://pypi.org/simple, https://us-python.pkg.dev/colab-wheels/public/simple/\n",
            "Requirement already satisfied: keras_squeezenet in /usr/local/lib/python3.9/dist-packages (0.4)\n",
            "Requirement already satisfied: numpy>=1.9.1 in /usr/local/lib/python3.9/dist-packages (from keras_squeezenet) (1.22.4)\n",
            "Requirement already satisfied: h5py in /usr/local/lib/python3.9/dist-packages (from keras_squeezenet) (3.8.0)\n",
            "Requirement already satisfied: six>=1.9.0 in /usr/local/lib/python3.9/dist-packages (from keras_squeezenet) (1.16.0)\n",
            "Requirement already satisfied: pyyaml in /usr/local/lib/python3.9/dist-packages (from keras_squeezenet) (6.0)\n",
            "Requirement already satisfied: tensorflow in /usr/local/lib/python3.9/dist-packages (from keras_squeezenet) (2.12.0)\n",
            "Requirement already satisfied: scipy>=0.14 in /usr/local/lib/python3.9/dist-packages (from keras_squeezenet) (1.10.1)\n",
            "Requirement already satisfied: keras in /usr/local/lib/python3.9/dist-packages (from keras_squeezenet) (2.12.0)\n",
            "Requirement already satisfied: protobuf!=4.21.0,!=4.21.1,!=4.21.2,!=4.21.3,!=4.21.4,!=4.21.5,<5.0.0dev,>=3.20.3 in /usr/local/lib/python3.9/dist-packages (from tensorflow->keras_squeezenet) (3.20.3)\n",
            "Requirement already satisfied: libclang>=13.0.0 in /usr/local/lib/python3.9/dist-packages (from tensorflow->keras_squeezenet) (16.0.0)\n",
            "Requirement already satisfied: tensorboard<2.13,>=2.12 in /usr/local/lib/python3.9/dist-packages (from tensorflow->keras_squeezenet) (2.12.2)\n",
            "Requirement already satisfied: termcolor>=1.1.0 in /usr/local/lib/python3.9/dist-packages (from tensorflow->keras_squeezenet) (2.3.0)\n",
            "Requirement already satisfied: astunparse>=1.6.0 in /usr/local/lib/python3.9/dist-packages (from tensorflow->keras_squeezenet) (1.6.3)\n",
            "Requirement already satisfied: tensorflow-io-gcs-filesystem>=0.23.1 in /usr/local/lib/python3.9/dist-packages (from tensorflow->keras_squeezenet) (0.32.0)\n",
            "Requirement already satisfied: grpcio<2.0,>=1.24.3 in /usr/local/lib/python3.9/dist-packages (from tensorflow->keras_squeezenet) (1.54.0)\n",
            "Requirement already satisfied: wrapt<1.15,>=1.11.0 in /usr/local/lib/python3.9/dist-packages (from tensorflow->keras_squeezenet) (1.14.1)\n",
            "Requirement already satisfied: packaging in /usr/local/lib/python3.9/dist-packages (from tensorflow->keras_squeezenet) (23.1)\n",
            "Requirement already satisfied: absl-py>=1.0.0 in /usr/local/lib/python3.9/dist-packages (from tensorflow->keras_squeezenet) (1.4.0)\n",
            "Requirement already satisfied: setuptools in /usr/local/lib/python3.9/dist-packages (from tensorflow->keras_squeezenet) (67.7.2)\n",
            "Requirement already satisfied: gast<=0.4.0,>=0.2.1 in /usr/local/lib/python3.9/dist-packages (from tensorflow->keras_squeezenet) (0.4.0)\n",
            "Requirement already satisfied: google-pasta>=0.1.1 in /usr/local/lib/python3.9/dist-packages (from tensorflow->keras_squeezenet) (0.2.0)\n",
            "Requirement already satisfied: tensorflow-estimator<2.13,>=2.12.0 in /usr/local/lib/python3.9/dist-packages (from tensorflow->keras_squeezenet) (2.12.0)\n",
            "Requirement already satisfied: typing-extensions>=3.6.6 in /usr/local/lib/python3.9/dist-packages (from tensorflow->keras_squeezenet) (4.5.0)\n",
            "Requirement already satisfied: flatbuffers>=2.0 in /usr/local/lib/python3.9/dist-packages (from tensorflow->keras_squeezenet) (23.3.3)\n",
            "Requirement already satisfied: opt-einsum>=2.3.2 in /usr/local/lib/python3.9/dist-packages (from tensorflow->keras_squeezenet) (3.3.0)\n",
            "Requirement already satisfied: jax>=0.3.15 in /usr/local/lib/python3.9/dist-packages (from tensorflow->keras_squeezenet) (0.4.8)\n",
            "Requirement already satisfied: wheel<1.0,>=0.23.0 in /usr/local/lib/python3.9/dist-packages (from astunparse>=1.6.0->tensorflow->keras_squeezenet) (0.40.0)\n",
            "Requirement already satisfied: ml-dtypes>=0.0.3 in /usr/local/lib/python3.9/dist-packages (from jax>=0.3.15->tensorflow->keras_squeezenet) (0.1.0)\n",
            "Requirement already satisfied: werkzeug>=1.0.1 in /usr/local/lib/python3.9/dist-packages (from tensorboard<2.13,>=2.12->tensorflow->keras_squeezenet) (2.2.3)\n",
            "Requirement already satisfied: tensorboard-data-server<0.8.0,>=0.7.0 in /usr/local/lib/python3.9/dist-packages (from tensorboard<2.13,>=2.12->tensorflow->keras_squeezenet) (0.7.0)\n",
            "Requirement already satisfied: tensorboard-plugin-wit>=1.6.0 in /usr/local/lib/python3.9/dist-packages (from tensorboard<2.13,>=2.12->tensorflow->keras_squeezenet) (1.8.1)\n",
            "Requirement already satisfied: requests<3,>=2.21.0 in /usr/local/lib/python3.9/dist-packages (from tensorboard<2.13,>=2.12->tensorflow->keras_squeezenet) (2.27.1)\n",
            "Requirement already satisfied: markdown>=2.6.8 in /usr/local/lib/python3.9/dist-packages (from tensorboard<2.13,>=2.12->tensorflow->keras_squeezenet) (3.4.3)\n",
            "Requirement already satisfied: google-auth<3,>=1.6.3 in /usr/local/lib/python3.9/dist-packages (from tensorboard<2.13,>=2.12->tensorflow->keras_squeezenet) (2.17.3)\n",
            "Requirement already satisfied: google-auth-oauthlib<1.1,>=0.5 in /usr/local/lib/python3.9/dist-packages (from tensorboard<2.13,>=2.12->tensorflow->keras_squeezenet) (1.0.0)\n",
            "Requirement already satisfied: cachetools<6.0,>=2.0.0 in /usr/local/lib/python3.9/dist-packages (from google-auth<3,>=1.6.3->tensorboard<2.13,>=2.12->tensorflow->keras_squeezenet) (5.3.0)\n",
            "Requirement already satisfied: rsa<5,>=3.1.4 in /usr/local/lib/python3.9/dist-packages (from google-auth<3,>=1.6.3->tensorboard<2.13,>=2.12->tensorflow->keras_squeezenet) (4.9)\n",
            "Requirement already satisfied: pyasn1-modules>=0.2.1 in /usr/local/lib/python3.9/dist-packages (from google-auth<3,>=1.6.3->tensorboard<2.13,>=2.12->tensorflow->keras_squeezenet) (0.3.0)\n",
            "Requirement already satisfied: requests-oauthlib>=0.7.0 in /usr/local/lib/python3.9/dist-packages (from google-auth-oauthlib<1.1,>=0.5->tensorboard<2.13,>=2.12->tensorflow->keras_squeezenet) (1.3.1)\n",
            "Requirement already satisfied: importlib-metadata>=4.4 in /usr/local/lib/python3.9/dist-packages (from markdown>=2.6.8->tensorboard<2.13,>=2.12->tensorflow->keras_squeezenet) (6.6.0)\n",
            "Requirement already satisfied: charset-normalizer~=2.0.0 in /usr/local/lib/python3.9/dist-packages (from requests<3,>=2.21.0->tensorboard<2.13,>=2.12->tensorflow->keras_squeezenet) (2.0.12)\n",
            "Requirement already satisfied: certifi>=2017.4.17 in /usr/local/lib/python3.9/dist-packages (from requests<3,>=2.21.0->tensorboard<2.13,>=2.12->tensorflow->keras_squeezenet) (2022.12.7)\n",
            "Requirement already satisfied: urllib3<1.27,>=1.21.1 in /usr/local/lib/python3.9/dist-packages (from requests<3,>=2.21.0->tensorboard<2.13,>=2.12->tensorflow->keras_squeezenet) (1.26.15)\n",
            "Requirement already satisfied: idna<4,>=2.5 in /usr/local/lib/python3.9/dist-packages (from requests<3,>=2.21.0->tensorboard<2.13,>=2.12->tensorflow->keras_squeezenet) (3.4)\n",
            "Requirement already satisfied: MarkupSafe>=2.1.1 in /usr/local/lib/python3.9/dist-packages (from werkzeug>=1.0.1->tensorboard<2.13,>=2.12->tensorflow->keras_squeezenet) (2.1.2)\n",
            "Requirement already satisfied: zipp>=0.5 in /usr/local/lib/python3.9/dist-packages (from importlib-metadata>=4.4->markdown>=2.6.8->tensorboard<2.13,>=2.12->tensorflow->keras_squeezenet) (3.15.0)\n",
            "Requirement already satisfied: pyasn1<0.6.0,>=0.4.6 in /usr/local/lib/python3.9/dist-packages (from pyasn1-modules>=0.2.1->google-auth<3,>=1.6.3->tensorboard<2.13,>=2.12->tensorflow->keras_squeezenet) (0.5.0)\n",
            "Requirement already satisfied: oauthlib>=3.0.0 in /usr/local/lib/python3.9/dist-packages (from requests-oauthlib>=0.7.0->google-auth-oauthlib<1.1,>=0.5->tensorboard<2.13,>=2.12->tensorflow->keras_squeezenet) (3.2.2)\n"
          ]
        }
      ]
    },
    {
      "cell_type": "code",
      "source": [
        "!pip install git+https://github.com/rcmalli/keras-squeezenet.git"
      ],
      "metadata": {
        "colab": {
          "base_uri": "https://localhost:8080/"
        },
        "id": "JMJbEfoUHXwV",
        "outputId": "9b6f055d-4788-49bd-fddd-239214d4ce41"
      },
      "execution_count": null,
      "outputs": [
        {
          "output_type": "stream",
          "name": "stdout",
          "text": [
            "Looking in indexes: https://pypi.org/simple, https://us-python.pkg.dev/colab-wheels/public/simple/\n",
            "Collecting git+https://github.com/rcmalli/keras-squeezenet.git\n",
            "  Cloning https://github.com/rcmalli/keras-squeezenet.git to /tmp/pip-req-build-9sh83xc7\n",
            "  Running command git clone --filter=blob:none --quiet https://github.com/rcmalli/keras-squeezenet.git /tmp/pip-req-build-9sh83xc7\n",
            "  Resolved https://github.com/rcmalli/keras-squeezenet.git to commit 4fb9cb7510ea0315303090edbc1bd97c2916af81\n",
            "  Preparing metadata (setup.py) ... \u001b[?25l\u001b[?25hdone\n",
            "Requirement already satisfied: numpy>=1.9.1 in /usr/local/lib/python3.9/dist-packages (from keras-squeezenet==0.4) (1.22.4)\n",
            "Requirement already satisfied: scipy>=0.14 in /usr/local/lib/python3.9/dist-packages (from keras-squeezenet==0.4) (1.10.1)\n",
            "Requirement already satisfied: h5py in /usr/local/lib/python3.9/dist-packages (from keras-squeezenet==0.4) (3.8.0)\n",
            "Requirement already satisfied: tensorflow in /usr/local/lib/python3.9/dist-packages (from keras-squeezenet==0.4) (2.12.0)\n",
            "Requirement already satisfied: keras in /usr/local/lib/python3.9/dist-packages (from keras-squeezenet==0.4) (2.12.0)\n",
            "Requirement already satisfied: six>=1.9.0 in /usr/local/lib/python3.9/dist-packages (from keras-squeezenet==0.4) (1.16.0)\n",
            "Requirement already satisfied: pyyaml in /usr/local/lib/python3.9/dist-packages (from keras-squeezenet==0.4) (6.0)\n",
            "Requirement already satisfied: grpcio<2.0,>=1.24.3 in /usr/local/lib/python3.9/dist-packages (from tensorflow->keras-squeezenet==0.4) (1.54.0)\n",
            "Requirement already satisfied: google-pasta>=0.1.1 in /usr/local/lib/python3.9/dist-packages (from tensorflow->keras-squeezenet==0.4) (0.2.0)\n",
            "Requirement already satisfied: setuptools in /usr/local/lib/python3.9/dist-packages (from tensorflow->keras-squeezenet==0.4) (67.7.2)\n",
            "Requirement already satisfied: tensorflow-estimator<2.13,>=2.12.0 in /usr/local/lib/python3.9/dist-packages (from tensorflow->keras-squeezenet==0.4) (2.12.0)\n",
            "Requirement already satisfied: jax>=0.3.15 in /usr/local/lib/python3.9/dist-packages (from tensorflow->keras-squeezenet==0.4) (0.4.8)\n",
            "Requirement already satisfied: astunparse>=1.6.0 in /usr/local/lib/python3.9/dist-packages (from tensorflow->keras-squeezenet==0.4) (1.6.3)\n",
            "Requirement already satisfied: libclang>=13.0.0 in /usr/local/lib/python3.9/dist-packages (from tensorflow->keras-squeezenet==0.4) (16.0.0)\n",
            "Requirement already satisfied: absl-py>=1.0.0 in /usr/local/lib/python3.9/dist-packages (from tensorflow->keras-squeezenet==0.4) (1.4.0)\n",
            "Requirement already satisfied: tensorflow-io-gcs-filesystem>=0.23.1 in /usr/local/lib/python3.9/dist-packages (from tensorflow->keras-squeezenet==0.4) (0.32.0)\n",
            "Requirement already satisfied: gast<=0.4.0,>=0.2.1 in /usr/local/lib/python3.9/dist-packages (from tensorflow->keras-squeezenet==0.4) (0.4.0)\n",
            "Requirement already satisfied: tensorboard<2.13,>=2.12 in /usr/local/lib/python3.9/dist-packages (from tensorflow->keras-squeezenet==0.4) (2.12.2)\n",
            "Requirement already satisfied: typing-extensions>=3.6.6 in /usr/local/lib/python3.9/dist-packages (from tensorflow->keras-squeezenet==0.4) (4.5.0)\n",
            "Requirement already satisfied: flatbuffers>=2.0 in /usr/local/lib/python3.9/dist-packages (from tensorflow->keras-squeezenet==0.4) (23.3.3)\n",
            "Requirement already satisfied: opt-einsum>=2.3.2 in /usr/local/lib/python3.9/dist-packages (from tensorflow->keras-squeezenet==0.4) (3.3.0)\n",
            "Requirement already satisfied: packaging in /usr/local/lib/python3.9/dist-packages (from tensorflow->keras-squeezenet==0.4) (23.1)\n",
            "Requirement already satisfied: protobuf!=4.21.0,!=4.21.1,!=4.21.2,!=4.21.3,!=4.21.4,!=4.21.5,<5.0.0dev,>=3.20.3 in /usr/local/lib/python3.9/dist-packages (from tensorflow->keras-squeezenet==0.4) (3.20.3)\n",
            "Requirement already satisfied: termcolor>=1.1.0 in /usr/local/lib/python3.9/dist-packages (from tensorflow->keras-squeezenet==0.4) (2.3.0)\n",
            "Requirement already satisfied: wrapt<1.15,>=1.11.0 in /usr/local/lib/python3.9/dist-packages (from tensorflow->keras-squeezenet==0.4) (1.14.1)\n",
            "Requirement already satisfied: wheel<1.0,>=0.23.0 in /usr/local/lib/python3.9/dist-packages (from astunparse>=1.6.0->tensorflow->keras-squeezenet==0.4) (0.40.0)\n",
            "Requirement already satisfied: ml-dtypes>=0.0.3 in /usr/local/lib/python3.9/dist-packages (from jax>=0.3.15->tensorflow->keras-squeezenet==0.4) (0.1.0)\n",
            "Requirement already satisfied: requests<3,>=2.21.0 in /usr/local/lib/python3.9/dist-packages (from tensorboard<2.13,>=2.12->tensorflow->keras-squeezenet==0.4) (2.27.1)\n",
            "Requirement already satisfied: google-auth<3,>=1.6.3 in /usr/local/lib/python3.9/dist-packages (from tensorboard<2.13,>=2.12->tensorflow->keras-squeezenet==0.4) (2.17.3)\n",
            "Requirement already satisfied: tensorboard-data-server<0.8.0,>=0.7.0 in /usr/local/lib/python3.9/dist-packages (from tensorboard<2.13,>=2.12->tensorflow->keras-squeezenet==0.4) (0.7.0)\n",
            "Requirement already satisfied: tensorboard-plugin-wit>=1.6.0 in /usr/local/lib/python3.9/dist-packages (from tensorboard<2.13,>=2.12->tensorflow->keras-squeezenet==0.4) (1.8.1)\n",
            "Requirement already satisfied: google-auth-oauthlib<1.1,>=0.5 in /usr/local/lib/python3.9/dist-packages (from tensorboard<2.13,>=2.12->tensorflow->keras-squeezenet==0.4) (1.0.0)\n",
            "Requirement already satisfied: markdown>=2.6.8 in /usr/local/lib/python3.9/dist-packages (from tensorboard<2.13,>=2.12->tensorflow->keras-squeezenet==0.4) (3.4.3)\n",
            "Requirement already satisfied: werkzeug>=1.0.1 in /usr/local/lib/python3.9/dist-packages (from tensorboard<2.13,>=2.12->tensorflow->keras-squeezenet==0.4) (2.2.3)\n",
            "Requirement already satisfied: cachetools<6.0,>=2.0.0 in /usr/local/lib/python3.9/dist-packages (from google-auth<3,>=1.6.3->tensorboard<2.13,>=2.12->tensorflow->keras-squeezenet==0.4) (5.3.0)\n",
            "Requirement already satisfied: rsa<5,>=3.1.4 in /usr/local/lib/python3.9/dist-packages (from google-auth<3,>=1.6.3->tensorboard<2.13,>=2.12->tensorflow->keras-squeezenet==0.4) (4.9)\n",
            "Requirement already satisfied: pyasn1-modules>=0.2.1 in /usr/local/lib/python3.9/dist-packages (from google-auth<3,>=1.6.3->tensorboard<2.13,>=2.12->tensorflow->keras-squeezenet==0.4) (0.3.0)\n",
            "Requirement already satisfied: requests-oauthlib>=0.7.0 in /usr/local/lib/python3.9/dist-packages (from google-auth-oauthlib<1.1,>=0.5->tensorboard<2.13,>=2.12->tensorflow->keras-squeezenet==0.4) (1.3.1)\n",
            "Requirement already satisfied: importlib-metadata>=4.4 in /usr/local/lib/python3.9/dist-packages (from markdown>=2.6.8->tensorboard<2.13,>=2.12->tensorflow->keras-squeezenet==0.4) (6.6.0)\n",
            "Requirement already satisfied: idna<4,>=2.5 in /usr/local/lib/python3.9/dist-packages (from requests<3,>=2.21.0->tensorboard<2.13,>=2.12->tensorflow->keras-squeezenet==0.4) (3.4)\n",
            "Requirement already satisfied: certifi>=2017.4.17 in /usr/local/lib/python3.9/dist-packages (from requests<3,>=2.21.0->tensorboard<2.13,>=2.12->tensorflow->keras-squeezenet==0.4) (2022.12.7)\n",
            "Requirement already satisfied: charset-normalizer~=2.0.0 in /usr/local/lib/python3.9/dist-packages (from requests<3,>=2.21.0->tensorboard<2.13,>=2.12->tensorflow->keras-squeezenet==0.4) (2.0.12)\n",
            "Requirement already satisfied: urllib3<1.27,>=1.21.1 in /usr/local/lib/python3.9/dist-packages (from requests<3,>=2.21.0->tensorboard<2.13,>=2.12->tensorflow->keras-squeezenet==0.4) (1.26.15)\n",
            "Requirement already satisfied: MarkupSafe>=2.1.1 in /usr/local/lib/python3.9/dist-packages (from werkzeug>=1.0.1->tensorboard<2.13,>=2.12->tensorflow->keras-squeezenet==0.4) (2.1.2)\n",
            "Requirement already satisfied: zipp>=0.5 in /usr/local/lib/python3.9/dist-packages (from importlib-metadata>=4.4->markdown>=2.6.8->tensorboard<2.13,>=2.12->tensorflow->keras-squeezenet==0.4) (3.15.0)\n",
            "Requirement already satisfied: pyasn1<0.6.0,>=0.4.6 in /usr/local/lib/python3.9/dist-packages (from pyasn1-modules>=0.2.1->google-auth<3,>=1.6.3->tensorboard<2.13,>=2.12->tensorflow->keras-squeezenet==0.4) (0.5.0)\n",
            "Requirement already satisfied: oauthlib>=3.0.0 in /usr/local/lib/python3.9/dist-packages (from requests-oauthlib>=0.7.0->google-auth-oauthlib<1.1,>=0.5->tensorboard<2.13,>=2.12->tensorflow->keras-squeezenet==0.4) (3.2.2)\n"
          ]
        }
      ]
    },
    {
      "cell_type": "code",
      "source": [
        "!pip install keras --upgrade"
      ],
      "metadata": {
        "colab": {
          "base_uri": "https://localhost:8080/"
        },
        "id": "zeuNgDOkI7Yg",
        "outputId": "ef147af4-0adc-41dd-b182-72a73452506a"
      },
      "execution_count": null,
      "outputs": [
        {
          "output_type": "stream",
          "name": "stdout",
          "text": [
            "Looking in indexes: https://pypi.org/simple, https://us-python.pkg.dev/colab-wheels/public/simple/\n",
            "Requirement already satisfied: keras in /usr/local/lib/python3.9/dist-packages (2.12.0)\n"
          ]
        }
      ]
    },
    {
      "cell_type": "code",
      "source": [
        "!pip uninstall tensorflow keras\n",
        "!pip install tensorflow==2.2.0 keras"
      ],
      "metadata": {
        "colab": {
          "base_uri": "https://localhost:8080/"
        },
        "id": "BmKWIUIHHX2e",
        "outputId": "8847df29-343c-48e9-a04a-06eb2d73574e"
      },
      "execution_count": null,
      "outputs": [
        {
          "output_type": "stream",
          "name": "stdout",
          "text": [
            "Found existing installation: tensorflow 2.12.0\n",
            "Uninstalling tensorflow-2.12.0:\n",
            "  Would remove:\n",
            "    /usr/local/bin/estimator_ckpt_converter\n",
            "    /usr/local/bin/import_pb_to_tensorboard\n",
            "    /usr/local/bin/saved_model_cli\n",
            "    /usr/local/bin/tensorboard\n",
            "    /usr/local/bin/tf_upgrade_v2\n",
            "    /usr/local/bin/tflite_convert\n",
            "    /usr/local/bin/toco\n",
            "    /usr/local/bin/toco_from_protos\n",
            "    /usr/local/lib/python3.9/dist-packages/tensorflow-2.12.0.dist-info/*\n",
            "    /usr/local/lib/python3.9/dist-packages/tensorflow/*\n",
            "Proceed (Y/n)? y\n",
            "Y\n",
            "  Successfully uninstalled tensorflow-2.12.0\n",
            "Found existing installation: keras 2.12.0\n",
            "Uninstalling keras-2.12.0:\n",
            "  Would remove:\n",
            "    /usr/local/lib/python3.9/dist-packages/keras-2.12.0.dist-info/*\n",
            "    /usr/local/lib/python3.9/dist-packages/keras/*\n",
            "Proceed (Y/n)?   Successfully uninstalled keras-2.12.0\n",
            "Looking in indexes: https://pypi.org/simple, https://us-python.pkg.dev/colab-wheels/public/simple/\n",
            "\u001b[31mERROR: Could not find a version that satisfies the requirement tensorflow==2.2.0 (from versions: 2.5.0, 2.5.1, 2.5.2, 2.5.3, 2.6.0rc0, 2.6.0rc1, 2.6.0rc2, 2.6.0, 2.6.1, 2.6.2, 2.6.3, 2.6.4, 2.6.5, 2.7.0rc0, 2.7.0rc1, 2.7.0, 2.7.1, 2.7.2, 2.7.3, 2.7.4, 2.8.0rc0, 2.8.0rc1, 2.8.0, 2.8.1, 2.8.2, 2.8.3, 2.8.4, 2.9.0rc0, 2.9.0rc1, 2.9.0rc2, 2.9.0, 2.9.1, 2.9.2, 2.9.3, 2.10.0rc0, 2.10.0rc1, 2.10.0rc2, 2.10.0rc3, 2.10.0, 2.10.1, 2.11.0rc0, 2.11.0rc1, 2.11.0rc2, 2.11.0, 2.11.1, 2.12.0rc0, 2.12.0rc1, 2.12.0)\u001b[0m\u001b[31m\n",
            "\u001b[0m\u001b[31mERROR: No matching distribution found for tensorflow==2.2.0\u001b[0m\u001b[31m\n",
            "\u001b[0m"
          ]
        }
      ]
    },
    {
      "cell_type": "code",
      "source": [
        "pip install https://storage.googleapis.com/tensorflow/linux/cpu/tensorflow-1.4.0-cp35-cp35m-linux_x86_64.whl"
      ],
      "metadata": {
        "colab": {
          "base_uri": "https://localhost:8080/"
        },
        "id": "hIcU9GHvJ20M",
        "outputId": "1d15fab2-879c-4b7e-a54b-963907ac1ce6"
      },
      "execution_count": null,
      "outputs": [
        {
          "output_type": "stream",
          "name": "stdout",
          "text": [
            "Looking in indexes: https://pypi.org/simple, https://us-python.pkg.dev/colab-wheels/public/simple/\n",
            "\u001b[31mERROR: tensorflow-1.4.0-cp35-cp35m-linux_x86_64.whl is not a supported wheel on this platform.\u001b[0m\u001b[31m\n",
            "\u001b[0m"
          ]
        }
      ]
    },
    {
      "cell_type": "code",
      "source": [
        "from  keras_squeezenet import squeezenet"
      ],
      "metadata": {
        "colab": {
          "base_uri": "https://localhost:8080/",
          "height": 467
        },
        "id": "Ufde9EIJG5f9",
        "outputId": "072fe9cc-448a-4e83-d32f-911ed553d5f6"
      },
      "execution_count": null,
      "outputs": [
        {
          "output_type": "error",
          "ename": "ImportError",
          "evalue": "ignored",
          "traceback": [
            "\u001b[0;31m---------------------------------------------------------------------------\u001b[0m",
            "\u001b[0;31mImportError\u001b[0m                               Traceback (most recent call last)",
            "\u001b[0;32m<ipython-input-25-7550a5272b84>\u001b[0m in \u001b[0;36m<cell line: 1>\u001b[0;34m()\u001b[0m\n\u001b[0;32m----> 1\u001b[0;31m \u001b[0;32mfrom\u001b[0m  \u001b[0mkeras_squeezenet\u001b[0m \u001b[0;32mimport\u001b[0m \u001b[0msqueezenet\u001b[0m\u001b[0;34m\u001b[0m\u001b[0;34m\u001b[0m\u001b[0m\n\u001b[0m",
            "\u001b[0;32m/usr/local/lib/python3.9/dist-packages/keras_squeezenet/__init__.py\u001b[0m in \u001b[0;36m<module>\u001b[0;34m\u001b[0m\n\u001b[0;32m----> 1\u001b[0;31m \u001b[0;32mfrom\u001b[0m \u001b[0mkeras_squeezenet\u001b[0m\u001b[0;34m.\u001b[0m\u001b[0msqueezenet\u001b[0m \u001b[0;32mimport\u001b[0m \u001b[0mSqueezeNet\u001b[0m\u001b[0;34m\u001b[0m\u001b[0;34m\u001b[0m\u001b[0m\n\u001b[0m\u001b[1;32m      2\u001b[0m \u001b[0;32mfrom\u001b[0m \u001b[0mkeras_squeezenet\u001b[0m\u001b[0;34m.\u001b[0m\u001b[0mversion\u001b[0m \u001b[0;32mimport\u001b[0m \u001b[0m__version__\u001b[0m\u001b[0;34m\u001b[0m\u001b[0;34m\u001b[0m\u001b[0m\n",
            "\u001b[0;32m/usr/local/lib/python3.9/dist-packages/keras_squeezenet/squeezenet.py\u001b[0m in \u001b[0;36m<module>\u001b[0;34m\u001b[0m\n\u001b[0;32m----> 1\u001b[0;31m \u001b[0;32mfrom\u001b[0m \u001b[0mkeras\u001b[0m\u001b[0;34m.\u001b[0m\u001b[0mapplications\u001b[0m\u001b[0;34m.\u001b[0m\u001b[0mimagenet_utils\u001b[0m \u001b[0;32mimport\u001b[0m \u001b[0m_obtain_input_shape\u001b[0m\u001b[0;34m\u001b[0m\u001b[0;34m\u001b[0m\u001b[0m\n\u001b[0m\u001b[1;32m      2\u001b[0m \u001b[0;32mfrom\u001b[0m \u001b[0mkeras\u001b[0m \u001b[0;32mimport\u001b[0m \u001b[0mbackend\u001b[0m \u001b[0;32mas\u001b[0m \u001b[0mK\u001b[0m\u001b[0;34m\u001b[0m\u001b[0;34m\u001b[0m\u001b[0m\n\u001b[1;32m      3\u001b[0m \u001b[0;32mfrom\u001b[0m \u001b[0mkeras\u001b[0m\u001b[0;34m.\u001b[0m\u001b[0mlayers\u001b[0m \u001b[0;32mimport\u001b[0m \u001b[0mInput\u001b[0m\u001b[0;34m,\u001b[0m \u001b[0mConvolution2D\u001b[0m\u001b[0;34m,\u001b[0m \u001b[0mMaxPooling2D\u001b[0m\u001b[0;34m,\u001b[0m \u001b[0mActivation\u001b[0m\u001b[0;34m,\u001b[0m \u001b[0mconcatenate\u001b[0m\u001b[0;34m,\u001b[0m \u001b[0mDropout\u001b[0m\u001b[0;34m,\u001b[0m \u001b[0mwarnings\u001b[0m\u001b[0;34m\u001b[0m\u001b[0;34m\u001b[0m\u001b[0m\n\u001b[1;32m      4\u001b[0m \u001b[0;32mfrom\u001b[0m \u001b[0mkeras\u001b[0m\u001b[0;34m.\u001b[0m\u001b[0mlayers\u001b[0m \u001b[0;32mimport\u001b[0m \u001b[0mGlobalAveragePooling2D\u001b[0m\u001b[0;34m,\u001b[0m \u001b[0mGlobalMaxPooling2D\u001b[0m\u001b[0;34m\u001b[0m\u001b[0;34m\u001b[0m\u001b[0m\n\u001b[1;32m      5\u001b[0m \u001b[0;32mfrom\u001b[0m \u001b[0mkeras\u001b[0m\u001b[0;34m.\u001b[0m\u001b[0mmodels\u001b[0m \u001b[0;32mimport\u001b[0m \u001b[0mModel\u001b[0m\u001b[0;34m\u001b[0m\u001b[0;34m\u001b[0m\u001b[0m\n",
            "\u001b[0;31mImportError\u001b[0m: cannot import name '_obtain_input_shape' from 'keras.applications.imagenet_utils' (/usr/local/lib/python3.9/dist-packages/keras/applications/imagenet_utils.py)",
            "",
            "\u001b[0;31m---------------------------------------------------------------------------\u001b[0;32m\nNOTE: If your import is failing due to a missing package, you can\nmanually install dependencies using either !pip or !apt.\n\nTo view examples of installing some common dependencies, click the\n\"Open Examples\" button below.\n\u001b[0;31m---------------------------------------------------------------------------\u001b[0m\n"
          ],
          "errorDetails": {
            "actions": [
              {
                "action": "open_url",
                "actionText": "Open Examples",
                "url": "/notebooks/snippets/importing_libraries.ipynb"
              }
            ]
          }
        }
      ]
    },
    {
      "cell_type": "code",
      "execution_count": null,
      "metadata": {
        "colab": {
          "base_uri": "https://localhost:8080/",
          "height": 183
        },
        "id": "LZ7DogN10lZm",
        "outputId": "cb70506d-bbf5-4587-cc07-f3db215b9b43"
      },
      "outputs": [
        {
          "output_type": "error",
          "ename": "AttributeError",
          "evalue": "ignored",
          "traceback": [
            "\u001b[0;31m---------------------------------------------------------------------------\u001b[0m",
            "\u001b[0;31mAttributeError\u001b[0m                            Traceback (most recent call last)",
            "\u001b[0;32m<ipython-input-19-841618e2259f>\u001b[0m in \u001b[0;36m<cell line: 1>\u001b[0;34m()\u001b[0m\n\u001b[0;32m----> 1\u001b[0;31m \u001b[0mHome_model\u001b[0m \u001b[0;34m=\u001b[0m \u001b[0mtf\u001b[0m\u001b[0;34m.\u001b[0m\u001b[0mkeras\u001b[0m\u001b[0;34m.\u001b[0m\u001b[0mapplications\u001b[0m\u001b[0;34m.\u001b[0m\u001b[0mSqueezeNet\u001b[0m\u001b[0;34m(\u001b[0m\u001b[0mweights\u001b[0m \u001b[0;34m=\u001b[0m\u001b[0;34m'imagenet'\u001b[0m\u001b[0;34m,\u001b[0m \u001b[0minclude_top\u001b[0m\u001b[0;34m=\u001b[0m\u001b[0;32mFalse\u001b[0m\u001b[0;34m)\u001b[0m\u001b[0;34m\u001b[0m\u001b[0;34m\u001b[0m\u001b[0m\n\u001b[0m\u001b[1;32m      2\u001b[0m \u001b[0;34m\u001b[0m\u001b[0m\n",
            "\u001b[0;31mAttributeError\u001b[0m: module 'keras.api._v2.keras.applications' has no attribute 'SqueezeNet'"
          ]
        }
      ],
      "source": [
        "Home_model = from keras_squeezenet import squeezenets.SqueezeNet(weights ='imagenet', include_top=False)\n",
        "\n"
      ]
    },
    {
      "cell_type": "code",
      "execution_count": null,
      "metadata": {
        "id": "HoNUdFhQ0n5i"
      },
      "outputs": [],
      "source": [
        "import tensorflow as tf\n",
        "\n",
        "# Load SqueezeNet without the last layer\n",
        "base_model = tf.keras.applications.SqueezeNet(weights='imagenet', include_top=False)\n",
        "\n",
        "# Add new output layer for your task\n",
        "x = base_model.output\n",
        "x = tf.keras.layers.GlobalAveragePooling2D()(x)\n",
        "x = tf.keras.layers.Dense(num_classes, activation='softmax')(x)\n",
        "\n",
        "# Create new model with modified output layer\n",
        "model = tf.keras.models.Model(inputs=base_model.input, outputs=x)\n",
        "\n",
        "# Freeze all layers in the base model\n",
        "for layer in base_model.layers:\n",
        "    layer.trainable = False\n"
      ]
    },
    {
      "cell_type": "code",
      "execution_count": null,
      "metadata": {
        "id": "tRVYd5ZB1Vbf"
      },
      "outputs": [],
      "source": []
    },
    {
      "cell_type": "markdown",
      "metadata": {
        "id": "rDmNc9A50rfg"
      },
      "source": [
        "## Preprocess"
      ]
    },
    {
      "cell_type": "code",
      "execution_count": null,
      "metadata": {
        "id": "egYelGrv0syf"
      },
      "outputs": [],
      "source": [
        "from tensorflow.keras.preprocessing import image\n",
        "\n",
        "def prepare_image(file):\n",
        "  img = image.load_img(file, target_size = (224,224))\n",
        "  img_array = image.img_to_array(img)\n",
        "  # print(img_array.shape)\n",
        "  img_array_expanded = np.expand_dims(img_array,axis=0)\n",
        "  # print(img_array_expanded.shape)\n",
        "  return tf.keras.applications.mobilenet.preprocess_input(img_array_expanded)"
      ]
    },
    {
      "cell_type": "code",
      "execution_count": null,
      "metadata": {
        "id": "r1md9PTB0tkP"
      },
      "outputs": [],
      "source": []
    },
    {
      "cell_type": "markdown",
      "metadata": {
        "id": "CxKnAoAk09ZA"
      },
      "source": [
        "## Transfer Learning"
      ]
    },
    {
      "cell_type": "code",
      "execution_count": null,
      "metadata": {
        "id": "4AUWTz5e1Ao3"
      },
      "outputs": [],
      "source": [
        "train_path = os.path.join(image_path,'train')\n",
        "valid_path = os.path.join(image_path,'valid')\n",
        "test_path = os.path.join(image_path,'test')"
      ]
    },
    {
      "cell_type": "code",
      "source": [
        "from keras.utils import to_categorical"
      ],
      "metadata": {
        "id": "iR08fbbegBNQ"
      },
      "execution_count": null,
      "outputs": []
    },
    {
      "cell_type": "code",
      "execution_count": null,
      "metadata": {
        "colab": {
          "base_uri": "https://localhost:8080/"
        },
        "id": "Gr_qziPC1FV_",
        "outputId": "55df5205-c063-4ef8-eaf7-efdce8553bed"
      },
      "outputs": [
        {
          "output_type": "stream",
          "name": "stdout",
          "text": [
            "Found 3663 images belonging to 4 classes.\n",
            "Found 1043 images belonging to 4 classes.\n",
            "Found 520 images belonging to 4 classes.\n"
          ]
        }
      ],
      "source": [
        "train_batches = ImageDataGenerator(preprocessing_function=tf.keras.applications.mobilenet.preprocess_input)\\\n",
        "              .flow_from_directory(directory= train_path,target_size=(224,224),batch_size=10, class_mode='categorical')\n",
        "\n",
        "valid_batches = ImageDataGenerator(preprocessing_function=tf.keras.applications.mobilenet.preprocess_input)\\\n",
        "              .flow_from_directory(directory= valid_path,target_size=(224,224),batch_size=10, class_mode='categorical')\n",
        "\n",
        "test_batches = ImageDataGenerator(preprocessing_function=tf.keras.applications.mobilenet.preprocess_input)\\\n",
        "              .flow_from_directory(directory= test_path,target_size=(224,224),batch_size=10, shuffle = False, class_mode='categorical')\n",
        ""
      ]
    },
    {
      "cell_type": "code",
      "source": [],
      "metadata": {
        "id": "88HNqrF_Boy-"
      },
      "execution_count": null,
      "outputs": []
    },
    {
      "cell_type": "markdown",
      "source": [
        ", class_mode='binary'\n",
        "\n",
        "\n",
        "\n"
      ],
      "metadata": {
        "id": "mWO1uZTZgSOs"
      }
    },
    {
      "cell_type": "code",
      "source": [
        "def data_count(batch):\n",
        "  classes_dict = {v:k for k,v in batch.class_indices.items()}\n",
        "  train_y = pd.DataFrame(np.concatenate([batch.next()[1] for i in range(batch.__len__())]) )\n",
        "  train_y.rename(classes_dict,axis=1,inplace=True)\n",
        "  return train_y.sum(axis=0).astype('int')"
      ],
      "metadata": {
        "id": "s1UYYyEVGYnt"
      },
      "execution_count": null,
      "outputs": []
    },
    {
      "cell_type": "code",
      "source": [
        "data_count(train_batches)"
      ],
      "metadata": {
        "colab": {
          "base_uri": "https://localhost:8080/"
        },
        "id": "K_Iyrzi0Bo3y",
        "outputId": "978925cf-c4d3-4eee-987c-320d4fb58087"
      },
      "execution_count": null,
      "outputs": [
        {
          "output_type": "execute_result",
          "data": {
            "text/plain": [
              "Mosaic_N          120\n",
              "blight_N         1120\n",
              "brownstreak_N    1686\n",
              "greenmite_N       737\n",
              "dtype: int64"
            ]
          },
          "metadata": {},
          "execution_count": 25
        }
      ]
    },
    {
      "cell_type": "code",
      "source": [
        "data_count(valid_batches)"
      ],
      "metadata": {
        "colab": {
          "base_uri": "https://localhost:8080/"
        },
        "id": "w67r8fAQLNqm",
        "outputId": "3402a7ab-1c25-43f2-d69b-f59a35a2e6ba"
      },
      "execution_count": null,
      "outputs": [
        {
          "output_type": "execute_result",
          "data": {
            "text/plain": [
              "Mosaic_N          33\n",
              "blight_N         319\n",
              "brownstreak_N    481\n",
              "greenmite_N      210\n",
              "dtype: int64"
            ]
          },
          "metadata": {},
          "execution_count": 26
        }
      ]
    },
    {
      "cell_type": "code",
      "source": [
        "data_count(test_batches)"
      ],
      "metadata": {
        "colab": {
          "base_uri": "https://localhost:8080/"
        },
        "id": "KGTp0j88LNtz",
        "outputId": "1574f2e4-0d0e-48ff-8757-9e5c515e49f2"
      },
      "execution_count": null,
      "outputs": [
        {
          "output_type": "execute_result",
          "data": {
            "text/plain": [
              "Mosaic_N          16\n",
              "blight_N         159\n",
              "brownstreak_N    240\n",
              "greenmite_N      105\n",
              "dtype: int64"
            ]
          },
          "metadata": {},
          "execution_count": 27
        }
      ]
    },
    {
      "cell_type": "code",
      "source": [],
      "metadata": {
        "id": "F4PHmwAYLUxV"
      },
      "execution_count": null,
      "outputs": []
    },
    {
      "cell_type": "code",
      "execution_count": null,
      "metadata": {
        "colab": {
          "base_uri": "https://localhost:8080/"
        },
        "id": "3ejySfq11Iav",
        "outputId": "c4b878b6-6b40-4531-efd6-9991e06efca5"
      },
      "outputs": [
        {
          "output_type": "stream",
          "name": "stdout",
          "text": [
            "Model: \"mobilenet_1.00_224\"\n",
            "_________________________________________________________________\n",
            " Layer (type)                Output Shape              Param #   \n",
            "=================================================================\n",
            " input_1 (InputLayer)        [(None, 224, 224, 3)]     0         \n",
            "                                                                 \n",
            " conv1 (Conv2D)              (None, 112, 112, 32)      864       \n",
            "                                                                 \n",
            " conv1_bn (BatchNormalizatio  (None, 112, 112, 32)     128       \n",
            " n)                                                              \n",
            "                                                                 \n",
            " conv1_relu (ReLU)           (None, 112, 112, 32)      0         \n",
            "                                                                 \n",
            " conv_dw_1 (DepthwiseConv2D)  (None, 112, 112, 32)     288       \n",
            "                                                                 \n",
            " conv_dw_1_bn (BatchNormaliz  (None, 112, 112, 32)     128       \n",
            " ation)                                                          \n",
            "                                                                 \n",
            " conv_dw_1_relu (ReLU)       (None, 112, 112, 32)      0         \n",
            "                                                                 \n",
            " conv_pw_1 (Conv2D)          (None, 112, 112, 64)      2048      \n",
            "                                                                 \n",
            " conv_pw_1_bn (BatchNormaliz  (None, 112, 112, 64)     256       \n",
            " ation)                                                          \n",
            "                                                                 \n",
            " conv_pw_1_relu (ReLU)       (None, 112, 112, 64)      0         \n",
            "                                                                 \n",
            " conv_pad_2 (ZeroPadding2D)  (None, 113, 113, 64)      0         \n",
            "                                                                 \n",
            " conv_dw_2 (DepthwiseConv2D)  (None, 56, 56, 64)       576       \n",
            "                                                                 \n",
            " conv_dw_2_bn (BatchNormaliz  (None, 56, 56, 64)       256       \n",
            " ation)                                                          \n",
            "                                                                 \n",
            " conv_dw_2_relu (ReLU)       (None, 56, 56, 64)        0         \n",
            "                                                                 \n",
            " conv_pw_2 (Conv2D)          (None, 56, 56, 128)       8192      \n",
            "                                                                 \n",
            " conv_pw_2_bn (BatchNormaliz  (None, 56, 56, 128)      512       \n",
            " ation)                                                          \n",
            "                                                                 \n",
            " conv_pw_2_relu (ReLU)       (None, 56, 56, 128)       0         \n",
            "                                                                 \n",
            " conv_dw_3 (DepthwiseConv2D)  (None, 56, 56, 128)      1152      \n",
            "                                                                 \n",
            " conv_dw_3_bn (BatchNormaliz  (None, 56, 56, 128)      512       \n",
            " ation)                                                          \n",
            "                                                                 \n",
            " conv_dw_3_relu (ReLU)       (None, 56, 56, 128)       0         \n",
            "                                                                 \n",
            " conv_pw_3 (Conv2D)          (None, 56, 56, 128)       16384     \n",
            "                                                                 \n",
            " conv_pw_3_bn (BatchNormaliz  (None, 56, 56, 128)      512       \n",
            " ation)                                                          \n",
            "                                                                 \n",
            " conv_pw_3_relu (ReLU)       (None, 56, 56, 128)       0         \n",
            "                                                                 \n",
            " conv_pad_4 (ZeroPadding2D)  (None, 57, 57, 128)       0         \n",
            "                                                                 \n",
            " conv_dw_4 (DepthwiseConv2D)  (None, 28, 28, 128)      1152      \n",
            "                                                                 \n",
            " conv_dw_4_bn (BatchNormaliz  (None, 28, 28, 128)      512       \n",
            " ation)                                                          \n",
            "                                                                 \n",
            " conv_dw_4_relu (ReLU)       (None, 28, 28, 128)       0         \n",
            "                                                                 \n",
            " conv_pw_4 (Conv2D)          (None, 28, 28, 256)       32768     \n",
            "                                                                 \n",
            " conv_pw_4_bn (BatchNormaliz  (None, 28, 28, 256)      1024      \n",
            " ation)                                                          \n",
            "                                                                 \n",
            " conv_pw_4_relu (ReLU)       (None, 28, 28, 256)       0         \n",
            "                                                                 \n",
            " conv_dw_5 (DepthwiseConv2D)  (None, 28, 28, 256)      2304      \n",
            "                                                                 \n",
            " conv_dw_5_bn (BatchNormaliz  (None, 28, 28, 256)      1024      \n",
            " ation)                                                          \n",
            "                                                                 \n",
            " conv_dw_5_relu (ReLU)       (None, 28, 28, 256)       0         \n",
            "                                                                 \n",
            " conv_pw_5 (Conv2D)          (None, 28, 28, 256)       65536     \n",
            "                                                                 \n",
            " conv_pw_5_bn (BatchNormaliz  (None, 28, 28, 256)      1024      \n",
            " ation)                                                          \n",
            "                                                                 \n",
            " conv_pw_5_relu (ReLU)       (None, 28, 28, 256)       0         \n",
            "                                                                 \n",
            " conv_pad_6 (ZeroPadding2D)  (None, 29, 29, 256)       0         \n",
            "                                                                 \n",
            " conv_dw_6 (DepthwiseConv2D)  (None, 14, 14, 256)      2304      \n",
            "                                                                 \n",
            " conv_dw_6_bn (BatchNormaliz  (None, 14, 14, 256)      1024      \n",
            " ation)                                                          \n",
            "                                                                 \n",
            " conv_dw_6_relu (ReLU)       (None, 14, 14, 256)       0         \n",
            "                                                                 \n",
            " conv_pw_6 (Conv2D)          (None, 14, 14, 512)       131072    \n",
            "                                                                 \n",
            " conv_pw_6_bn (BatchNormaliz  (None, 14, 14, 512)      2048      \n",
            " ation)                                                          \n",
            "                                                                 \n",
            " conv_pw_6_relu (ReLU)       (None, 14, 14, 512)       0         \n",
            "                                                                 \n",
            " conv_dw_7 (DepthwiseConv2D)  (None, 14, 14, 512)      4608      \n",
            "                                                                 \n",
            " conv_dw_7_bn (BatchNormaliz  (None, 14, 14, 512)      2048      \n",
            " ation)                                                          \n",
            "                                                                 \n",
            " conv_dw_7_relu (ReLU)       (None, 14, 14, 512)       0         \n",
            "                                                                 \n",
            " conv_pw_7 (Conv2D)          (None, 14, 14, 512)       262144    \n",
            "                                                                 \n",
            " conv_pw_7_bn (BatchNormaliz  (None, 14, 14, 512)      2048      \n",
            " ation)                                                          \n",
            "                                                                 \n",
            " conv_pw_7_relu (ReLU)       (None, 14, 14, 512)       0         \n",
            "                                                                 \n",
            " conv_dw_8 (DepthwiseConv2D)  (None, 14, 14, 512)      4608      \n",
            "                                                                 \n",
            " conv_dw_8_bn (BatchNormaliz  (None, 14, 14, 512)      2048      \n",
            " ation)                                                          \n",
            "                                                                 \n",
            " conv_dw_8_relu (ReLU)       (None, 14, 14, 512)       0         \n",
            "                                                                 \n",
            " conv_pw_8 (Conv2D)          (None, 14, 14, 512)       262144    \n",
            "                                                                 \n",
            " conv_pw_8_bn (BatchNormaliz  (None, 14, 14, 512)      2048      \n",
            " ation)                                                          \n",
            "                                                                 \n",
            " conv_pw_8_relu (ReLU)       (None, 14, 14, 512)       0         \n",
            "                                                                 \n",
            " conv_dw_9 (DepthwiseConv2D)  (None, 14, 14, 512)      4608      \n",
            "                                                                 \n",
            " conv_dw_9_bn (BatchNormaliz  (None, 14, 14, 512)      2048      \n",
            " ation)                                                          \n",
            "                                                                 \n",
            " conv_dw_9_relu (ReLU)       (None, 14, 14, 512)       0         \n",
            "                                                                 \n",
            " conv_pw_9 (Conv2D)          (None, 14, 14, 512)       262144    \n",
            "                                                                 \n",
            " conv_pw_9_bn (BatchNormaliz  (None, 14, 14, 512)      2048      \n",
            " ation)                                                          \n",
            "                                                                 \n",
            " conv_pw_9_relu (ReLU)       (None, 14, 14, 512)       0         \n",
            "                                                                 \n",
            " conv_dw_10 (DepthwiseConv2D  (None, 14, 14, 512)      4608      \n",
            " )                                                               \n",
            "                                                                 \n",
            " conv_dw_10_bn (BatchNormali  (None, 14, 14, 512)      2048      \n",
            " zation)                                                         \n",
            "                                                                 \n",
            " conv_dw_10_relu (ReLU)      (None, 14, 14, 512)       0         \n",
            "                                                                 \n",
            " conv_pw_10 (Conv2D)         (None, 14, 14, 512)       262144    \n",
            "                                                                 \n",
            " conv_pw_10_bn (BatchNormali  (None, 14, 14, 512)      2048      \n",
            " zation)                                                         \n",
            "                                                                 \n",
            " conv_pw_10_relu (ReLU)      (None, 14, 14, 512)       0         \n",
            "                                                                 \n",
            " conv_dw_11 (DepthwiseConv2D  (None, 14, 14, 512)      4608      \n",
            " )                                                               \n",
            "                                                                 \n",
            " conv_dw_11_bn (BatchNormali  (None, 14, 14, 512)      2048      \n",
            " zation)                                                         \n",
            "                                                                 \n",
            " conv_dw_11_relu (ReLU)      (None, 14, 14, 512)       0         \n",
            "                                                                 \n",
            " conv_pw_11 (Conv2D)         (None, 14, 14, 512)       262144    \n",
            "                                                                 \n",
            " conv_pw_11_bn (BatchNormali  (None, 14, 14, 512)      2048      \n",
            " zation)                                                         \n",
            "                                                                 \n",
            " conv_pw_11_relu (ReLU)      (None, 14, 14, 512)       0         \n",
            "                                                                 \n",
            " conv_pad_12 (ZeroPadding2D)  (None, 15, 15, 512)      0         \n",
            "                                                                 \n",
            " conv_dw_12 (DepthwiseConv2D  (None, 7, 7, 512)        4608      \n",
            " )                                                               \n",
            "                                                                 \n",
            " conv_dw_12_bn (BatchNormali  (None, 7, 7, 512)        2048      \n",
            " zation)                                                         \n",
            "                                                                 \n",
            " conv_dw_12_relu (ReLU)      (None, 7, 7, 512)         0         \n",
            "                                                                 \n",
            " conv_pw_12 (Conv2D)         (None, 7, 7, 1024)        524288    \n",
            "                                                                 \n",
            " conv_pw_12_bn (BatchNormali  (None, 7, 7, 1024)       4096      \n",
            " zation)                                                         \n",
            "                                                                 \n",
            " conv_pw_12_relu (ReLU)      (None, 7, 7, 1024)        0         \n",
            "                                                                 \n",
            " conv_dw_13 (DepthwiseConv2D  (None, 7, 7, 1024)       9216      \n",
            " )                                                               \n",
            "                                                                 \n",
            " conv_dw_13_bn (BatchNormali  (None, 7, 7, 1024)       4096      \n",
            " zation)                                                         \n",
            "                                                                 \n",
            " conv_dw_13_relu (ReLU)      (None, 7, 7, 1024)        0         \n",
            "                                                                 \n",
            " conv_pw_13 (Conv2D)         (None, 7, 7, 1024)        1048576   \n",
            "                                                                 \n",
            " conv_pw_13_bn (BatchNormali  (None, 7, 7, 1024)       4096      \n",
            " zation)                                                         \n",
            "                                                                 \n",
            " conv_pw_13_relu (ReLU)      (None, 7, 7, 1024)        0         \n",
            "                                                                 \n",
            " global_average_pooling2d (G  (None, 1, 1, 1024)       0         \n",
            " lobalAveragePooling2D)                                          \n",
            "                                                                 \n",
            " dropout (Dropout)           (None, 1, 1, 1024)        0         \n",
            "                                                                 \n",
            " conv_preds (Conv2D)         (None, 1, 1, 1000)        1025000   \n",
            "                                                                 \n",
            " reshape_2 (Reshape)         (None, 1000)              0         \n",
            "                                                                 \n",
            " predictions (Activation)    (None, 1000)              0         \n",
            "                                                                 \n",
            "=================================================================\n",
            "Total params: 4,253,864\n",
            "Trainable params: 4,231,976\n",
            "Non-trainable params: 21,888\n",
            "_________________________________________________________________\n"
          ]
        }
      ],
      "source": [
        "Home_model.summary()"
      ]
    },
    {
      "cell_type": "code",
      "execution_count": null,
      "metadata": {
        "colab": {
          "base_uri": "https://localhost:8080/"
        },
        "id": "RsT92LFW1Xf5",
        "outputId": "3e3db35c-edf8-41ec-81be-5e27fa0d2018"
      },
      "outputs": [
        {
          "output_type": "execute_result",
          "data": {
            "text/plain": [
              "91"
            ]
          },
          "metadata": {},
          "execution_count": 29
        }
      ],
      "source": [
        "len(Home_model.layers)"
      ]
    },
    {
      "cell_type": "code",
      "execution_count": null,
      "metadata": {
        "id": "xb8LZCC_1Xh9"
      },
      "outputs": [],
      "source": [
        "x = Home_model.layers[-5].output\n",
        "s2l = Reshape((-1,))(x)\n",
        "s2l = Model(inputs= Home_model.input,outputs = s2l)\n",
        "output = Dense(units=4,activation='sigmoid')(s2l.output)  ## sigmoid softmax\n"
      ]
    },
    {
      "cell_type": "code",
      "execution_count": null,
      "metadata": {
        "id": "CoNyDWzS1Xk9"
      },
      "outputs": [],
      "source": [
        "model = Model(inputs= Home_model.input,outputs = output)"
      ]
    },
    {
      "cell_type": "code",
      "source": [
        "for layer in  model.layers[:-23]:\n",
        "  layer.trainable=False"
      ],
      "metadata": {
        "id": "NBopzHy0TTAX"
      },
      "execution_count": null,
      "outputs": []
    },
    {
      "cell_type": "code",
      "execution_count": null,
      "metadata": {
        "colab": {
          "base_uri": "https://localhost:8080/"
        },
        "id": "vobj2gr71Xn5",
        "outputId": "f44446ca-a62c-4f55-bdbe-daa110f73849"
      },
      "outputs": [
        {
          "output_type": "stream",
          "name": "stdout",
          "text": [
            "Model: \"model_3\"\n",
            "_________________________________________________________________\n",
            " Layer (type)                Output Shape              Param #   \n",
            "=================================================================\n",
            " input_1 (InputLayer)        [(None, 224, 224, 3)]     0         \n",
            "                                                                 \n",
            " conv1 (Conv2D)              (None, 112, 112, 32)      864       \n",
            "                                                                 \n",
            " conv1_bn (BatchNormalizatio  (None, 112, 112, 32)     128       \n",
            " n)                                                              \n",
            "                                                                 \n",
            " conv1_relu (ReLU)           (None, 112, 112, 32)      0         \n",
            "                                                                 \n",
            " conv_dw_1 (DepthwiseConv2D)  (None, 112, 112, 32)     288       \n",
            "                                                                 \n",
            " conv_dw_1_bn (BatchNormaliz  (None, 112, 112, 32)     128       \n",
            " ation)                                                          \n",
            "                                                                 \n",
            " conv_dw_1_relu (ReLU)       (None, 112, 112, 32)      0         \n",
            "                                                                 \n",
            " conv_pw_1 (Conv2D)          (None, 112, 112, 64)      2048      \n",
            "                                                                 \n",
            " conv_pw_1_bn (BatchNormaliz  (None, 112, 112, 64)     256       \n",
            " ation)                                                          \n",
            "                                                                 \n",
            " conv_pw_1_relu (ReLU)       (None, 112, 112, 64)      0         \n",
            "                                                                 \n",
            " conv_pad_2 (ZeroPadding2D)  (None, 113, 113, 64)      0         \n",
            "                                                                 \n",
            " conv_dw_2 (DepthwiseConv2D)  (None, 56, 56, 64)       576       \n",
            "                                                                 \n",
            " conv_dw_2_bn (BatchNormaliz  (None, 56, 56, 64)       256       \n",
            " ation)                                                          \n",
            "                                                                 \n",
            " conv_dw_2_relu (ReLU)       (None, 56, 56, 64)        0         \n",
            "                                                                 \n",
            " conv_pw_2 (Conv2D)          (None, 56, 56, 128)       8192      \n",
            "                                                                 \n",
            " conv_pw_2_bn (BatchNormaliz  (None, 56, 56, 128)      512       \n",
            " ation)                                                          \n",
            "                                                                 \n",
            " conv_pw_2_relu (ReLU)       (None, 56, 56, 128)       0         \n",
            "                                                                 \n",
            " conv_dw_3 (DepthwiseConv2D)  (None, 56, 56, 128)      1152      \n",
            "                                                                 \n",
            " conv_dw_3_bn (BatchNormaliz  (None, 56, 56, 128)      512       \n",
            " ation)                                                          \n",
            "                                                                 \n",
            " conv_dw_3_relu (ReLU)       (None, 56, 56, 128)       0         \n",
            "                                                                 \n",
            " conv_pw_3 (Conv2D)          (None, 56, 56, 128)       16384     \n",
            "                                                                 \n",
            " conv_pw_3_bn (BatchNormaliz  (None, 56, 56, 128)      512       \n",
            " ation)                                                          \n",
            "                                                                 \n",
            " conv_pw_3_relu (ReLU)       (None, 56, 56, 128)       0         \n",
            "                                                                 \n",
            " conv_pad_4 (ZeroPadding2D)  (None, 57, 57, 128)       0         \n",
            "                                                                 \n",
            " conv_dw_4 (DepthwiseConv2D)  (None, 28, 28, 128)      1152      \n",
            "                                                                 \n",
            " conv_dw_4_bn (BatchNormaliz  (None, 28, 28, 128)      512       \n",
            " ation)                                                          \n",
            "                                                                 \n",
            " conv_dw_4_relu (ReLU)       (None, 28, 28, 128)       0         \n",
            "                                                                 \n",
            " conv_pw_4 (Conv2D)          (None, 28, 28, 256)       32768     \n",
            "                                                                 \n",
            " conv_pw_4_bn (BatchNormaliz  (None, 28, 28, 256)      1024      \n",
            " ation)                                                          \n",
            "                                                                 \n",
            " conv_pw_4_relu (ReLU)       (None, 28, 28, 256)       0         \n",
            "                                                                 \n",
            " conv_dw_5 (DepthwiseConv2D)  (None, 28, 28, 256)      2304      \n",
            "                                                                 \n",
            " conv_dw_5_bn (BatchNormaliz  (None, 28, 28, 256)      1024      \n",
            " ation)                                                          \n",
            "                                                                 \n",
            " conv_dw_5_relu (ReLU)       (None, 28, 28, 256)       0         \n",
            "                                                                 \n",
            " conv_pw_5 (Conv2D)          (None, 28, 28, 256)       65536     \n",
            "                                                                 \n",
            " conv_pw_5_bn (BatchNormaliz  (None, 28, 28, 256)      1024      \n",
            " ation)                                                          \n",
            "                                                                 \n",
            " conv_pw_5_relu (ReLU)       (None, 28, 28, 256)       0         \n",
            "                                                                 \n",
            " conv_pad_6 (ZeroPadding2D)  (None, 29, 29, 256)       0         \n",
            "                                                                 \n",
            " conv_dw_6 (DepthwiseConv2D)  (None, 14, 14, 256)      2304      \n",
            "                                                                 \n",
            " conv_dw_6_bn (BatchNormaliz  (None, 14, 14, 256)      1024      \n",
            " ation)                                                          \n",
            "                                                                 \n",
            " conv_dw_6_relu (ReLU)       (None, 14, 14, 256)       0         \n",
            "                                                                 \n",
            " conv_pw_6 (Conv2D)          (None, 14, 14, 512)       131072    \n",
            "                                                                 \n",
            " conv_pw_6_bn (BatchNormaliz  (None, 14, 14, 512)      2048      \n",
            " ation)                                                          \n",
            "                                                                 \n",
            " conv_pw_6_relu (ReLU)       (None, 14, 14, 512)       0         \n",
            "                                                                 \n",
            " conv_dw_7 (DepthwiseConv2D)  (None, 14, 14, 512)      4608      \n",
            "                                                                 \n",
            " conv_dw_7_bn (BatchNormaliz  (None, 14, 14, 512)      2048      \n",
            " ation)                                                          \n",
            "                                                                 \n",
            " conv_dw_7_relu (ReLU)       (None, 14, 14, 512)       0         \n",
            "                                                                 \n",
            " conv_pw_7 (Conv2D)          (None, 14, 14, 512)       262144    \n",
            "                                                                 \n",
            " conv_pw_7_bn (BatchNormaliz  (None, 14, 14, 512)      2048      \n",
            " ation)                                                          \n",
            "                                                                 \n",
            " conv_pw_7_relu (ReLU)       (None, 14, 14, 512)       0         \n",
            "                                                                 \n",
            " conv_dw_8 (DepthwiseConv2D)  (None, 14, 14, 512)      4608      \n",
            "                                                                 \n",
            " conv_dw_8_bn (BatchNormaliz  (None, 14, 14, 512)      2048      \n",
            " ation)                                                          \n",
            "                                                                 \n",
            " conv_dw_8_relu (ReLU)       (None, 14, 14, 512)       0         \n",
            "                                                                 \n",
            " conv_pw_8 (Conv2D)          (None, 14, 14, 512)       262144    \n",
            "                                                                 \n",
            " conv_pw_8_bn (BatchNormaliz  (None, 14, 14, 512)      2048      \n",
            " ation)                                                          \n",
            "                                                                 \n",
            " conv_pw_8_relu (ReLU)       (None, 14, 14, 512)       0         \n",
            "                                                                 \n",
            " conv_dw_9 (DepthwiseConv2D)  (None, 14, 14, 512)      4608      \n",
            "                                                                 \n",
            " conv_dw_9_bn (BatchNormaliz  (None, 14, 14, 512)      2048      \n",
            " ation)                                                          \n",
            "                                                                 \n",
            " conv_dw_9_relu (ReLU)       (None, 14, 14, 512)       0         \n",
            "                                                                 \n",
            " conv_pw_9 (Conv2D)          (None, 14, 14, 512)       262144    \n",
            "                                                                 \n",
            " conv_pw_9_bn (BatchNormaliz  (None, 14, 14, 512)      2048      \n",
            " ation)                                                          \n",
            "                                                                 \n",
            " conv_pw_9_relu (ReLU)       (None, 14, 14, 512)       0         \n",
            "                                                                 \n",
            " conv_dw_10 (DepthwiseConv2D  (None, 14, 14, 512)      4608      \n",
            " )                                                               \n",
            "                                                                 \n",
            " conv_dw_10_bn (BatchNormali  (None, 14, 14, 512)      2048      \n",
            " zation)                                                         \n",
            "                                                                 \n",
            " conv_dw_10_relu (ReLU)      (None, 14, 14, 512)       0         \n",
            "                                                                 \n",
            " conv_pw_10 (Conv2D)         (None, 14, 14, 512)       262144    \n",
            "                                                                 \n",
            " conv_pw_10_bn (BatchNormali  (None, 14, 14, 512)      2048      \n",
            " zation)                                                         \n",
            "                                                                 \n",
            " conv_pw_10_relu (ReLU)      (None, 14, 14, 512)       0         \n",
            "                                                                 \n",
            " conv_dw_11 (DepthwiseConv2D  (None, 14, 14, 512)      4608      \n",
            " )                                                               \n",
            "                                                                 \n",
            " conv_dw_11_bn (BatchNormali  (None, 14, 14, 512)      2048      \n",
            " zation)                                                         \n",
            "                                                                 \n",
            " conv_dw_11_relu (ReLU)      (None, 14, 14, 512)       0         \n",
            "                                                                 \n",
            " conv_pw_11 (Conv2D)         (None, 14, 14, 512)       262144    \n",
            "                                                                 \n",
            " conv_pw_11_bn (BatchNormali  (None, 14, 14, 512)      2048      \n",
            " zation)                                                         \n",
            "                                                                 \n",
            " conv_pw_11_relu (ReLU)      (None, 14, 14, 512)       0         \n",
            "                                                                 \n",
            " conv_pad_12 (ZeroPadding2D)  (None, 15, 15, 512)      0         \n",
            "                                                                 \n",
            " conv_dw_12 (DepthwiseConv2D  (None, 7, 7, 512)        4608      \n",
            " )                                                               \n",
            "                                                                 \n",
            " conv_dw_12_bn (BatchNormali  (None, 7, 7, 512)        2048      \n",
            " zation)                                                         \n",
            "                                                                 \n",
            " conv_dw_12_relu (ReLU)      (None, 7, 7, 512)         0         \n",
            "                                                                 \n",
            " conv_pw_12 (Conv2D)         (None, 7, 7, 1024)        524288    \n",
            "                                                                 \n",
            " conv_pw_12_bn (BatchNormali  (None, 7, 7, 1024)       4096      \n",
            " zation)                                                         \n",
            "                                                                 \n",
            " conv_pw_12_relu (ReLU)      (None, 7, 7, 1024)        0         \n",
            "                                                                 \n",
            " conv_dw_13 (DepthwiseConv2D  (None, 7, 7, 1024)       9216      \n",
            " )                                                               \n",
            "                                                                 \n",
            " conv_dw_13_bn (BatchNormali  (None, 7, 7, 1024)       4096      \n",
            " zation)                                                         \n",
            "                                                                 \n",
            " conv_dw_13_relu (ReLU)      (None, 7, 7, 1024)        0         \n",
            "                                                                 \n",
            " conv_pw_13 (Conv2D)         (None, 7, 7, 1024)        1048576   \n",
            "                                                                 \n",
            " conv_pw_13_bn (BatchNormali  (None, 7, 7, 1024)       4096      \n",
            " zation)                                                         \n",
            "                                                                 \n",
            " conv_pw_13_relu (ReLU)      (None, 7, 7, 1024)        0         \n",
            "                                                                 \n",
            " global_average_pooling2d (G  (None, 1, 1, 1024)       0         \n",
            " lobalAveragePooling2D)                                          \n",
            "                                                                 \n",
            " reshape_1 (Reshape)         (None, 1024)              0         \n",
            "                                                                 \n",
            " dense_1 (Dense)             (None, 4)                 4100      \n",
            "                                                                 \n",
            "=================================================================\n",
            "Total params: 3,232,964\n",
            "Trainable params: 1,866,756\n",
            "Non-trainable params: 1,366,208\n",
            "_________________________________________________________________\n"
          ]
        }
      ],
      "source": [
        "model.summary()"
      ]
    },
    {
      "cell_type": "code",
      "execution_count": null,
      "metadata": {
        "id": "e42yLvNV2NEX"
      },
      "outputs": [],
      "source": []
    },
    {
      "cell_type": "markdown",
      "metadata": {
        "id": "RVHtei-K2elW"
      },
      "source": [
        "# Train The Model"
      ]
    },
    {
      "cell_type": "code",
      "execution_count": null,
      "metadata": {
        "id": "APVsrZxN2gVi"
      },
      "outputs": [],
      "source": [
        "model.compile(\n",
        "    optimizer =Adam(learning_rate=0.0001),\n",
        "    loss='binary_crossentropy',\n",
        "    metrics=['accuracy',Recall(), Precision(),TruePositives(),TrueNegatives(), FalsePositives(),FalseNegatives()]\n",
        ")"
      ]
    },
    {
      "cell_type": "code",
      "execution_count": null,
      "metadata": {
        "id": "_ktNHJ60ftnK"
      },
      "outputs": [],
      "source": [
        "epochs=  20"
      ]
    },
    {
      "cell_type": "code",
      "source": [
        "train_labels = to_categorical(train_batches.classes)\n",
        "valid_labels = to_categorical(valid_batches.classes)\n",
        "train_labels"
      ],
      "metadata": {
        "colab": {
          "base_uri": "https://localhost:8080/"
        },
        "id": "UZ6IJEUGg2rq",
        "outputId": "68917e7f-514d-46bc-e546-3c6e2d1e0643"
      },
      "execution_count": null,
      "outputs": [
        {
          "output_type": "execute_result",
          "data": {
            "text/plain": [
              "array([[1., 0., 0., 0.],\n",
              "       [1., 0., 0., 0.],\n",
              "       [1., 0., 0., 0.],\n",
              "       ...,\n",
              "       [0., 0., 0., 1.],\n",
              "       [0., 0., 0., 1.],\n",
              "       [0., 0., 0., 1.]], dtype=float32)"
            ]
          },
          "metadata": {},
          "execution_count": 60
        }
      ]
    },
    {
      "cell_type": "code",
      "source": [
        "type(train_batches)"
      ],
      "metadata": {
        "colab": {
          "base_uri": "https://localhost:8080/"
        },
        "id": "c093lnxllO9q",
        "outputId": "67b33408-60f3-4d15-bcc3-8a45f75341b1"
      },
      "execution_count": null,
      "outputs": [
        {
          "output_type": "execute_result",
          "data": {
            "text/plain": [
              "keras.preprocessing.image.DirectoryIterator"
            ]
          },
          "metadata": {},
          "execution_count": 61
        }
      ]
    },
    {
      "cell_type": "code",
      "execution_count": null,
      "metadata": {
        "colab": {
          "base_uri": "https://localhost:8080/"
        },
        "id": "2Kui784a2hnY",
        "outputId": "fd24a18e-cb67-4f0c-c793-96b71d7e9f65"
      },
      "outputs": [
        {
          "output_type": "stream",
          "name": "stdout",
          "text": [
            "Epoch 1/20\n",
            "367/367 - 59s - loss: 0.4069 - accuracy: 0.5635 - recall_1: 0.4682 - precision_1: 0.5812 - true_positives_1: 1715.0000 - true_negatives_1: 9753.0000 - false_positives_1: 1236.0000 - false_negatives_1: 1948.0000 - val_loss: 0.5378 - val_accuracy: 0.4036 - val_recall_1: 0.3030 - val_precision_1: 0.4125 - val_true_positives_1: 316.0000 - val_true_negatives_1: 2679.0000 - val_false_positives_1: 450.0000 - val_false_negatives_1: 727.0000 - 59s/epoch - 161ms/step\n",
            "Epoch 2/20\n",
            "367/367 - 58s - loss: 0.3343 - accuracy: 0.6467 - recall_1: 0.5790 - precision_1: 0.6729 - true_positives_1: 2121.0000 - true_negatives_1: 9958.0000 - false_positives_1: 1031.0000 - false_negatives_1: 1542.0000 - val_loss: 0.5912 - val_accuracy: 0.3806 - val_recall_1: 0.3250 - val_precision_1: 0.3800 - val_true_positives_1: 339.0000 - val_true_negatives_1: 2576.0000 - val_false_positives_1: 553.0000 - val_false_negatives_1: 704.0000 - 58s/epoch - 159ms/step\n",
            "Epoch 3/20\n",
            "367/367 - 53s - loss: 0.3108 - accuracy: 0.6527 - recall_1: 0.6050 - precision_1: 0.6818 - true_positives_1: 2216.0000 - true_negatives_1: 9955.0000 - false_positives_1: 1034.0000 - false_negatives_1: 1447.0000 - val_loss: 0.6542 - val_accuracy: 0.4036 - val_recall_1: 0.3739 - val_precision_1: 0.4079 - val_true_positives_1: 390.0000 - val_true_negatives_1: 2563.0000 - val_false_positives_1: 566.0000 - val_false_negatives_1: 653.0000 - 53s/epoch - 143ms/step\n",
            "Epoch 4/20\n",
            "367/367 - 52s - loss: 0.2999 - accuracy: 0.6694 - recall_1: 0.6312 - precision_1: 0.6947 - true_positives_1: 2312.0000 - true_negatives_1: 9973.0000 - false_positives_1: 1016.0000 - false_negatives_1: 1351.0000 - val_loss: 0.7083 - val_accuracy: 0.3739 - val_recall_1: 0.3538 - val_precision_1: 0.3742 - val_true_positives_1: 369.0000 - val_true_negatives_1: 2512.0000 - val_false_positives_1: 617.0000 - val_false_negatives_1: 674.0000 - 52s/epoch - 142ms/step\n",
            "Epoch 5/20\n",
            "367/367 - 57s - loss: 0.2930 - accuracy: 0.6645 - recall_1: 0.6254 - precision_1: 0.6861 - true_positives_1: 2291.0000 - true_negatives_1: 9941.0000 - false_positives_1: 1048.0000 - false_negatives_1: 1372.0000 - val_loss: 0.8089 - val_accuracy: 0.3826 - val_recall_1: 0.3960 - val_precision_1: 0.3964 - val_true_positives_1: 413.0000 - val_true_negatives_1: 2500.0000 - val_false_positives_1: 629.0000 - val_false_negatives_1: 630.0000 - 57s/epoch - 156ms/step\n",
            "Epoch 6/20\n",
            "367/367 - 53s - loss: 0.2888 - accuracy: 0.6667 - recall_1: 0.6413 - precision_1: 0.6915 - true_positives_1: 2349.0000 - true_negatives_1: 9941.0000 - false_positives_1: 1048.0000 - false_negatives_1: 1314.0000 - val_loss: 0.7933 - val_accuracy: 0.3289 - val_recall_1: 0.2665 - val_precision_1: 0.3282 - val_true_positives_1: 278.0000 - val_true_negatives_1: 2560.0000 - val_false_positives_1: 569.0000 - val_false_negatives_1: 765.0000 - 53s/epoch - 143ms/step\n",
            "Epoch 7/20\n",
            "367/367 - 53s - loss: 0.2832 - accuracy: 0.6689 - recall_1: 0.6410 - precision_1: 0.6941 - true_positives_1: 2348.0000 - true_negatives_1: 9954.0000 - false_positives_1: 1035.0000 - false_negatives_1: 1315.0000 - val_loss: 0.7786 - val_accuracy: 0.3586 - val_recall_1: 0.3049 - val_precision_1: 0.3362 - val_true_positives_1: 318.0000 - val_true_negatives_1: 2501.0000 - val_false_positives_1: 628.0000 - val_false_negatives_1: 725.0000 - 53s/epoch - 145ms/step\n",
            "Epoch 8/20\n",
            "367/367 - 59s - loss: 0.2788 - accuracy: 0.6708 - recall_1: 0.6448 - precision_1: 0.6955 - true_positives_1: 2362.0000 - true_negatives_1: 9955.0000 - false_positives_1: 1034.0000 - false_negatives_1: 1301.0000 - val_loss: 0.7559 - val_accuracy: 0.3663 - val_recall_1: 0.3221 - val_precision_1: 0.3450 - val_true_positives_1: 336.0000 - val_true_negatives_1: 2491.0000 - val_false_positives_1: 638.0000 - val_false_negatives_1: 707.0000 - 59s/epoch - 160ms/step\n",
            "Epoch 9/20\n",
            "367/367 - 53s - loss: 0.2768 - accuracy: 0.6689 - recall_1: 0.6451 - precision_1: 0.6952 - true_positives_1: 2363.0000 - true_negatives_1: 9953.0000 - false_positives_1: 1036.0000 - false_negatives_1: 1300.0000 - val_loss: 0.8188 - val_accuracy: 0.3605 - val_recall_1: 0.3145 - val_precision_1: 0.3486 - val_true_positives_1: 328.0000 - val_true_negatives_1: 2516.0000 - val_false_positives_1: 613.0000 - val_false_negatives_1: 715.0000 - 53s/epoch - 144ms/step\n",
            "Epoch 10/20\n",
            "367/367 - 53s - loss: 0.2762 - accuracy: 0.6618 - recall_1: 0.6380 - precision_1: 0.6872 - true_positives_1: 2337.0000 - true_negatives_1: 9925.0000 - false_positives_1: 1064.0000 - false_negatives_1: 1326.0000 - val_loss: 0.7855 - val_accuracy: 0.3605 - val_recall_1: 0.3298 - val_precision_1: 0.3399 - val_true_positives_1: 344.0000 - val_true_negatives_1: 2461.0000 - val_false_positives_1: 668.0000 - val_false_negatives_1: 699.0000 - 53s/epoch - 143ms/step\n",
            "Epoch 11/20\n",
            "367/367 - 53s - loss: 0.2690 - accuracy: 0.6661 - recall_1: 0.6476 - precision_1: 0.6928 - true_positives_1: 2372.0000 - true_negatives_1: 9937.0000 - false_positives_1: 1052.0000 - false_negatives_1: 1291.0000 - val_loss: 0.8315 - val_accuracy: 0.3634 - val_recall_1: 0.3730 - val_precision_1: 0.3653 - val_true_positives_1: 389.0000 - val_true_negatives_1: 2453.0000 - val_false_positives_1: 676.0000 - val_false_negatives_1: 654.0000 - 53s/epoch - 144ms/step\n",
            "Epoch 12/20\n",
            "367/367 - 51s - loss: 0.2708 - accuracy: 0.6577 - recall_1: 0.6446 - precision_1: 0.6881 - true_positives_1: 2361.0000 - true_negatives_1: 9919.0000 - false_positives_1: 1070.0000 - false_negatives_1: 1302.0000 - val_loss: 0.7946 - val_accuracy: 0.3538 - val_recall_1: 0.2905 - val_precision_1: 0.3382 - val_true_positives_1: 303.0000 - val_true_negatives_1: 2536.0000 - val_false_positives_1: 593.0000 - val_false_negatives_1: 740.0000 - 51s/epoch - 140ms/step\n",
            "Epoch 13/20\n",
            "367/367 - 52s - loss: 0.2686 - accuracy: 0.6653 - recall_1: 0.6525 - precision_1: 0.6978 - true_positives_1: 2390.0000 - true_negatives_1: 9954.0000 - false_positives_1: 1035.0000 - false_negatives_1: 1273.0000 - val_loss: 0.8333 - val_accuracy: 0.3883 - val_recall_1: 0.3567 - val_precision_1: 0.3698 - val_true_positives_1: 372.0000 - val_true_negatives_1: 2495.0000 - val_false_positives_1: 634.0000 - val_false_negatives_1: 671.0000 - 52s/epoch - 140ms/step\n",
            "Epoch 14/20\n",
            "367/367 - 58s - loss: 0.2656 - accuracy: 0.6746 - recall_1: 0.6525 - precision_1: 0.6984 - true_positives_1: 2390.0000 - true_negatives_1: 9957.0000 - false_positives_1: 1032.0000 - false_negatives_1: 1273.0000 - val_loss: 0.8377 - val_accuracy: 0.3778 - val_recall_1: 0.3452 - val_precision_1: 0.3666 - val_true_positives_1: 360.0000 - val_true_negatives_1: 2507.0000 - val_false_positives_1: 622.0000 - val_false_negatives_1: 683.0000 - 58s/epoch - 159ms/step\n",
            "Epoch 15/20\n",
            "367/367 - 52s - loss: 0.2645 - accuracy: 0.6765 - recall_1: 0.6503 - precision_1: 0.7010 - true_positives_1: 2382.0000 - true_negatives_1: 9973.0000 - false_positives_1: 1016.0000 - false_negatives_1: 1281.0000 - val_loss: 0.7701 - val_accuracy: 0.3758 - val_recall_1: 0.3490 - val_precision_1: 0.3625 - val_true_positives_1: 364.0000 - val_true_negatives_1: 2489.0000 - val_false_positives_1: 640.0000 - val_false_negatives_1: 679.0000 - 52s/epoch - 142ms/step\n",
            "Epoch 16/20\n",
            "367/367 - 52s - loss: 0.2627 - accuracy: 0.6691 - recall_1: 0.6560 - precision_1: 0.6996 - true_positives_1: 2403.0000 - true_negatives_1: 9957.0000 - false_positives_1: 1032.0000 - false_negatives_1: 1260.0000 - val_loss: 0.8253 - val_accuracy: 0.3682 - val_recall_1: 0.3384 - val_precision_1: 0.3573 - val_true_positives_1: 353.0000 - val_true_negatives_1: 2494.0000 - val_false_positives_1: 635.0000 - val_false_negatives_1: 690.0000 - 52s/epoch - 143ms/step\n",
            "Epoch 17/20\n",
            "367/367 - 59s - loss: 0.2608 - accuracy: 0.6719 - recall_1: 0.6530 - precision_1: 0.6986 - true_positives_1: 2392.0000 - true_negatives_1: 9957.0000 - false_positives_1: 1032.0000 - false_negatives_1: 1271.0000 - val_loss: 0.8962 - val_accuracy: 0.3634 - val_recall_1: 0.3308 - val_precision_1: 0.3517 - val_true_positives_1: 345.0000 - val_true_negatives_1: 2493.0000 - val_false_positives_1: 636.0000 - val_false_negatives_1: 698.0000 - 59s/epoch - 160ms/step\n",
            "Epoch 18/20\n",
            "367/367 - 52s - loss: 0.2631 - accuracy: 0.6689 - recall_1: 0.6459 - precision_1: 0.6936 - true_positives_1: 2366.0000 - true_negatives_1: 9944.0000 - false_positives_1: 1045.0000 - false_negatives_1: 1297.0000 - val_loss: 0.8122 - val_accuracy: 0.3663 - val_recall_1: 0.3116 - val_precision_1: 0.3432 - val_true_positives_1: 325.0000 - val_true_negatives_1: 2507.0000 - val_false_positives_1: 622.0000 - val_false_negatives_1: 718.0000 - 52s/epoch - 142ms/step\n",
            "Epoch 19/20\n",
            "367/367 - 52s - loss: 0.2593 - accuracy: 0.6653 - recall_1: 0.6476 - precision_1: 0.6954 - true_positives_1: 2372.0000 - true_negatives_1: 9950.0000 - false_positives_1: 1039.0000 - false_negatives_1: 1291.0000 - val_loss: 0.9168 - val_accuracy: 0.3797 - val_recall_1: 0.3797 - val_precision_1: 0.3729 - val_true_positives_1: 396.0000 - val_true_negatives_1: 2463.0000 - val_false_positives_1: 666.0000 - val_false_negatives_1: 647.0000 - 52s/epoch - 143ms/step\n",
            "Epoch 20/20\n",
            "367/367 - 58s - loss: 0.2613 - accuracy: 0.6623 - recall_1: 0.6495 - precision_1: 0.6900 - true_positives_1: 2379.0000 - true_negatives_1: 9920.0000 - false_positives_1: 1069.0000 - false_negatives_1: 1284.0000 - val_loss: 0.7921 - val_accuracy: 0.3797 - val_recall_1: 0.3058 - val_precision_1: 0.3556 - val_true_positives_1: 319.0000 - val_true_negatives_1: 2551.0000 - val_false_positives_1: 578.0000 - val_false_negatives_1: 724.0000 - 58s/epoch - 159ms/step\n"
          ]
        }
      ],
      "source": [
        "History = model.fit(\n",
        "    train_batches,\n",
        "\n",
        "    validation_data = valid_batches,\n",
        "    epochs = epochs,\n",
        "    verbose=2,\n",
        "\n",
        "    )"
      ]
    },
    {
      "cell_type": "code",
      "execution_count": null,
      "metadata": {
        "id": "yzRyE_jb2zWK"
      },
      "outputs": [],
      "source": []
    },
    {
      "cell_type": "code",
      "execution_count": null,
      "metadata": {
        "id": "L_MAxQ3l21wD",
        "colab": {
          "base_uri": "https://localhost:8080/"
        },
        "outputId": "46a6e2af-774a-427e-df27-80cb9e421c31"
      },
      "outputs": [
        {
          "output_type": "execute_result",
          "data": {
            "text/plain": [
              "{'loss': [1.1601451635360718,\n",
              "  0.903500497341156,\n",
              "  0.8029628992080688,\n",
              "  0.7663958072662354,\n",
              "  0.7290693521499634,\n",
              "  0.722443699836731,\n",
              "  0.706504225730896,\n",
              "  0.7011103630065918,\n",
              "  0.6916917562484741,\n",
              "  0.6669007539749146,\n",
              "  0.6613993048667908,\n",
              "  0.6614077687263489,\n",
              "  0.6520191431045532,\n",
              "  0.6271476745605469,\n",
              "  0.6453755497932434,\n",
              "  0.6307166814804077,\n",
              "  0.6159552931785583,\n",
              "  0.6171227693557739,\n",
              "  0.6072274446487427,\n",
              "  0.6089116930961609],\n",
              " 'accuracy': [0.4572754502296448,\n",
              "  0.5806716084480286,\n",
              "  0.6224406361579895,\n",
              "  0.6238056421279907,\n",
              "  0.642642617225647,\n",
              "  0.647283673286438,\n",
              "  0.6461916565895081,\n",
              "  0.6440076231956482,\n",
              "  0.647283673286438,\n",
              "  0.6587496399879456,\n",
              "  0.664755642414093,\n",
              "  0.6560196280479431,\n",
              "  0.6516516804695129,\n",
              "  0.669396698474884,\n",
              "  0.6601146459579468,\n",
              "  0.6590226292610168,\n",
              "  0.6609336733818054,\n",
              "  0.661479651927948,\n",
              "  0.6655746698379517,\n",
              "  0.6644826531410217],\n",
              " 'recall': [0.3808353841304779,\n",
              "  0.5233415365219116,\n",
              "  0.5700245499610901,\n",
              "  0.5872235894203186,\n",
              "  0.6066066026687622,\n",
              "  0.6158885955810547,\n",
              "  0.6145235896110535,\n",
              "  0.6177996397018433,\n",
              "  0.6257166266441345,\n",
              "  0.6311766505241394,\n",
              "  0.6355446577072144,\n",
              "  0.6360906362533569,\n",
              "  0.628446638584137,\n",
              "  0.6497406363487244,\n",
              "  0.6396396160125732,\n",
              "  0.638274610042572,\n",
              "  0.6407316327095032,\n",
              "  0.6420966386795044,\n",
              "  0.6431886553764343,\n",
              "  0.6420966386795044],\n",
              " 'precision': [0.47352340817451477,\n",
              "  0.602830171585083,\n",
              "  0.6452410221099854,\n",
              "  0.6440119743347168,\n",
              "  0.6634816527366638,\n",
              "  0.6672582030296326,\n",
              "  0.6626434922218323,\n",
              "  0.6607299447059631,\n",
              "  0.6664727926254272,\n",
              "  0.6756283044815063,\n",
              "  0.6783216595649719,\n",
              "  0.6759501099586487,\n",
              "  0.6645496487617493,\n",
              "  0.684498131275177,\n",
              "  0.675995409488678,\n",
              "  0.6739694476127625,\n",
              "  0.6791087985038757,\n",
              "  0.6801619529724121,\n",
              "  0.6856810450553894,\n",
              "  0.6819368004798889],\n",
              " 'true_positives': [1395.0,\n",
              "  1917.0,\n",
              "  2088.0,\n",
              "  2151.0,\n",
              "  2222.0,\n",
              "  2256.0,\n",
              "  2251.0,\n",
              "  2263.0,\n",
              "  2292.0,\n",
              "  2312.0,\n",
              "  2328.0,\n",
              "  2330.0,\n",
              "  2302.0,\n",
              "  2380.0,\n",
              "  2343.0,\n",
              "  2338.0,\n",
              "  2347.0,\n",
              "  2352.0,\n",
              "  2356.0,\n",
              "  2352.0],\n",
              " 'true_negatives': [9438.0,\n",
              "  9726.0,\n",
              "  9841.0,\n",
              "  9800.0,\n",
              "  9862.0,\n",
              "  9864.0,\n",
              "  9843.0,\n",
              "  9827.0,\n",
              "  9842.0,\n",
              "  9879.0,\n",
              "  9885.0,\n",
              "  9872.0,\n",
              "  9827.0,\n",
              "  9892.0,\n",
              "  9866.0,\n",
              "  9858.0,\n",
              "  9880.0,\n",
              "  9883.0,\n",
              "  9909.0,\n",
              "  9892.0],\n",
              " 'false_positives': [1551.0,\n",
              "  1263.0,\n",
              "  1148.0,\n",
              "  1189.0,\n",
              "  1127.0,\n",
              "  1125.0,\n",
              "  1146.0,\n",
              "  1162.0,\n",
              "  1147.0,\n",
              "  1110.0,\n",
              "  1104.0,\n",
              "  1117.0,\n",
              "  1162.0,\n",
              "  1097.0,\n",
              "  1123.0,\n",
              "  1131.0,\n",
              "  1109.0,\n",
              "  1106.0,\n",
              "  1080.0,\n",
              "  1097.0],\n",
              " 'false_negatives': [2268.0,\n",
              "  1746.0,\n",
              "  1575.0,\n",
              "  1512.0,\n",
              "  1441.0,\n",
              "  1407.0,\n",
              "  1412.0,\n",
              "  1400.0,\n",
              "  1371.0,\n",
              "  1351.0,\n",
              "  1335.0,\n",
              "  1333.0,\n",
              "  1361.0,\n",
              "  1283.0,\n",
              "  1320.0,\n",
              "  1325.0,\n",
              "  1316.0,\n",
              "  1311.0,\n",
              "  1307.0,\n",
              "  1311.0],\n",
              " 'val_loss': [1.3535646200180054,\n",
              "  1.3614203929901123,\n",
              "  1.786706805229187,\n",
              "  1.7152243852615356,\n",
              "  2.067065954208374,\n",
              "  2.0419132709503174,\n",
              "  1.8175140619277954,\n",
              "  1.8160784244537354,\n",
              "  1.742762565612793,\n",
              "  1.8963038921356201,\n",
              "  1.8852251768112183,\n",
              "  1.917801022529602,\n",
              "  2.1593239307403564,\n",
              "  1.8989062309265137,\n",
              "  2.077126979827881,\n",
              "  1.8947793245315552,\n",
              "  1.9359127283096313,\n",
              "  1.9466454982757568,\n",
              "  1.983878493309021,\n",
              "  1.9439858198165894],\n",
              " 'val_accuracy': [0.48897412419319153,\n",
              "  0.3959731459617615,\n",
              "  0.45925214886665344,\n",
              "  0.35666346549987793,\n",
              "  0.34611696004867554,\n",
              "  0.38350909948349,\n",
              "  0.37200382351875305,\n",
              "  0.3557046949863434,\n",
              "  0.36816874146461487,\n",
              "  0.3221476376056671,\n",
              "  0.3662512004375458,\n",
              "  0.35953977704048157,\n",
              "  0.320230096578598,\n",
              "  0.358581006526947,\n",
              "  0.3413231074810028,\n",
              "  0.3576222360134125,\n",
              "  0.3691275119781494,\n",
              "  0.3691275119781494,\n",
              "  0.3662512004375458,\n",
              "  0.38063278794288635],\n",
              " 'val_recall': [0.4669223427772522,\n",
              "  0.3557046949863434,\n",
              "  0.45062321424484253,\n",
              "  0.32694151997566223,\n",
              "  0.32694151997566223,\n",
              "  0.3537871539592743,\n",
              "  0.36145734786987305,\n",
              "  0.3365292549133301,\n",
              "  0.3470757305622101,\n",
              "  0.3135187029838562,\n",
              "  0.34228187799453735,\n",
              "  0.34899330139160156,\n",
              "  0.28475549817085266,\n",
              "  0.3537871539592743,\n",
              "  0.3240652084350586,\n",
              "  0.32502397894859314,\n",
              "  0.35474592447280884,\n",
              "  0.35666346549987793,\n",
              "  0.3518696129322052,\n",
              "  0.3710450530052185],\n",
              " 'val_precision': [0.4944162368774414,\n",
              "  0.40904080867767334,\n",
              "  0.45988258719444275,\n",
              "  0.3597046434879303,\n",
              "  0.3461928963661194,\n",
              "  0.3871983289718628,\n",
              "  0.3758723735809326,\n",
              "  0.35963115096092224,\n",
              "  0.36602628231048584,\n",
              "  0.32897382974624634,\n",
              "  0.3635437786579132,\n",
              "  0.36146971583366394,\n",
              "  0.3159574568271637,\n",
              "  0.36176469922065735,\n",
              "  0.3403826653957367,\n",
              "  0.35571879148483276,\n",
              "  0.3666996955871582,\n",
              "  0.3731193542480469,\n",
              "  0.3651741147041321,\n",
              "  0.38241106271743774],\n",
              " 'val_true_positives': [487.0,\n",
              "  371.0,\n",
              "  470.0,\n",
              "  341.0,\n",
              "  341.0,\n",
              "  369.0,\n",
              "  377.0,\n",
              "  351.0,\n",
              "  362.0,\n",
              "  327.0,\n",
              "  357.0,\n",
              "  364.0,\n",
              "  297.0,\n",
              "  369.0,\n",
              "  338.0,\n",
              "  339.0,\n",
              "  370.0,\n",
              "  372.0,\n",
              "  367.0,\n",
              "  387.0],\n",
              " 'val_true_negatives': [2631.0,\n",
              "  2593.0,\n",
              "  2577.0,\n",
              "  2522.0,\n",
              "  2485.0,\n",
              "  2545.0,\n",
              "  2503.0,\n",
              "  2504.0,\n",
              "  2502.0,\n",
              "  2462.0,\n",
              "  2504.0,\n",
              "  2486.0,\n",
              "  2486.0,\n",
              "  2478.0,\n",
              "  2474.0,\n",
              "  2515.0,\n",
              "  2490.0,\n",
              "  2504.0,\n",
              "  2491.0,\n",
              "  2504.0],\n",
              " 'val_false_positives': [498.0,\n",
              "  536.0,\n",
              "  552.0,\n",
              "  607.0,\n",
              "  644.0,\n",
              "  584.0,\n",
              "  626.0,\n",
              "  625.0,\n",
              "  627.0,\n",
              "  667.0,\n",
              "  625.0,\n",
              "  643.0,\n",
              "  643.0,\n",
              "  651.0,\n",
              "  655.0,\n",
              "  614.0,\n",
              "  639.0,\n",
              "  625.0,\n",
              "  638.0,\n",
              "  625.0],\n",
              " 'val_false_negatives': [556.0,\n",
              "  672.0,\n",
              "  573.0,\n",
              "  702.0,\n",
              "  702.0,\n",
              "  674.0,\n",
              "  666.0,\n",
              "  692.0,\n",
              "  681.0,\n",
              "  716.0,\n",
              "  686.0,\n",
              "  679.0,\n",
              "  746.0,\n",
              "  674.0,\n",
              "  705.0,\n",
              "  704.0,\n",
              "  673.0,\n",
              "  671.0,\n",
              "  676.0,\n",
              "  656.0]}"
            ]
          },
          "metadata": {},
          "execution_count": 39
        }
      ],
      "source": [
        "History.history"
      ]
    },
    {
      "cell_type": "code",
      "source": [
        "import pandas as pd"
      ],
      "metadata": {
        "id": "x5ovHfNv17po"
      },
      "execution_count": null,
      "outputs": []
    },
    {
      "cell_type": "code",
      "source": [
        "history_df = pd.DataFrame(History.history)"
      ],
      "metadata": {
        "id": "M7R3zNdY17sd"
      },
      "execution_count": null,
      "outputs": []
    },
    {
      "cell_type": "code",
      "source": [
        "history_df.to_csv(os.path.join(home,'output',name_output+'.csv'))"
      ],
      "metadata": {
        "id": "fn8UDVeO2HsH"
      },
      "execution_count": null,
      "outputs": []
    },
    {
      "cell_type": "code",
      "source": [
        "this_model_name"
      ],
      "metadata": {
        "id": "iIAXGO102HvH",
        "colab": {
          "base_uri": "https://localhost:8080/",
          "height": 36
        },
        "outputId": "9bcf36d3-1a84-43e0-cb3e-817bfc6d2337"
      },
      "execution_count": null,
      "outputs": [
        {
          "output_type": "execute_result",
          "data": {
            "text/plain": [
              "'April_11.h5'"
            ],
            "application/vnd.google.colaboratory.intrinsic+json": {
              "type": "string"
            }
          },
          "metadata": {},
          "execution_count": 17
        }
      ]
    },
    {
      "cell_type": "markdown",
      "source": [
        "## Load Model"
      ],
      "metadata": {
        "id": "Z_GJ2eshBzVr"
      }
    },
    {
      "cell_type": "code",
      "source": [
        "model_path = os.path.join(home,'models',this_model_name)\n",
        "# home = '/content/drive/MyDrive/project/Tensorflow And Keras' #/content/drive/MyDrive/project/Project2.1/Script2_pure classification"
      ],
      "metadata": {
        "id": "aRvsvLmRB1mr"
      },
      "execution_count": null,
      "outputs": []
    },
    {
      "cell_type": "code",
      "source": [
        "loaded_model = keras.models.load_model(model_path)"
      ],
      "metadata": {
        "id": "v5Ek_KnKCEB-"
      },
      "execution_count": null,
      "outputs": []
    },
    {
      "cell_type": "code",
      "source": [
        "model = loaded_model"
      ],
      "metadata": {
        "id": "cFrxZpWZCWdS"
      },
      "execution_count": null,
      "outputs": []
    },
    {
      "cell_type": "markdown",
      "metadata": {
        "id": "F3ReMrmi25Fq"
      },
      "source": [
        "# Predict"
      ]
    },
    {
      "cell_type": "code",
      "execution_count": null,
      "metadata": {
        "id": "zm1BxZjR28xd"
      },
      "outputs": [],
      "source": []
    },
    {
      "cell_type": "code",
      "source": [
        "img = \"/content/train-cb_cgm- (3).jpg\"\n",
        "img = prepare_image(img)\n",
        "# img"
      ],
      "metadata": {
        "id": "liaC9uBOpHGI"
      },
      "execution_count": null,
      "outputs": []
    },
    {
      "cell_type": "code",
      "source": [
        "classes_dict = {v:k for k,v in test_batches.class_indices.items()}\n",
        "classes_dict"
      ],
      "metadata": {
        "colab": {
          "base_uri": "https://localhost:8080/"
        },
        "id": "jBGldF4_riLs",
        "outputId": "0ca3a2eb-2020-4711-b0ee-b1ad496b75dc"
      },
      "execution_count": null,
      "outputs": [
        {
          "output_type": "execute_result",
          "data": {
            "text/plain": [
              "{0: 'Mosaic_N', 1: 'blight_N', 2: 'brownstreak_N', 3: 'greenmite_N'}"
            ]
          },
          "metadata": {},
          "execution_count": 41
        }
      ]
    },
    {
      "cell_type": "code",
      "source": [
        "pred = model.predict(img)\n",
        "probs = pred[0].tolist()\n",
        "\n",
        "# Print the disease probabilities\n",
        "print(probs)"
      ],
      "metadata": {
        "colab": {
          "base_uri": "https://localhost:8080/"
        },
        "id": "TKXBmpXHpLnU",
        "outputId": "459bcc8a-c7ee-4b26-c9ee-a93391ce4434"
      },
      "execution_count": null,
      "outputs": [
        {
          "output_type": "stream",
          "name": "stdout",
          "text": [
            "1/1 [==============================] - 0s 35ms/step\n",
            "[0.01721510849893093, 0.5098218321800232, 0.0314774289727211, 0.6906486749649048]\n"
          ]
        }
      ]
    },
    {
      "cell_type": "code",
      "source": [],
      "metadata": {
        "id": "8YuhgUy7ti6s"
      },
      "execution_count": null,
      "outputs": []
    },
    {
      "cell_type": "code",
      "source": [],
      "metadata": {
        "id": "oKp0B2b8tjGh"
      },
      "execution_count": null,
      "outputs": []
    },
    {
      "cell_type": "code",
      "execution_count": null,
      "metadata": {
        "id": "Pc39O2kL21ze"
      },
      "outputs": [],
      "source": [
        "test_labels= test_batches.classes"
      ]
    },
    {
      "cell_type": "code",
      "source": [
        "x_test =  np.concatenate([test_batches.next()[0] for i in range(test_batches.__len__())])"
      ],
      "metadata": {
        "id": "1pLswqT0ZYxb"
      },
      "execution_count": null,
      "outputs": []
    },
    {
      "cell_type": "code",
      "source": [
        "predictions = model.predict(  x = x_test,verbose=0)"
      ],
      "metadata": {
        "id": "xknIwuTpZa1T"
      },
      "execution_count": null,
      "outputs": []
    },
    {
      "cell_type": "code",
      "source": [
        "dff = pd.DataFrame(predictions)"
      ],
      "metadata": {
        "id": "MqntPlxqEeOi"
      },
      "execution_count": null,
      "outputs": []
    },
    {
      "cell_type": "code",
      "source": [
        "dff['test'] = test_labels\n",
        "dff.head(10)"
      ],
      "metadata": {
        "colab": {
          "base_uri": "https://localhost:8080/",
          "height": 363
        },
        "id": "khTPiIovEeRh",
        "outputId": "24802ca3-2aee-47ef-ed34-be001ed7d9f1"
      },
      "execution_count": null,
      "outputs": [
        {
          "output_type": "execute_result",
          "data": {
            "text/plain": [
              "              0             1         2             3  test\n",
              "0  9.998465e-01  1.769902e-07  0.000143  1.001612e-05     0\n",
              "1  9.996089e-01  4.975902e-07  0.000383  7.537441e-06     0\n",
              "2  9.991946e-01  5.965278e-09  0.000805  4.685008e-08     0\n",
              "3  9.994639e-01  5.899682e-07  0.000532  3.052613e-06     0\n",
              "4  9.998662e-01  7.409365e-07  0.000005  1.280910e-04     0\n",
              "5  9.981810e-01  8.950511e-07  0.000029  1.789128e-03     0\n",
              "6  9.989567e-01  3.682499e-05  0.000102  9.048400e-04     0\n",
              "7  9.998772e-01  6.791831e-07  0.000024  9.835656e-05     0\n",
              "8  9.437779e-07  9.999617e-01  0.000019  1.841862e-05     1\n",
              "9  2.262162e-06  9.997405e-01  0.000124  1.329854e-04     1"
            ],
            "text/html": [
              "\n",
              "  <div id=\"df-8a632b88-8e44-4237-bc29-2bd0f0c37d0a\">\n",
              "    <div class=\"colab-df-container\">\n",
              "      <div>\n",
              "<style scoped>\n",
              "    .dataframe tbody tr th:only-of-type {\n",
              "        vertical-align: middle;\n",
              "    }\n",
              "\n",
              "    .dataframe tbody tr th {\n",
              "        vertical-align: top;\n",
              "    }\n",
              "\n",
              "    .dataframe thead th {\n",
              "        text-align: right;\n",
              "    }\n",
              "</style>\n",
              "<table border=\"1\" class=\"dataframe\">\n",
              "  <thead>\n",
              "    <tr style=\"text-align: right;\">\n",
              "      <th></th>\n",
              "      <th>0</th>\n",
              "      <th>1</th>\n",
              "      <th>2</th>\n",
              "      <th>3</th>\n",
              "      <th>test</th>\n",
              "    </tr>\n",
              "  </thead>\n",
              "  <tbody>\n",
              "    <tr>\n",
              "      <th>0</th>\n",
              "      <td>9.998465e-01</td>\n",
              "      <td>1.769902e-07</td>\n",
              "      <td>0.000143</td>\n",
              "      <td>1.001612e-05</td>\n",
              "      <td>0</td>\n",
              "    </tr>\n",
              "    <tr>\n",
              "      <th>1</th>\n",
              "      <td>9.996089e-01</td>\n",
              "      <td>4.975902e-07</td>\n",
              "      <td>0.000383</td>\n",
              "      <td>7.537441e-06</td>\n",
              "      <td>0</td>\n",
              "    </tr>\n",
              "    <tr>\n",
              "      <th>2</th>\n",
              "      <td>9.991946e-01</td>\n",
              "      <td>5.965278e-09</td>\n",
              "      <td>0.000805</td>\n",
              "      <td>4.685008e-08</td>\n",
              "      <td>0</td>\n",
              "    </tr>\n",
              "    <tr>\n",
              "      <th>3</th>\n",
              "      <td>9.994639e-01</td>\n",
              "      <td>5.899682e-07</td>\n",
              "      <td>0.000532</td>\n",
              "      <td>3.052613e-06</td>\n",
              "      <td>0</td>\n",
              "    </tr>\n",
              "    <tr>\n",
              "      <th>4</th>\n",
              "      <td>9.998662e-01</td>\n",
              "      <td>7.409365e-07</td>\n",
              "      <td>0.000005</td>\n",
              "      <td>1.280910e-04</td>\n",
              "      <td>0</td>\n",
              "    </tr>\n",
              "    <tr>\n",
              "      <th>5</th>\n",
              "      <td>9.981810e-01</td>\n",
              "      <td>8.950511e-07</td>\n",
              "      <td>0.000029</td>\n",
              "      <td>1.789128e-03</td>\n",
              "      <td>0</td>\n",
              "    </tr>\n",
              "    <tr>\n",
              "      <th>6</th>\n",
              "      <td>9.989567e-01</td>\n",
              "      <td>3.682499e-05</td>\n",
              "      <td>0.000102</td>\n",
              "      <td>9.048400e-04</td>\n",
              "      <td>0</td>\n",
              "    </tr>\n",
              "    <tr>\n",
              "      <th>7</th>\n",
              "      <td>9.998772e-01</td>\n",
              "      <td>6.791831e-07</td>\n",
              "      <td>0.000024</td>\n",
              "      <td>9.835656e-05</td>\n",
              "      <td>0</td>\n",
              "    </tr>\n",
              "    <tr>\n",
              "      <th>8</th>\n",
              "      <td>9.437779e-07</td>\n",
              "      <td>9.999617e-01</td>\n",
              "      <td>0.000019</td>\n",
              "      <td>1.841862e-05</td>\n",
              "      <td>1</td>\n",
              "    </tr>\n",
              "    <tr>\n",
              "      <th>9</th>\n",
              "      <td>2.262162e-06</td>\n",
              "      <td>9.997405e-01</td>\n",
              "      <td>0.000124</td>\n",
              "      <td>1.329854e-04</td>\n",
              "      <td>1</td>\n",
              "    </tr>\n",
              "  </tbody>\n",
              "</table>\n",
              "</div>\n",
              "      <button class=\"colab-df-convert\" onclick=\"convertToInteractive('df-8a632b88-8e44-4237-bc29-2bd0f0c37d0a')\"\n",
              "              title=\"Convert this dataframe to an interactive table.\"\n",
              "              style=\"display:none;\">\n",
              "        \n",
              "  <svg xmlns=\"http://www.w3.org/2000/svg\" height=\"24px\"viewBox=\"0 0 24 24\"\n",
              "       width=\"24px\">\n",
              "    <path d=\"M0 0h24v24H0V0z\" fill=\"none\"/>\n",
              "    <path d=\"M18.56 5.44l.94 2.06.94-2.06 2.06-.94-2.06-.94-.94-2.06-.94 2.06-2.06.94zm-11 1L8.5 8.5l.94-2.06 2.06-.94-2.06-.94L8.5 2.5l-.94 2.06-2.06.94zm10 10l.94 2.06.94-2.06 2.06-.94-2.06-.94-.94-2.06-.94 2.06-2.06.94z\"/><path d=\"M17.41 7.96l-1.37-1.37c-.4-.4-.92-.59-1.43-.59-.52 0-1.04.2-1.43.59L10.3 9.45l-7.72 7.72c-.78.78-.78 2.05 0 2.83L4 21.41c.39.39.9.59 1.41.59.51 0 1.02-.2 1.41-.59l7.78-7.78 2.81-2.81c.8-.78.8-2.07 0-2.86zM5.41 20L4 18.59l7.72-7.72 1.47 1.35L5.41 20z\"/>\n",
              "  </svg>\n",
              "      </button>\n",
              "      \n",
              "  <style>\n",
              "    .colab-df-container {\n",
              "      display:flex;\n",
              "      flex-wrap:wrap;\n",
              "      gap: 12px;\n",
              "    }\n",
              "\n",
              "    .colab-df-convert {\n",
              "      background-color: #E8F0FE;\n",
              "      border: none;\n",
              "      border-radius: 50%;\n",
              "      cursor: pointer;\n",
              "      display: none;\n",
              "      fill: #1967D2;\n",
              "      height: 32px;\n",
              "      padding: 0 0 0 0;\n",
              "      width: 32px;\n",
              "    }\n",
              "\n",
              "    .colab-df-convert:hover {\n",
              "      background-color: #E2EBFA;\n",
              "      box-shadow: 0px 1px 2px rgba(60, 64, 67, 0.3), 0px 1px 3px 1px rgba(60, 64, 67, 0.15);\n",
              "      fill: #174EA6;\n",
              "    }\n",
              "\n",
              "    [theme=dark] .colab-df-convert {\n",
              "      background-color: #3B4455;\n",
              "      fill: #D2E3FC;\n",
              "    }\n",
              "\n",
              "    [theme=dark] .colab-df-convert:hover {\n",
              "      background-color: #434B5C;\n",
              "      box-shadow: 0px 1px 3px 1px rgba(0, 0, 0, 0.15);\n",
              "      filter: drop-shadow(0px 1px 2px rgba(0, 0, 0, 0.3));\n",
              "      fill: #FFFFFF;\n",
              "    }\n",
              "  </style>\n",
              "\n",
              "      <script>\n",
              "        const buttonEl =\n",
              "          document.querySelector('#df-8a632b88-8e44-4237-bc29-2bd0f0c37d0a button.colab-df-convert');\n",
              "        buttonEl.style.display =\n",
              "          google.colab.kernel.accessAllowed ? 'block' : 'none';\n",
              "\n",
              "        async function convertToInteractive(key) {\n",
              "          const element = document.querySelector('#df-8a632b88-8e44-4237-bc29-2bd0f0c37d0a');\n",
              "          const dataTable =\n",
              "            await google.colab.kernel.invokeFunction('convertToInteractive',\n",
              "                                                     [key], {});\n",
              "          if (!dataTable) return;\n",
              "\n",
              "          const docLinkHtml = 'Like what you see? Visit the ' +\n",
              "            '<a target=\"_blank\" href=https://colab.research.google.com/notebooks/data_table.ipynb>data table notebook</a>'\n",
              "            + ' to learn more about interactive tables.';\n",
              "          element.innerHTML = '';\n",
              "          dataTable['output_type'] = 'display_data';\n",
              "          await google.colab.output.renderOutput(dataTable, element);\n",
              "          const docLink = document.createElement('div');\n",
              "          docLink.innerHTML = docLinkHtml;\n",
              "          element.appendChild(docLink);\n",
              "        }\n",
              "      </script>\n",
              "    </div>\n",
              "  </div>\n",
              "  "
            ]
          },
          "metadata": {},
          "execution_count": 27
        }
      ]
    },
    {
      "cell_type": "code",
      "source": [],
      "metadata": {
        "id": "zZSxuKgrEeUZ"
      },
      "execution_count": null,
      "outputs": []
    },
    {
      "cell_type": "markdown",
      "source": [
        "### Take prediction probabilities to a csv file"
      ],
      "metadata": {
        "id": "OeeD1E4eCyaW"
      }
    },
    {
      "cell_type": "code",
      "source": [
        "dff.to_csv(os.path.join(home,'output',name_output+'_prediction_probabilities.csv'))"
      ],
      "metadata": {
        "id": "avXmh9xQEeXB"
      },
      "execution_count": null,
      "outputs": []
    },
    {
      "cell_type": "code",
      "source": [],
      "metadata": {
        "id": "D_AL9xjYC4Yj"
      },
      "execution_count": null,
      "outputs": []
    },
    {
      "cell_type": "code",
      "source": [],
      "metadata": {
        "id": "wINUY3NhC4dm"
      },
      "execution_count": null,
      "outputs": []
    },
    {
      "cell_type": "markdown",
      "source": [
        "### Confusion Matrix"
      ],
      "metadata": {
        "id": "SIgDxYmTDJz4"
      }
    },
    {
      "cell_type": "code",
      "execution_count": null,
      "metadata": {
        "id": "wdm-GTVy2-xW"
      },
      "outputs": [],
      "source": [
        "cm = confusion_matrix(y_pred = np.argmax(predictions,axis=-1),y_true=test_labels)"
      ]
    },
    {
      "cell_type": "code",
      "source": [
        "conf_mat = pd.DataFrame(cm)\n",
        "classes_dict = {v:k for k,v in test_batches.class_indices.items()}\n",
        "conf_mat.rename(classes_dict,inplace=True,axis=0)\n",
        "conf_mat.rename(classes_dict,inplace=True,axis=1)\n",
        "conf_mat"
      ],
      "metadata": {
        "colab": {
          "base_uri": "https://localhost:8080/",
          "height": 175
        },
        "id": "EF254IyeCp6j",
        "outputId": "a33e0b31-64a6-4d7f-88ef-5319657362ad"
      },
      "execution_count": null,
      "outputs": [
        {
          "output_type": "execute_result",
          "data": {
            "text/plain": [
              "               Mosaic_N  blight_N  brownstreak_N  greenmite_N\n",
              "Mosaic_N              8         0              0            0\n",
              "blight_N              0        38              1            1\n",
              "brownstreak_N         0         0             86            1\n",
              "greenmite_N           0         0              0           35"
            ],
            "text/html": [
              "\n",
              "  <div id=\"df-f065f0fa-1ae1-4117-9d10-3b0939e8c8ed\">\n",
              "    <div class=\"colab-df-container\">\n",
              "      <div>\n",
              "<style scoped>\n",
              "    .dataframe tbody tr th:only-of-type {\n",
              "        vertical-align: middle;\n",
              "    }\n",
              "\n",
              "    .dataframe tbody tr th {\n",
              "        vertical-align: top;\n",
              "    }\n",
              "\n",
              "    .dataframe thead th {\n",
              "        text-align: right;\n",
              "    }\n",
              "</style>\n",
              "<table border=\"1\" class=\"dataframe\">\n",
              "  <thead>\n",
              "    <tr style=\"text-align: right;\">\n",
              "      <th></th>\n",
              "      <th>Mosaic_N</th>\n",
              "      <th>blight_N</th>\n",
              "      <th>brownstreak_N</th>\n",
              "      <th>greenmite_N</th>\n",
              "    </tr>\n",
              "  </thead>\n",
              "  <tbody>\n",
              "    <tr>\n",
              "      <th>Mosaic_N</th>\n",
              "      <td>8</td>\n",
              "      <td>0</td>\n",
              "      <td>0</td>\n",
              "      <td>0</td>\n",
              "    </tr>\n",
              "    <tr>\n",
              "      <th>blight_N</th>\n",
              "      <td>0</td>\n",
              "      <td>38</td>\n",
              "      <td>1</td>\n",
              "      <td>1</td>\n",
              "    </tr>\n",
              "    <tr>\n",
              "      <th>brownstreak_N</th>\n",
              "      <td>0</td>\n",
              "      <td>0</td>\n",
              "      <td>86</td>\n",
              "      <td>1</td>\n",
              "    </tr>\n",
              "    <tr>\n",
              "      <th>greenmite_N</th>\n",
              "      <td>0</td>\n",
              "      <td>0</td>\n",
              "      <td>0</td>\n",
              "      <td>35</td>\n",
              "    </tr>\n",
              "  </tbody>\n",
              "</table>\n",
              "</div>\n",
              "      <button class=\"colab-df-convert\" onclick=\"convertToInteractive('df-f065f0fa-1ae1-4117-9d10-3b0939e8c8ed')\"\n",
              "              title=\"Convert this dataframe to an interactive table.\"\n",
              "              style=\"display:none;\">\n",
              "        \n",
              "  <svg xmlns=\"http://www.w3.org/2000/svg\" height=\"24px\"viewBox=\"0 0 24 24\"\n",
              "       width=\"24px\">\n",
              "    <path d=\"M0 0h24v24H0V0z\" fill=\"none\"/>\n",
              "    <path d=\"M18.56 5.44l.94 2.06.94-2.06 2.06-.94-2.06-.94-.94-2.06-.94 2.06-2.06.94zm-11 1L8.5 8.5l.94-2.06 2.06-.94-2.06-.94L8.5 2.5l-.94 2.06-2.06.94zm10 10l.94 2.06.94-2.06 2.06-.94-2.06-.94-.94-2.06-.94 2.06-2.06.94z\"/><path d=\"M17.41 7.96l-1.37-1.37c-.4-.4-.92-.59-1.43-.59-.52 0-1.04.2-1.43.59L10.3 9.45l-7.72 7.72c-.78.78-.78 2.05 0 2.83L4 21.41c.39.39.9.59 1.41.59.51 0 1.02-.2 1.41-.59l7.78-7.78 2.81-2.81c.8-.78.8-2.07 0-2.86zM5.41 20L4 18.59l7.72-7.72 1.47 1.35L5.41 20z\"/>\n",
              "  </svg>\n",
              "      </button>\n",
              "      \n",
              "  <style>\n",
              "    .colab-df-container {\n",
              "      display:flex;\n",
              "      flex-wrap:wrap;\n",
              "      gap: 12px;\n",
              "    }\n",
              "\n",
              "    .colab-df-convert {\n",
              "      background-color: #E8F0FE;\n",
              "      border: none;\n",
              "      border-radius: 50%;\n",
              "      cursor: pointer;\n",
              "      display: none;\n",
              "      fill: #1967D2;\n",
              "      height: 32px;\n",
              "      padding: 0 0 0 0;\n",
              "      width: 32px;\n",
              "    }\n",
              "\n",
              "    .colab-df-convert:hover {\n",
              "      background-color: #E2EBFA;\n",
              "      box-shadow: 0px 1px 2px rgba(60, 64, 67, 0.3), 0px 1px 3px 1px rgba(60, 64, 67, 0.15);\n",
              "      fill: #174EA6;\n",
              "    }\n",
              "\n",
              "    [theme=dark] .colab-df-convert {\n",
              "      background-color: #3B4455;\n",
              "      fill: #D2E3FC;\n",
              "    }\n",
              "\n",
              "    [theme=dark] .colab-df-convert:hover {\n",
              "      background-color: #434B5C;\n",
              "      box-shadow: 0px 1px 3px 1px rgba(0, 0, 0, 0.15);\n",
              "      filter: drop-shadow(0px 1px 2px rgba(0, 0, 0, 0.3));\n",
              "      fill: #FFFFFF;\n",
              "    }\n",
              "  </style>\n",
              "\n",
              "      <script>\n",
              "        const buttonEl =\n",
              "          document.querySelector('#df-f065f0fa-1ae1-4117-9d10-3b0939e8c8ed button.colab-df-convert');\n",
              "        buttonEl.style.display =\n",
              "          google.colab.kernel.accessAllowed ? 'block' : 'none';\n",
              "\n",
              "        async function convertToInteractive(key) {\n",
              "          const element = document.querySelector('#df-f065f0fa-1ae1-4117-9d10-3b0939e8c8ed');\n",
              "          const dataTable =\n",
              "            await google.colab.kernel.invokeFunction('convertToInteractive',\n",
              "                                                     [key], {});\n",
              "          if (!dataTable) return;\n",
              "\n",
              "          const docLinkHtml = 'Like what you see? Visit the ' +\n",
              "            '<a target=\"_blank\" href=https://colab.research.google.com/notebooks/data_table.ipynb>data table notebook</a>'\n",
              "            + ' to learn more about interactive tables.';\n",
              "          element.innerHTML = '';\n",
              "          dataTable['output_type'] = 'display_data';\n",
              "          await google.colab.output.renderOutput(dataTable, element);\n",
              "          const docLink = document.createElement('div');\n",
              "          docLink.innerHTML = docLinkHtml;\n",
              "          element.appendChild(docLink);\n",
              "        }\n",
              "      </script>\n",
              "    </div>\n",
              "  </div>\n",
              "  "
            ]
          },
          "metadata": {},
          "execution_count": 30
        }
      ]
    },
    {
      "cell_type": "markdown",
      "source": [
        "### Take confusion matrix to a csv file"
      ],
      "metadata": {
        "id": "-eNyqOFmCsYr"
      }
    },
    {
      "cell_type": "code",
      "source": [
        "conf_mat.to_csv(os.path.join(home,'output',name_output+'_confusion_matix.csv'))\n"
      ],
      "metadata": {
        "id": "hhGrFobZCtD2"
      },
      "execution_count": null,
      "outputs": []
    },
    {
      "cell_type": "code",
      "source": [],
      "metadata": {
        "id": "DeBuwvRMCtHO"
      },
      "execution_count": null,
      "outputs": []
    },
    {
      "cell_type": "markdown",
      "source": [],
      "metadata": {
        "id": "2cSJ6YvpGMKg"
      }
    },
    {
      "cell_type": "code",
      "execution_count": null,
      "metadata": {
        "id": "CimzpyeM3A7R"
      },
      "outputs": [],
      "source": [
        "test_batches.class_indices"
      ]
    },
    {
      "cell_type": "code",
      "execution_count": null,
      "metadata": {
        "id": "tDagO6Ed3DLk"
      },
      "outputs": [],
      "source": [
        "cm_plot_labels = [i for i in test_batches.class_indices.keys()]"
      ]
    },
    {
      "cell_type": "code",
      "execution_count": null,
      "metadata": {
        "id": "H8ZJE3Eb3FPi"
      },
      "outputs": [],
      "source": [
        "plot_confusion_matrix(cm=cm,classes=cm_plot_labels,title = 'confusion matrix')"
      ]
    },
    {
      "cell_type": "code",
      "execution_count": null,
      "metadata": {
        "id": "FIZ-95263H82"
      },
      "outputs": [],
      "source": []
    },
    {
      "cell_type": "markdown",
      "source": [
        "### piclkle the variables"
      ],
      "metadata": {
        "id": "_X57d_rQGR7n"
      }
    },
    {
      "cell_type": "code",
      "execution_count": null,
      "metadata": {
        "id": "VJKSdcAGf5wl"
      },
      "outputs": [],
      "source": [
        "## piclkle the variables\n",
        "import pickle"
      ]
    },
    {
      "cell_type": "code",
      "source": [
        "pck_loc = os.path.join(home,'output','classes_dict'+'.pkl')"
      ],
      "metadata": {
        "id": "LfNYkQRNGWiW"
      },
      "execution_count": null,
      "outputs": []
    },
    {
      "cell_type": "code",
      "source": [],
      "metadata": {
        "id": "d7tUn-1-G595"
      },
      "execution_count": null,
      "outputs": []
    },
    {
      "cell_type": "code",
      "source": [
        "with open(pck_loc, 'wb') as file:\n",
        "\n",
        "    # A new file will be created\n",
        "    pickle.dump(classes_dict, file)"
      ],
      "metadata": {
        "id": "tplZ5dzqGWlt"
      },
      "execution_count": null,
      "outputs": []
    },
    {
      "cell_type": "code",
      "source": [],
      "metadata": {
        "id": "AkMS39yZHIut"
      },
      "execution_count": null,
      "outputs": []
    },
    {
      "cell_type": "markdown",
      "metadata": {
        "id": "fIUNlXLjf589"
      },
      "source": [
        "# Save Model"
      ]
    },
    {
      "cell_type": "code",
      "source": [],
      "metadata": {
        "id": "hSmGqAMHFd3W"
      },
      "execution_count": null,
      "outputs": []
    },
    {
      "cell_type": "code",
      "execution_count": null,
      "metadata": {
        "id": "A5CedI-WgJvm"
      },
      "outputs": [],
      "source": []
    },
    {
      "cell_type": "code",
      "execution_count": null,
      "metadata": {
        "id": "cAxzeP8bhS_c"
      },
      "outputs": [],
      "source": [
        "model.save(this_model_name)"
      ]
    },
    {
      "cell_type": "code",
      "execution_count": null,
      "metadata": {
        "id": "Ak0H4JRlf7nW"
      },
      "outputs": [],
      "source": [
        "model_path = os.path.join(home,'models')\n",
        "# home = '/content/drive/MyDrive/project/Tensorflow And Keras' #/content/drive/MyDrive/project/Project2.1/Script2_pure classification"
      ]
    },
    {
      "cell_type": "code",
      "execution_count": null,
      "metadata": {
        "id": "W50T2kEjf-mG",
        "colab": {
          "base_uri": "https://localhost:8080/",
          "height": 35
        },
        "outputId": "6e3b0fb0-3951-4b18-8abb-29a66a5c6102"
      },
      "outputs": [
        {
          "output_type": "execute_result",
          "data": {
            "text/plain": [
              "'/content/drive/MyDrive/project/Project2.1/Script2_pure classification/models/April_11.h5'"
            ],
            "application/vnd.google.colaboratory.intrinsic+json": {
              "type": "string"
            }
          },
          "metadata": {},
          "execution_count": 78
        }
      ],
      "source": [
        "shutil.move(this_model_name,model_path)"
      ]
    },
    {
      "cell_type": "code",
      "source": [],
      "metadata": {
        "id": "wswiDUk-D5nI"
      },
      "execution_count": null,
      "outputs": []
    },
    {
      "cell_type": "code",
      "execution_count": null,
      "metadata": {
        "id": "h5CteuOYgBeI"
      },
      "outputs": [],
      "source": []
    }
  ],
  "metadata": {
    "colab": {
      "provenance": [],
      "collapsed_sections": [
        "Z_GJ2eshBzVr"
      ],
      "include_colab_link": true
    },
    "kernelspec": {
      "display_name": "Python 3",
      "name": "python3"
    },
    "language_info": {
      "name": "python"
    },
    "accelerator": "GPU",
    "gpuClass": "standard"
  },
  "nbformat": 4,
  "nbformat_minor": 0
}